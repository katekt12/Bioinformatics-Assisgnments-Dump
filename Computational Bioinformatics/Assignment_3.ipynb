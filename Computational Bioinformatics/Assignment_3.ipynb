{
 "cells": [
  {
   "cell_type": "markdown",
   "metadata": {
    "deletable": false,
    "editable": false,
    "nbgrader": {
     "cell_type": "markdown",
     "checksum": "05efec7f9f1f8433cc4b7f3f44542ed9",
     "grade": false,
     "grade_id": "cell-945c701acf87112b",
     "locked": true,
     "schema_version": 3,
     "solution": false,
     "task": false
    }
   },
   "source": [
    "# COMP90016 - Assignment 3\n",
    "Version 1 Last edited 3/5/2024\n",
    "\n",
    "## Semester 1, 2024"
   ]
  },
  {
   "cell_type": "code",
   "execution_count": 1,
   "metadata": {},
   "outputs": [],
   "source": [
    "NAME = \"Keziah Tikno\"\n",
    "\n",
    "ID = \"1319716\""
   ]
  },
  {
   "cell_type": "markdown",
   "metadata": {
    "deletable": false,
    "editable": false,
    "nbgrader": {
     "cell_type": "markdown",
     "checksum": "27ef356750f0db65421d7e76c35de9c5",
     "grade": false,
     "grade_id": "cell-74b544a996fad338",
     "locked": true,
     "schema_version": 3,
     "solution": false,
     "task": false
    }
   },
   "source": [
    "## Semester 1, 2023"
   ]
  },
  {
   "cell_type": "markdown",
   "metadata": {
    "deletable": false,
    "editable": false,
    "nbgrader": {
     "cell_type": "markdown",
     "checksum": "966ba5209c2a2eb6664b0f2cd9f14440",
     "grade": false,
     "grade_id": "cell-925c75bea7b7a1ac",
     "locked": true,
     "schema_version": 3,
     "solution": false,
     "task": false
    }
   },
   "source": [
    "This assignment should be completed by each student individually. Make sure you read this entire document, and ask for help if anything is not clear. Any changes or clarifications to this document will be announced via the LMS.\n",
    "\n",
    "Please make sure you review the University's rules on academic integrity: https://academicintegrity.unimelb.edu.au/\n",
    "\n",
    "You submission must be your own work. Do not copy material from other students, from the internet or from AI tools. \n",
    "\n",
    "Your completed notebook file containing all your answers will be turned in via Canvas. Please also submit an HTML file with the output cleared.\n",
    "\n",
    "To complete the assignment, finish the tasks in this notebook.\n",
    "\n",
    "The tasks are a combination of writing your own code, interpreting the results and answering related short-answer questions.\n",
    "\n",
    "In some cases, we have provided test input and test output that you can use to try out your solutions. These tests are just samples and are **not** exhaustive - they may warn you if you've made a mistake, but they are not guaranteed to. It's up to you to decide whether your code is correct.\n",
    "\n",
    "**Remember to save your work early and often.**"
   ]
  },
  {
   "cell_type": "markdown",
   "metadata": {
    "deletable": false,
    "editable": false,
    "nbgrader": {
     "cell_type": "markdown",
     "checksum": "208472773da21575e02ca09f8974c65e",
     "grade": false,
     "grade_id": "cell-d8196ad77ddd5f64",
     "locked": true,
     "schema_version": 3,
     "solution": false,
     "task": false
    }
   },
   "source": [
    "## Marking\n",
    "\n",
    "Cells that must be completed to receive marks are clearly labelled. Some cells are code cells, in which you must complete the code to solve a problem. Others are markdown cells, in which you must write your answers to short-answer questions. \n",
    "\n",
    "Cells that must be completed to receive marks are labelled like this:\n",
    "\n",
    "`# -- GRADED CELL (1 mark) - complete this cell --`\n",
    "\n",
    "Some graded cells are code cells, in which you must complete the code to solve a problem. Other graded cells are markdown cells, in which you must write your answers to short-answer questions. \n",
    "\n",
    "You will see the following text in graded code cells:\n",
    "\n",
    "```\n",
    "# YOUR CODE HERE\n",
    "raise NotImplementedError()\n",
    "```\n",
    "\n",
    "***You must remove the `raise NotImplementedError()` line from the cell, and replace it with your solution.***\n",
    "\n",
    "Only add answers to graded cells. If you want to import a library or use a helper function, this must be included in a graded cell.\n",
    "\n",
    "Only graded cells will be marked.\n",
    "**Don't make changes outside graded cells, and don't add or remove cells from the notebook**.\n",
    "\n",
    ">Word limits, where stated, will be strictly enforced. Answers exceeding the limit **will not be marked**.\n",
    "\n",
    ">Run-time limits will be imposed for each coding question. The run-time of a code cell can be calculated by including `%time` at the top of your cell. Cells exceeding the run-time limit **will not be marked**. The run-time limits only apply to test cases that are included in this document.\n",
    "\n",
    "No marks are allocated to commenting in your code. We do however, encourage efficient and well-commented code.\n",
    "\n",
    "The total marks for the assignment add up to 100, and it will be worth 15% of your overall subject grade.\n",
    "\n",
    "Part 1: 25 marks\n",
    "\n",
    "Part 2: 40 marks\n",
    "\n",
    "Part 3: 35 marks"
   ]
  },
  {
   "cell_type": "markdown",
   "metadata": {
    "deletable": false,
    "editable": false,
    "nbgrader": {
     "cell_type": "markdown",
     "checksum": "06ec3de80a0dbbfc9bb2f52a2a0f1805",
     "grade": false,
     "grade_id": "cell-ce22ffc47f8b8e52",
     "locked": true,
     "schema_version": 3,
     "solution": false,
     "task": false
    }
   },
   "source": [
    "## Submitting\n",
    "\n",
    "Before you turn this assignment in, make sure everything runs as expected. First, **restart the kernel** (in the menubar, select Kernel$\\rightarrow$Restart) and then **run all cells** (in the menubar, select Cell$\\rightarrow$Run All).\n",
    "\n",
    "Make sure you fill in any place that says `YOUR CODE HERE` or \"YOUR ANSWER HERE\", as well as your name and student ID at the top of this notebook.\n",
    "\n",
    "\n",
    "Your completed notebook file containing all your answers must be turned in via LMS in `.ipynb` format.\n",
    "You must also submit a copy of this notebook in `html` format with the output cleared.\n",
    "You can do this by using the `clear all output` option in the menu.\n",
    "\n",
    "Your submission should include **only two** files with names formatted as: **Assignment_3.ipynb** and **Assignment_3.html**"
   ]
  },
  {
   "cell_type": "markdown",
   "metadata": {
    "deletable": false,
    "editable": false,
    "nbgrader": {
     "cell_type": "markdown",
     "checksum": "a47ff4427e19108431a6b06323d1f6e7",
     "grade": false,
     "grade_id": "cell-a93d4b2bae7d34e6",
     "locked": true,
     "schema_version": 3,
     "solution": false,
     "task": false
    }
   },
   "source": [
    "## Overview\n",
    "\n",
    "In this assignment, you will answer questions about multiple sequence alignment, phylogenetics and metagenomics.\n",
    "\n",
    "You will use the `biopython` library in your functions. You may want to refer to sections of the documentation for additional help. Additional to `biopython` and standard Python 3 functions and methods, you may also use any other library we have used in Computational Genomics including `collections`, `numpy`, `pandas`, `math`, `itertools`, `seaborn` and `matplotlib`.\n"
   ]
  },
  {
   "cell_type": "markdown",
   "metadata": {
    "deletable": false,
    "editable": false,
    "nbgrader": {
     "cell_type": "markdown",
     "checksum": "28ca9c1221ca0c22005be5a6990f7c3a",
     "grade": false,
     "grade_id": "cell-393e8f2590ac5657",
     "locked": true,
     "schema_version": 3,
     "solution": false,
     "task": false
    }
   },
   "source": [
    "# Setup"
   ]
  },
  {
   "cell_type": "code",
   "execution_count": 2,
   "metadata": {
    "deletable": false,
    "editable": false,
    "nbgrader": {
     "cell_type": "code",
     "checksum": "f5e102bfd578d446a2c0b68902791812",
     "grade": false,
     "grade_id": "cell-357f0a8777d18131",
     "locked": true,
     "schema_version": 3,
     "solution": false,
     "task": false
    }
   },
   "outputs": [
    {
     "name": "stderr",
     "output_type": "stream",
     "text": [
      "/Users/tiknokeziah/Desktop/Keziah/School/COMP90016/venv/lib/python3.9/site-packages/urllib3/__init__.py:35: NotOpenSSLWarning: urllib3 v2 only supports OpenSSL 1.1.1+, currently the 'ssl' module is compiled with 'LibreSSL 2.8.3'. See: https://github.com/urllib3/urllib3/issues/3020\n",
      "  warnings.warn(\n"
     ]
    }
   ],
   "source": [
    "import os\n",
    "import requests\n",
    "from IPython.core.display import HTML\n",
    "\n",
    "# Function to get data. DO NOT MODIFY!\n",
    "def fetch_file(url, outpath='.'):\n",
    "    response = requests.get(url)\n",
    "    if response.status_code == 200:\n",
    "        print('File found!')\n",
    "        # Get the filename from the URL\n",
    "        filename = os.path.basename(url).split('?', 1)[0]\n",
    "        # Construct the filepath using the specified directory and filename\n",
    "        filepath = os.path.join(outpath, filename)\n",
    "        # Create the directory if it doesn't exist\n",
    "        if not os.path.exists(outpath):\n",
    "            print(f'Creating output dir: {outpath}')\n",
    "            os.makedirs(outpath)\n",
    "        # Check if the file already exists in the specified directory\n",
    "        if os.path.exists(filepath):\n",
    "            print(f'{filename} already exists in {outpath}. Skip download.')\n",
    "        else:\n",
    "            with open(filepath, 'wb') as f:\n",
    "                f.write(response.content)\n",
    "                f.close()\n",
    "            print(f'Saved to: {filepath}')\n",
    "    else:\n",
    "        print(f'File not found: Code {response.status_code}')"
   ]
  },
  {
   "cell_type": "code",
   "execution_count": 3,
   "metadata": {
    "deletable": false,
    "editable": false,
    "nbgrader": {
     "cell_type": "code",
     "checksum": "1e15ad75a37cd3d8f68863e444749277",
     "grade": false,
     "grade_id": "cell-df614153be812613",
     "locked": true,
     "schema_version": 3,
     "solution": false,
     "task": false
    }
   },
   "outputs": [
    {
     "data": {
      "text/html": [
       "<style>h1 {\n",
       "    border: 3.0px solid #333;\n",
       "    padding: 12px 18px;\n",
       "    background-color: #C8D3FD;\n",
       "}\n",
       "\n",
       "h2 {\n",
       "    padding: 12px 18px;\n",
       "    background-color: #C8D3FD;\n",
       "}\n",
       "\n",
       ".question {\n",
       "    color: rgb(0, 96, 100);\n",
       "    background: rgb(178, 235, 242);\n",
       "    border: solid 1px rgb(77, 208, 225);\n",
       "    padding: 10px;\n",
       "}\n",
       "\n",
       ".info {\n",
       "    color: rgb(27, 94, 32);\n",
       "    background: rgb(200, 230, 201);\n",
       "    border: solid 1px rgb(129, 199, 132);\n",
       "    padding: 10px;\n",
       "}\n",
       "\n",
       "</style>"
      ],
      "text/plain": [
       "<IPython.core.display.HTML object>"
      ]
     },
     "execution_count": 3,
     "metadata": {},
     "output_type": "execute_result"
    }
   ],
   "source": [
    "# Make the notebook pretty\n",
    "HTML(requests.get('https://raw.githubusercontent.com/melbournebioinformatics/COMP90016/main/data/2023/style/custom.css').text)"
   ]
  },
  {
   "cell_type": "code",
   "execution_count": 4,
   "metadata": {
    "deletable": false,
    "editable": false,
    "nbgrader": {
     "cell_type": "code",
     "checksum": "8de3fdd982fce29a1710e46b4744ff6e",
     "grade": false,
     "grade_id": "cell-04e29879cc9319bd",
     "locked": true,
     "schema_version": 3,
     "solution": false,
     "task": false
    }
   },
   "outputs": [
    {
     "name": "stdout",
     "output_type": "stream",
     "text": [
      "File found!\n",
      "comp90016_assignment_3_tree.nwk already exists in data. Skip download.\n",
      "File found!\n",
      "comp90016_assignment_3_aln.fasta already exists in data. Skip download.\n"
     ]
    }
   ],
   "source": [
    "# Fetch assignment data\n",
    "f_names = [\"comp90016_assignment_3_tree.nwk\",\n",
    "          \"comp90016_assignment_3_aln.fasta\"]\n",
    "\n",
    "for filename in f_names:\n",
    "    url = f'https://github.com/melbournebioinformatics/COMP90016/blob/main/data/2024/Assignment_03/data/{filename}?raw=true'\n",
    "    fetch_file(url,'data')\n",
    "  "
   ]
  },
  {
   "cell_type": "markdown",
   "metadata": {
    "deletable": false,
    "editable": false,
    "nbgrader": {
     "cell_type": "markdown",
     "checksum": "6ec3bc590dcfe9dfc969fb8d0c84f76b",
     "grade": false,
     "grade_id": "cell-487e37c841515446",
     "locked": true,
     "schema_version": 3,
     "solution": false,
     "task": false
    }
   },
   "source": [
    "## Part 1: Multiple sequence alignment"
   ]
  },
  {
   "cell_type": "markdown",
   "metadata": {
    "deletable": false,
    "editable": false,
    "nbgrader": {
     "cell_type": "markdown",
     "checksum": "54f04b110d8ccbe45ee8191d31d9e1f2",
     "grade": false,
     "grade_id": "cell-7d81f8a488f35872",
     "locked": true,
     "schema_version": 3,
     "solution": false,
     "task": false
    },
    "tags": []
   },
   "source": [
    "### Setup"
   ]
  },
  {
   "cell_type": "markdown",
   "metadata": {
    "deletable": false,
    "editable": false,
    "nbgrader": {
     "cell_type": "markdown",
     "checksum": "257196f5ff985c06ca04d8cdbc973c0d",
     "grade": false,
     "grade_id": "cell-a69365bedc0d287a",
     "locked": true,
     "schema_version": 3,
     "solution": false,
     "task": false
    }
   },
   "source": [
    "We begin by using `biopython` to import an MSA of the *aphA-3* coding sequence from four different isolates of the bacterium *Enterococcus faecium* from a FASTA file."
   ]
  },
  {
   "cell_type": "code",
   "execution_count": 5,
   "metadata": {
    "deletable": false,
    "editable": false,
    "nbgrader": {
     "cell_type": "code",
     "checksum": "39721cdf74188d0e7c2339b5df6cd314",
     "grade": false,
     "grade_id": "cell-3f2c499eafd9b9a8",
     "locked": true,
     "schema_version": 3,
     "solution": false,
     "task": false
    }
   },
   "outputs": [],
   "source": [
    "from Bio import AlignIO\n",
    "from Bio.Align import MultipleSeqAlignment\n",
    "from Bio.Seq import Seq\n",
    "from Bio.SeqRecord import SeqRecord"
   ]
  },
  {
   "cell_type": "code",
   "execution_count": 6,
   "metadata": {
    "deletable": false,
    "editable": false,
    "nbgrader": {
     "cell_type": "code",
     "checksum": "421fa88cf41c83400e7c6aa283bff36d",
     "grade": false,
     "grade_id": "cell-3f2c499eafd9b9a9",
     "locked": true,
     "schema_version": 3,
     "solution": false,
     "task": false
    }
   },
   "outputs": [
    {
     "name": "stdout",
     "output_type": "stream",
     "text": [
      "4\n"
     ]
    },
    {
     "data": {
      "text/plain": [
       "786"
      ]
     },
     "execution_count": 6,
     "metadata": {},
     "output_type": "execute_result"
    }
   ],
   "source": [
    "# Import MSA into a Bio.Align.MultipleSeqAlignment object\n",
    "fname = 'data/comp90016_assignment_3_aln.fasta'\n",
    "seqs_aphA3 = AlignIO.read(fname, \"fasta\")\n",
    "msa_aphA3 = MultipleSeqAlignment(seqs_aphA3)\n",
    "\n",
    "# Print the number of aligned sequences\n",
    "print(len(msa_aphA3))\n",
    "\n",
    "# Print the alignment length\n",
    "msa_aphA3.get_alignment_length()"
   ]
  },
  {
   "cell_type": "code",
   "execution_count": 7,
   "metadata": {
    "deletable": false,
    "editable": false,
    "nbgrader": {
     "cell_type": "code",
     "checksum": "e408b984ded420a868fdb708cc4026bd",
     "grade": false,
     "grade_id": "cell-e50234a2b61664e1",
     "locked": true,
     "schema_version": 3,
     "solution": false,
     "task": false
    }
   },
   "outputs": [],
   "source": [
    "# Create demo MSAs for test input\n",
    "seqs_a = [SeqRecord(Seq('ACGT')), SeqRecord(Seq('AGGT')), SeqRecord(Seq('AC-T'))]\n",
    "seqs_b = [SeqRecord(Seq('GCGGATATGGCGAT')), SeqRecord(Seq('GCAGATCTGGCGA-')), SeqRecord(Seq('GCGCATATTGCG--'))]\n",
    "\n",
    "demo_msa_a = MultipleSeqAlignment(seqs_a)\n",
    "demo_msa_b = MultipleSeqAlignment(seqs_b)"
   ]
  },
  {
   "cell_type": "markdown",
   "metadata": {
    "deletable": false,
    "editable": false,
    "nbgrader": {
     "cell_type": "markdown",
     "checksum": "dc4daeb235c4c356bad9692545280e15",
     "grade": false,
     "grade_id": "cell-0bc8dc5279526c22",
     "locked": true,
     "schema_version": 3,
     "solution": false,
     "task": false
    },
    "tags": []
   },
   "source": [
    "### Questions\n",
    "In the cells below, complete the following tasks:"
   ]
  },
  {
   "cell_type": "markdown",
   "metadata": {
    "deletable": false,
    "editable": false,
    "nbgrader": {
     "cell_type": "markdown",
     "checksum": "bff23be089cf53a6c2285c6f268e9ded",
     "grade": false,
     "grade_id": "Q-1-1",
     "locked": true,
     "points": 5,
     "schema_version": 3,
     "solution": false,
     "task": true
    }
   },
   "source": [
    "<div class=\"question\">\n",
    "<h3>Question 1.1</h3>\n",
    "    \n",
    "(5 marks, max 100 words)\n",
    "\n",
    "The *Enterococcus faecium aphA-3* gene product confers resistance to the antibiotic kanamycin. Using the conding sequences provided, suggest why only isolate c is sensitive (not resistant) to kanamycin, despite having a copy of the *aphA-3* gene.\n",
    "\n",
    "</div>\n"
   ]
  },
  {
   "cell_type": "markdown",
   "metadata": {},
   "source": [
    "#### -- GRADED CELL (5 marks) - complete this cell -- \n",
    "\n",
    "Upon checking the sequence alignment of all the isolates in clustal, it was observed that isolate c contains two deletions. These deletions have the potential to cause a frameshift to the entire protein sequence because codons are composed of three bases. This disruption could be the reason why the kanamycin resistance gene aphA-3 is ineffective in isolate c, leading to its sensitivity to kanamycin. Isolate d also exhibits deletions, but they occur in a sequence of three, resulting in the absence of an amino acid. Despite this, the protein product of the aphA-3 gene remains functional."
   ]
  },
  {
   "cell_type": "markdown",
   "metadata": {
    "deletable": false,
    "editable": false,
    "nbgrader": {
     "cell_type": "markdown",
     "checksum": "852ad036deea18a9105cc4005b271383",
     "grade": false,
     "grade_id": "Q-1-2-info",
     "locked": true,
     "schema_version": 3,
     "solution": false,
     "task": false
    }
   },
   "source": [
    "<div class=\"info\">\n",
    "<h3> Question 1.2 </h3>\n",
    "\n",
    "(5 marks)  \n",
    "    \n",
    "Scoring schemes are very important when comparing sequence alignments.\n",
    "\n",
    "The Sum of Pairs (SP) score evaluates a multiple sequence alignment by examining each column and considering every possible pair of characters within that column. For each pair, a score is assigned, according to a predefined scoring system. This process is repeated for every column in the alignment. The scores for __all__ pairs in each column are then summed together to produce a total score for the alignment.\n",
    "    \n",
    "An example scoring system could be:\n",
    "\n",
    "- Match (A|A) = 1\n",
    "\n",
    "- Mismatch (A|T or A|-) = 0\n",
    "\n",
    "- Aligned gaps (-|-) = 0 \n",
    " \n",
    "<b>Challenge:</b> Write a python function to calculate the SP score for an MSA. \n",
    "\n",
    "- [ ] Input: \n",
    "    - a Bio.Align.MultipleSeqAlignment object (msa)\n",
    "    - a match, mismatch and aligned_gap scores as integers.\n",
    "- [ ] Output: an integer.\n",
    "- [ ] If the Bio.Align.MultipleSeqAlignment object contains 2 or fewer sequences, return None.\n",
    "\n",
    "</div>"
   ]
  },
  {
   "cell_type": "code",
   "execution_count": 8,
   "metadata": {
    "deletable": false,
    "nbgrader": {
     "cell_type": "code",
     "checksum": "121818c03c203c3035e6e7791900af73",
     "grade": false,
     "grade_id": "Q-1-2",
     "locked": false,
     "schema_version": 3,
     "solution": true,
     "task": false
    }
   },
   "outputs": [
    {
     "name": "stdout",
     "output_type": "stream",
     "text": [
      "CPU times: user 5 µs, sys: 3 µs, total: 8 µs\n",
      "Wall time: 4.77 µs\n"
     ]
    }
   ],
   "source": [
    "# GRADED CELL 1.2 (5 marks, max 1 min run-time)\n",
    "%time\n",
    "from itertools import combinations\n",
    "\n",
    "def sp_score(msa, match, mismatch, aligned_gap):\n",
    "    \"\"\"\n",
    "    Calculate the SP score for an MSA. \n",
    "    Input: \n",
    "        - a Bio.Align.MultipleSeqAlignment object (msa)\n",
    "        - a match, mismatch and aligned_gap scores as integers.\n",
    "    Output: an integer.\n",
    "    If the Bio.Align.MultipleSeqAlignment object contains 2 or fewer sequences, return None.\n",
    "    \"\"\"\n",
    "    \n",
    "    # YOUR CODE HERE\n",
    "    count = 0\n",
    "\n",
    "    num_seq = len(msa)\n",
    "    length = msa.get_alignment_length()\n",
    "    \n",
    "    for col in range(length):\n",
    "        base = msa[:,col]\n",
    "        \n",
    "        for p1,p2 in combinations(base, 2):\n",
    "            if p1 != '-' and p2 != '-' and p1==p2:\n",
    "                count += match\n",
    "            elif p1 == '-' and p2 == '-':\n",
    "                count += aligned_gap\n",
    "            else:\n",
    "                count += mismatch\n",
    "\n",
    "    return count"
   ]
  },
  {
   "cell_type": "code",
   "execution_count": 9,
   "metadata": {},
   "outputs": [
    {
     "name": "stdout",
     "output_type": "stream",
     "text": [
      "8\n",
      "29\n",
      "4683\n"
     ]
    }
   ],
   "source": [
    "# Test your function in this cell\n",
    "print(sp_score(demo_msa_a, 1, 0, 0)) # should output 8\n",
    "print(sp_score(demo_msa_b, 1, 0, 0)) # should output 29\n",
    "\n",
    "print(sp_score(msa_aphA3, 1, 0, 0))"
   ]
  },
  {
   "cell_type": "code",
   "execution_count": 10,
   "metadata": {
    "deletable": false,
    "editable": false,
    "nbgrader": {
     "cell_type": "code",
     "checksum": "b84030d1ed677f4f1102ba7d47d75ae5",
     "grade": true,
     "grade_id": "Q-1-2-tests",
     "locked": true,
     "points": 5,
     "schema_version": 3,
     "solution": false,
     "task": false
    }
   },
   "outputs": [],
   "source": [
    "# --- AUTOGRADING CELL DO NOT EDIT ----\n"
   ]
  },
  {
   "cell_type": "markdown",
   "metadata": {
    "deletable": false,
    "editable": false,
    "nbgrader": {
     "cell_type": "markdown",
     "checksum": "f212097b78b44e688650391f8d814ac7",
     "grade": false,
     "grade_id": "Q-1-3-info",
     "locked": true,
     "schema_version": 3,
     "solution": false,
     "task": false
    }
   },
   "source": [
    "<div class=\"info\">\n",
    "<h3> Question 1.3 </h3>\n",
    "\n",
    "(5 marks)  \n",
    "    \n",
    "An alternate scoring system is the minimum entropy score, which assesses the quality of a multiple sequence alignment by calculating a score for each column in the alignment. The score for each column is derived using the following entropy-based formula.\n",
    "    \n",
    "# <center>$-\\sum _i c_i \\times log_2(\\frac{c_i}{C})$</center>    \n",
    "\n",
    "Where $c_i$ is the number of occurrences of character $i$ in a column and $C$ is the number of sequences in the MSA.\n",
    "    \n",
    "The score for each column reflects the diversity of characters at that position; a completely conserved column (where all characters are the same) yields a score of 0. The total alignment score is calculated by summing the scores from all columns. With this scoring system, a lower score indicates a better alignment.\n",
    "\n",
    "<b>Challenge:</b> Write a python function to calculate the minimum entropy score for an MSA.\n",
    "\n",
    "- [ ] Input: a Bio.Align.MultipleSeqAlignment object (msa).\n",
    "- [ ] Output: a floating point number (no rounding).\n",
    "- [ ] If the Bio.Align.MultipleSeqAlignment object contains 2 or fewer sequences, return None.\n",
    "- [ ] Treat a gap the same as any other character.\n",
    "\n",
    "</div>"
   ]
  },
  {
   "cell_type": "code",
   "execution_count": 11,
   "metadata": {
    "deletable": false,
    "nbgrader": {
     "cell_type": "code",
     "checksum": "3a700d62ab3c0660ef2a206eb9c9529f",
     "grade": false,
     "grade_id": "Q-1-3",
     "locked": false,
     "schema_version": 3,
     "solution": true,
     "task": false
    }
   },
   "outputs": [
    {
     "name": "stdout",
     "output_type": "stream",
     "text": [
      "CPU times: user 5 µs, sys: 4 µs, total: 9 µs\n",
      "Wall time: 31.9 µs\n"
     ]
    }
   ],
   "source": [
    "# GRADED CELL 1.3 (5 marks, max 1 min run-time)\n",
    "%time\n",
    "import math\n",
    "from collections import Counter\n",
    "def mes_score(msa):\n",
    "    \"\"\"\n",
    "    Calculate the minimum entropy score for an MSA. \n",
    "    Input: a Bio.Align.MultipleSeqAlignment object (msa).\n",
    "    Output: a floating point number.\n",
    "    If the Bio.Align.MultipleSeqAlignment object contains 2 or fewer sequences, return None.\n",
    "    Treat a gap the same as any other character.\n",
    "    \"\"\"\n",
    "    \n",
    "    # YOUR CODE HERE\n",
    "    count = 0\n",
    "\n",
    "    num_seq = len(msa)\n",
    "    length = msa.get_alignment_length()\n",
    "    \n",
    "    for col in range(length):\n",
    "        base = msa[:,col]\n",
    "        base_dict = Counter(base)\n",
    "    \n",
    "        for key,value in base_dict.items():\n",
    "            \n",
    "            formula = -(value * math.log2(value / num_seq))\n",
    "            count += formula\n",
    "\n",
    "    return round(count, 2)"
   ]
  },
  {
   "cell_type": "code",
   "execution_count": 12,
   "metadata": {},
   "outputs": [
    {
     "name": "stdout",
     "output_type": "stream",
     "text": [
      "5.51\n",
      "16.53\n",
      "32.23\n"
     ]
    }
   ],
   "source": [
    "# Test your function in this cell\n",
    "print(mes_score(demo_msa_a)) # should output ~ 5.51\n",
    "print(mes_score(demo_msa_b)) # should output ~ 16.53\n",
    "\n",
    "print(mes_score(msa_aphA3))"
   ]
  },
  {
   "cell_type": "code",
   "execution_count": 13,
   "metadata": {
    "deletable": false,
    "editable": false,
    "nbgrader": {
     "cell_type": "code",
     "checksum": "76e1065fa18cbb8ac4faf0963f05a883",
     "grade": true,
     "grade_id": "Q-1-3-tests",
     "locked": true,
     "points": 5,
     "schema_version": 3,
     "solution": false,
     "task": false
    }
   },
   "outputs": [],
   "source": [
    "# --- AUTOGRADING CELL DO NOT EDIT ----\n"
   ]
  },
  {
   "cell_type": "markdown",
   "metadata": {
    "deletable": false,
    "editable": false,
    "nbgrader": {
     "cell_type": "markdown",
     "checksum": "e231d665c949b284c25a59b9baadc061",
     "grade": false,
     "grade_id": "Q-1-4",
     "locked": true,
     "points": 10,
     "schema_version": 3,
     "solution": false,
     "task": true
    }
   },
   "source": [
    "<div class=\"question\">\n",
    "<h3>Question 1.4</h3>\n",
    "    \n",
    "(10 marks, max 100 words)\n",
    "\n",
    "If you were going to choose one of these scoring systems to use in an MSA tool, which would you choose? Justify your choice with reference to the algorithms.\n",
    "\n",
    "</div>\n"
   ]
  },
  {
   "cell_type": "markdown",
   "metadata": {},
   "source": [
    "#### -- GRADED CELL (10 marks) - complete this cell -- \n",
    "\n",
    "If the goal is to pinpoint conserved areas or functional motifs, opting the minimum entropy score is ideal. This metric focuses solely on the degree of conservation or divergence among the sequences, disregarding the specific bases involved. It is shown in how the formula calculates the score. It just takes each character's occurrences and count it. Conversely, for tasks like assessing pairwise difference in phylogenetic studies or detecting mutations, the SP score is better suited. It penalises mismatches and gaps based on the sequence bases, providing a more nuanced evaluation."
   ]
  },
  {
   "cell_type": "markdown",
   "metadata": {
    "deletable": false,
    "editable": false,
    "nbgrader": {
     "cell_type": "markdown",
     "checksum": "64374c142cb4da89eb0d4bad7ad760d8",
     "grade": false,
     "grade_id": "cell-82695d9cb875747b",
     "locked": true,
     "schema_version": 3,
     "solution": false,
     "task": false
    }
   },
   "source": [
    "## Part 2: Phylogenetics"
   ]
  },
  {
   "cell_type": "markdown",
   "metadata": {
    "deletable": false,
    "editable": false,
    "nbgrader": {
     "cell_type": "markdown",
     "checksum": "f2f5655eea9a810e9f9c19c65212846d",
     "grade": false,
     "grade_id": "cell-aad4a332ad153c33",
     "locked": true,
     "schema_version": 3,
     "solution": false,
     "task": false
    }
   },
   "source": [
    "The questions in part two relate to [this 2021 paper](https://www.sciencedirect.com/science/article/abs/pii/S1055790321001147)  \n",
    "\n",
    ">Esquerré, D., Donnellan, S. C., Pavón-Vázquez, C. J., Fenker, J. & Keogh, J. S. Phylogeography, historical demography and systematics of the world’s smallest pythons (Pythonidae, Antaresia). Molecular Phylogenetics and Evolution 161, 107181 (2021)."
   ]
  },
  {
   "cell_type": "markdown",
   "metadata": {},
   "source": [
    "?≥We will also be using `biopython` to read in phlogenetic trees as `Newick.Tree` objects."
   ]
  },
  {
   "cell_type": "code",
   "execution_count": 14,
   "metadata": {
    "deletable": false,
    "editable": false,
    "nbgrader": {
     "cell_type": "code",
     "checksum": "f640ed74b8f6c4436fbeb992b9ac4334",
     "grade": false,
     "grade_id": "cell-e37ec9da1d29d9bc",
     "locked": true,
     "schema_version": 3,
     "solution": false,
     "task": false
    }
   },
   "outputs": [],
   "source": [
    "from Bio import Phylo"
   ]
  },
  {
   "cell_type": "markdown",
   "metadata": {
    "deletable": false,
    "editable": false,
    "nbgrader": {
     "cell_type": "markdown",
     "checksum": "be739b6b0cbb76766a4265b0896a069f",
     "grade": false,
     "grade_id": "cell-7e4e7f76625acce3",
     "locked": true,
     "schema_version": 3,
     "solution": false,
     "task": false
    }
   },
   "source": [
    "The Newick file we will be using includes a phylogenetic tree of the mitochondrial cytochrome b genes from a subset of the  *Antaresia* samples. "
   ]
  },
  {
   "cell_type": "code",
   "execution_count": 15,
   "metadata": {
    "scrolled": true
   },
   "outputs": [],
   "source": [
    "# Import the gene tree.\n",
    "cyt_b_tree = Phylo.read(\"data/comp90016_assignment_3_tree.nwk\", \"newick\")\n",
    "cyt_b_tree.root_at_midpoint()\n",
    "#print(cyt_b_tree)"
   ]
  },
  {
   "cell_type": "markdown",
   "metadata": {
    "deletable": false,
    "editable": false,
    "nbgrader": {
     "cell_type": "markdown",
     "checksum": "4f76a42aaaf124ee8b9b626e0496ff05",
     "grade": false,
     "grade_id": "cell-5f16e254bfa0c7c4",
     "locked": true,
     "schema_version": 3,
     "solution": false,
     "task": false
    },
    "tags": []
   },
   "source": [
    "### Questions\n",
    "In the cells below, complete the following tasks:"
   ]
  },
  {
   "cell_type": "markdown",
   "metadata": {
    "deletable": false,
    "editable": false,
    "nbgrader": {
     "cell_type": "markdown",
     "checksum": "3fb3fcbb3eff61cd9f10211fc7006b51",
     "grade": false,
     "grade_id": "Q-2-1",
     "locked": true,
     "points": 5,
     "schema_version": 3,
     "solution": false,
     "task": true
    }
   },
   "source": [
    "<div class=\"question\">\n",
    "<h3>Question 2.1</h3>\n",
    "\n",
    "(5 marks, max 50 words)\n",
    "    \n",
    "Suggest why *Morelia bredli* was used as an outgroup in the phylogenetic analyses. \n",
    "\n",
    "</div>\n"
   ]
  },
  {
   "cell_type": "markdown",
   "metadata": {},
   "source": [
    "-- GRADED CELL (5 marks) - complete this cell --\n",
    "\n",
    "Because Morelia is a distantly related species and to study evolutionary distances more accurately within Pythonidae and Antaresia. It will help to estimate the divergence times and evolutionary rates while clarifying the branching patterns in the evolutionary history of Pythonidae and Antaresia species. "
   ]
  },
  {
   "cell_type": "markdown",
   "metadata": {
    "deletable": false,
    "editable": false,
    "nbgrader": {
     "cell_type": "markdown",
     "checksum": "a013a8485bff21fba9d5894881c46dd4",
     "grade": false,
     "grade_id": "Q-2-2",
     "locked": true,
     "points": 5,
     "schema_version": 3,
     "solution": false,
     "task": true
    }
   },
   "source": [
    "<div class=\"question\">\n",
    "<h3>Question 2.2</h3>\n",
    "\n",
    "(5 marks, max 50 words)\n",
    "\n",
    "Suggest why the mitochondrial cytochrome b gene was selected for the analysis. \n",
    "</div>\n"
   ]
  },
  {
   "attachments": {},
   "cell_type": "markdown",
   "metadata": {},
   "source": [
    "-- GRADED CELL (5 marks) - complete this cell --\n",
    "\n",
    "Cytochrome b has been extensively sequenced across different species, resulting in a large database of cytb sequences. The variability of cytb makes it most useful for comparing species in the same genus or same family. Additionally, it is highly conserved gene that present in all animals."
   ]
  },
  {
   "cell_type": "markdown",
   "metadata": {
    "deletable": false,
    "editable": false,
    "nbgrader": {
     "cell_type": "markdown",
     "checksum": "09a84c637b8e2fd1c7980b6cc5c04ee8",
     "grade": false,
     "grade_id": "Q-2-3",
     "locked": true,
     "points": 5,
     "schema_version": 3,
     "solution": false,
     "task": true
    }
   },
   "source": [
    "<div class=\"question\">\n",
    "<h3>Question 2.3</h3>\n",
    "    \n",
    "(5 marks, max 100 words)\n",
    "\n",
    "Suggest why monomorphic SNPs and SNPs with low read depth were removed. \n",
    "</div>\n"
   ]
  },
  {
   "cell_type": "markdown",
   "metadata": {},
   "source": [
    "-- GRADED CELL (5 marks) - complete this cell --\n",
    "\n",
    "Monomorphic SNPs are SNPs that are shared by all individuals in a population and don't contribute meaningful information to genetic diversity when assessing evolutionary relationships. SNPs with low read depth are unreliable due to inadequate sequencing coverage, which can result in higher error rates during SNP calling and challenges in determining the true genotype accurately. Both monomorphic SNPs and low read depth are less likely to have significant functional or evolutionary relevance, such as associations with adaptive traits, population differentiation, or other biologically important factors, compared to polymorphic SNPs with higher read depth."
   ]
  },
  {
   "cell_type": "markdown",
   "metadata": {
    "deletable": false,
    "editable": false,
    "nbgrader": {
     "cell_type": "markdown",
     "checksum": "adecb4e79982a7a1190539a17a7ee730",
     "grade": false,
     "grade_id": "Q-2-4",
     "locked": true,
     "points": 5,
     "schema_version": 3,
     "solution": false,
     "task": true
    }
   },
   "source": [
    "<div class=\"question\">\n",
    "<h3>Question 2.4</h3> \n",
    "\n",
    "(5 marks, max 100 words)\n",
    "    \n",
    "`IQ-tree` was used for treebuilding with the cytochrome b sequences. Many computational genomics tools including `IQ-tree` use algorithms that are not deterministic; they can produce different outputs on repeated runs with the same input. \n",
    "\n",
    "Explain why this is a challenge for reproducibility and how this can be addressed by users. \n",
    "\n",
    "</div>\n"
   ]
  },
  {
   "cell_type": "markdown",
   "metadata": {},
   "source": [
    "-- GRADED CELL (5 marks) - complete this cell --\n",
    "\n",
    "Reproducibility refers to the ability to obtain consistent results when an experiment is repeated. This can be achieved by initializing a seed value for the random number generator, ensuring the same sequence of random numbers is generated each time the algorithm is run. It is also crucial to use the same software version and any dependencies in the analysis, as different versions may have variations in algorithms or default settings. Additionally, performing validation checks and sensitivity analyses are also crucial. Lastly, proper documentation of the pipeline and code scripts is important for transparency and reproducibility."
   ]
  },
  {
   "cell_type": "markdown",
   "metadata": {
    "deletable": false,
    "editable": false,
    "nbgrader": {
     "cell_type": "markdown",
     "checksum": "9feb857202b570fe1881fa474dd55648",
     "grade": false,
     "grade_id": "Q-2-5-info",
     "locked": true,
     "schema_version": 3,
     "solution": false,
     "task": false
    }
   },
   "source": [
    "<div class=\"info\">\n",
    "<h3> Question 2.5 </h3>\n",
    "\n",
    "(10 marks, max 1 min run-time)\n",
    "\n",
    "Colless’ imbalance ($I_{c}$) is a metric that relates to the shape (or balance) of phylogenetic trees. It is calculated according to the following formula:\n",
    "\n",
    "\n",
    "# <center>$I_{c}=\\frac{ \\sum_{InteriorNodes} |T_{R}-T_{L}| }{ \\frac{(n-1)(n-2)}{2} }$</center>\n",
    "\n",
    "Where: \n",
    "* $T_{R}$ and $T_{L}$ are the number of taxa descended from the right and left branches respectively, of an interior node. \n",
    "* The interior nodes are all the nodes (including the root) that are not tips. \n",
    "* *n* is the total number of taxa in the tree (including tips). \n",
    "* *(n-1)(n-2)/2* is the maximum possible value of the numerator, therefore the value of $I_{c}$ ranges from 0 to 1.\n",
    "\n",
    "Write a Python function to calculate the Colless’ imbalance of a phylogenetic tree. \n",
    "    \n",
    "- [ ] Input: a Newick.Tree object containing a rooted binary tree (tree).\n",
    "- [ ] Assume every node in tree has either 0 children or 2 children. \n",
    "- [ ] Return a floating-point number (no rounding). \n",
    "- [ ] If tree contains fewer than 3 nodes, return None.\n",
    "</div>"
   ]
  },
  {
   "cell_type": "code",
   "execution_count": 16,
   "metadata": {
    "deletable": false,
    "nbgrader": {
     "cell_type": "code",
     "checksum": "5e5016e80d311ae0d5ae80ce98c1c2f1",
     "grade": false,
     "grade_id": "Q-2-5",
     "locked": false,
     "schema_version": 3,
     "solution": true,
     "task": false
    }
   },
   "outputs": [],
   "source": [
    "# GRADED CELL 2.5 (10 marks, max 1 min run-time)\n",
    "\n",
    "def colless_imbalance(tree):\n",
    "    \"\"\"\n",
    "    Calculate the Colless’ imbalance of a phylogenetic tree.\n",
    "    Input: a Newick.Tree object containing a rooted binary tree (tree).\n",
    "    Assume every node in tree has a unique name and has either 0 children or 2 children.\n",
    "    Return a floating-point number.\n",
    "    If tree contains fewer than 3 nodes, return None.\n",
    "    \"\"\"\n",
    "   \n",
    "    # YOUR CODE HERE\n",
    "    n = len(list(tree.find_clades(order='level')))\n",
    "    internal_nodes = tree.get_nonterminals()\n",
    "\n",
    "    if n > 3:\n",
    "        numerator = 0\n",
    "        denominator = (n-1) * (n-2) / 2\n",
    "        \n",
    "        for taxa in internal_nodes:\n",
    "            child = taxa.clades\n",
    "            right_clade = counting_taxa(child[0])\n",
    "            left_clade = counting_taxa(child[1])\n",
    "\n",
    "            internal_count = abs(right_clade - left_clade)\n",
    "            \n",
    "            numerator += internal_count\n",
    "\n",
    "        I_c = numerator / denominator\n",
    "\n",
    "    else:\n",
    "        return None\n",
    "        \n",
    "    return I_c\n",
    "\n",
    "def counting_taxa(node):\n",
    "    children = node.clades\n",
    "    count = 0\n",
    "    \n",
    "    if len(children) != 0:\n",
    "          \n",
    "        count += counting_taxa(children[0])\n",
    "        count += counting_taxa(children[1])\n",
    "\n",
    "    return count + 1"
   ]
  },
  {
   "cell_type": "code",
   "execution_count": 17,
   "metadata": {},
   "outputs": [
    {
     "name": "stdout",
     "output_type": "stream",
     "text": [
      "demo_tree_a\n"
     ]
    },
    {
     "data": {
      "image/png": "[encoded data removed]",
      "text/plain": [
       "<Figure size 640x480 with 1 Axes>"
      ]
     },
     "metadata": {},
     "output_type": "display_data"
    },
    {
     "name": "stdout",
     "output_type": "stream",
     "text": [
      "This tree has 5 taxa (including root) and 2 internal nodes.\n",
      "\n",
      "Colless Imbalance for demo_tree_a is: 0.3333333333333333\n",
      "27.6 µs ± 536 ns per loop (mean ± std. dev. of 7 runs, 10,000 loops each)\n"
     ]
    }
   ],
   "source": [
    "# Test your function in this cell\n",
    "\n",
    "# Create a demo tree\n",
    "from io import StringIO\n",
    "demo_tree_a = Phylo.read(StringIO(\"((c,d)a,b)root;\"), \"newick\")\n",
    "\n",
    "# Inspect the tree\n",
    "print(\"demo_tree_a\")\n",
    "Phylo.draw(demo_tree_a)\n",
    "print(\"This tree has 5 taxa (including root) and 2 internal nodes.\\n\")\n",
    "\n",
    "# Check expected output on demo data\n",
    "print(f'Colless Imbalance for demo_tree_a is: {colless_imbalance(demo_tree_a)}') # Should output 0.3333...\n",
    "\n",
    "# Test the function run time\n",
    "%timeit colless_imbalance(demo_tree_a) \n",
    "\n",
    "# Write your own tests here:"
   ]
  },
  {
   "cell_type": "code",
   "execution_count": 18,
   "metadata": {
    "deletable": false,
    "editable": false,
    "nbgrader": {
     "cell_type": "code",
     "checksum": "0f27dfc8e00cd8242e7950f79d8e1337",
     "grade": true,
     "grade_id": "Q-2-5-tests",
     "locked": true,
     "points": 10,
     "schema_version": 3,
     "solution": false,
     "task": false
    }
   },
   "outputs": [],
   "source": [
    "# --- AUTOGRADING CELL DO NOT EDIT ----\n"
   ]
  },
  {
   "cell_type": "markdown",
   "metadata": {
    "deletable": false,
    "editable": false,
    "nbgrader": {
     "cell_type": "markdown",
     "checksum": "1062081a10a92f565850170a21431b64",
     "grade": false,
     "grade_id": "Q-2-6-info",
     "locked": true,
     "schema_version": 3,
     "solution": false,
     "task": false
    }
   },
   "source": [
    "<div class=\"info\">\n",
    "<h3> Question 2.6 </h3> \n",
    "\n",
    "(10 marks, max 1 min run-time)\n",
    "\n",
    "A phylogenetic tree can be stored in Newick format in several non-unique arrangements. Aside from topology, Newick files can also store branch length and branch support information. \n",
    "\n",
    "Write a Python function that determines whether a group of phylogenetic trees has a common, identical topology. \n",
    "\n",
    "- [ ] Input: a list of Newick.Tree objects (tree_list). \n",
    "- [ ] Assume the trees are rooted binary trees where every node in tree has either 0 children or 2 children. \n",
    "- [ ] Return the Boolean value True if all the trees in tree_list share an identical topology.\n",
    "- [ ] Return the Boolean value False if they do not.\n",
    "- [ ] If tree_list contains fewer than 2 Newick.Tree objects, return None.\n",
    "</div>"
   ]
  },
  {
   "cell_type": "code",
   "execution_count": 19,
   "metadata": {
    "deletable": false,
    "nbgrader": {
     "cell_type": "code",
     "checksum": "efd500da8d027f365a37d649b763fe1b",
     "grade": false,
     "grade_id": "Q-2-6",
     "locked": false,
     "schema_version": 3,
     "solution": true,
     "task": false
    }
   },
   "outputs": [],
   "source": [
    "# GRADED CELL 2.6 (10 marks, max 1 min run-time)\n",
    "\n",
    "# Optional import\n",
    "from itertools import combinations\n",
    "\n",
    "def common_topology(tree_list):\n",
    "    \"\"\"\n",
    "    Determine whether a group of phylogenetic trees has a common, identical topology. \n",
    "    Input: a list of Newick.Tree objects (tree_list).\n",
    "    Assume the trees are rooted binary trees where every node in tree has either 0 children or 2 children. \n",
    "    Return the Boolean value True if all the trees in tree_list share an identical topology.\n",
    "    Return the Boolean value False if they do not.\n",
    "    If tree_list contains fewer than 2 Newick.Tree objects, return None.\n",
    "    \"\"\"\n",
    "    \n",
    "    # YOUR CODE HERE\n",
    "    if len(tree_list) > 1:\n",
    "\n",
    "        topology_list = []\n",
    "        for tree in tree_list:\n",
    "            root = list(tree.find_clades(order='level'))[0]\n",
    "            topology_tree = topology(root)\n",
    "            topology_list.append(topology_tree)\n",
    "\n",
    "        first_tree = topology_list[0]\n",
    "\n",
    "        for tree in topology_list[1:]:\n",
    "            if tree != first_tree:\n",
    "                return False\n",
    "        return True\n",
    "    else:\n",
    "        return None\n",
    "\n",
    "\n",
    "def topology(node):\n",
    "    if node.is_terminal():\n",
    "        return node\n",
    "\n",
    "    else:\n",
    "        left_branch = topology(node.clades[0])\n",
    "        right_branch = topology(node.clades[1])\n",
    "        \n",
    "    return tuple((node,(left_branch, right_branch)))"
   ]
  },
  {
   "cell_type": "code",
   "execution_count": 20,
   "metadata": {
    "tags": []
   },
   "outputs": [
    {
     "name": "stdout",
     "output_type": "stream",
     "text": [
      "demo_tree_a\n"
     ]
    },
    {
     "data": {
      "image/png": "[encoded data removed]",
      "text/plain": [
       "<Figure size 800x300 with 1 Axes>"
      ]
     },
     "metadata": {},
     "output_type": "display_data"
    },
    {
     "name": "stdout",
     "output_type": "stream",
     "text": [
      "demo_tree_b\n"
     ]
    },
    {
     "data": {
      "image/png": "[encoded data removed]",
      "text/plain": [
       "<Figure size 800x300 with 1 Axes>"
      ]
     },
     "metadata": {},
     "output_type": "display_data"
    },
    {
     "name": "stdout",
     "output_type": "stream",
     "text": [
      "demo_tree_c\n"
     ]
    },
    {
     "data": {
      "image/png": "[encoded data removed]",
      "text/plain": [
       "<Figure size 800x300 with 1 Axes>"
      ]
     },
     "metadata": {},
     "output_type": "display_data"
    },
    {
     "name": "stdout",
     "output_type": "stream",
     "text": [
      "False\n",
      "False\n",
      "36.4 µs ± 2.16 µs per loop (mean ± std. dev. of 7 runs, 10,000 loops each)\n"
     ]
    }
   ],
   "source": [
    "# Test your function in this cell\n",
    "\n",
    "# Create some more demo trees\n",
    "demo_tree_b = Phylo.read(StringIO(\"(b,(c,d)a)root;\"), \"newick\")\n",
    "demo_tree_c = Phylo.read(StringIO(\"(c,(b,d)a)root;\"), \"newick\")\n",
    "\n",
    "# Inspect the trees\n",
    "import matplotlib.pyplot as plt\n",
    "plt.rcParams[\"figure.figsize\"] = (8, 3)\n",
    "\n",
    "print(\"demo_tree_a\")\n",
    "Phylo.draw(demo_tree_a)\n",
    "\n",
    "print(\"demo_tree_b\")\n",
    "Phylo.draw(demo_tree_b)\n",
    "\n",
    "print(\"demo_tree_c\")\n",
    "Phylo.draw(demo_tree_c)\n",
    "\n",
    "# Check expected output on demo data\n",
    "print(common_topology([demo_tree_a, demo_tree_b])) # should output True\n",
    "print(common_topology([demo_tree_a, demo_tree_c])) # should output False\n",
    "\n",
    "# Test the function run time\n",
    "%timeit common_topology([demo_tree_a, demo_tree_b])\n",
    "\n",
    "# Write your own tests here:\n"
   ]
  },
  {
   "cell_type": "code",
   "execution_count": 21,
   "metadata": {
    "deletable": false,
    "editable": false,
    "nbgrader": {
     "cell_type": "code",
     "checksum": "82de6fa59d3534e7be0433ace8b528f1",
     "grade": true,
     "grade_id": "Q-2-6-tests",
     "locked": true,
     "points": 10,
     "schema_version": 3,
     "solution": false,
     "task": false
    }
   },
   "outputs": [],
   "source": [
    "# --- AUTOGRADING CELL DO NOT EDIT ----\n"
   ]
  },
  {
   "cell_type": "markdown",
   "metadata": {
    "deletable": false,
    "editable": false,
    "nbgrader": {
     "cell_type": "markdown",
     "checksum": "45b80ec2f6ba59ef563d08740fef4edb",
     "grade": false,
     "grade_id": "cell-8a1209ec5d7b9d5d",
     "locked": true,
     "schema_version": 3,
     "solution": false,
     "task": false
    }
   },
   "source": [
    "## Part 3: Metagenomics"
   ]
  },
  {
   "cell_type": "markdown",
   "metadata": {
    "deletable": false,
    "editable": false,
    "nbgrader": {
     "cell_type": "markdown",
     "checksum": "be8b9ca5839e3c8c3193e395149cd90e",
     "grade": false,
     "grade_id": "cell-7d81f8a488f35871",
     "locked": true,
     "schema_version": 3,
     "solution": false,
     "task": false
    },
    "tags": []
   },
   "source": [
    "### Setup"
   ]
  },
  {
   "cell_type": "markdown",
   "metadata": {
    "deletable": false,
    "editable": false,
    "nbgrader": {
     "cell_type": "markdown",
     "checksum": "c53710891661a765d96479e537596a32",
     "grade": false,
     "grade_id": "cell-3e6373d1036240a4",
     "locked": true,
     "schema_version": 3,
     "solution": false,
     "task": false
    }
   },
   "source": [
    "`Kraken2` is a tool used to assign taxonomic labels to metagenomic readsets. Output from `Kraken2` was used in workshop 10. \n",
    "\n",
    "`Kraken2` is described in the publication below. Please read it before answering the questions.\n",
    "\n",
    ">https://genomebiology.biomedcentral.com/articles/10.1186/s13059-019-1891-0\n",
    "\n",
    "Its predecessor `Kraken` is described here.\n",
    "\n",
    ">https://www.ncbi.nlm.nih.gov/pmc/articles/PMC4053813/pdf/gb-2014-15-3-r46.pdf\n"
   ]
  },
  {
   "cell_type": "markdown",
   "metadata": {
    "deletable": false,
    "editable": false,
    "nbgrader": {
     "cell_type": "markdown",
     "checksum": "cb1267719c9571d1f8418b84698e6f41",
     "grade": false,
     "grade_id": "cell-6dc04d725f853a75",
     "locked": true,
     "schema_version": 3,
     "solution": false,
     "task": false
    }
   },
   "source": [
    "### Questions\n",
    "In the cells below, complete the following tasks:"
   ]
  },
  {
   "cell_type": "markdown",
   "metadata": {
    "deletable": false,
    "editable": false,
    "nbgrader": {
     "cell_type": "markdown",
     "checksum": "4a001d984c866311078b6ffe4ae1d363",
     "grade": false,
     "grade_id": "Q-3-1",
     "locked": true,
     "points": 20,
     "schema_version": 3,
     "solution": false,
     "task": true
    }
   },
   "source": [
    "<div class=\"question\">\n",
    "<h3>Question 3.1</h3>\n",
    "\n",
    "(20 marks, max 50 words)\n",
    "    \n",
    "In your own words, describe the method used by `Kraken2` to assign a taxonomic classification to each read in a metagenomic readset. Include a description of the database and the classification tree. Include each of the main steps of the algorithm. \n",
    "\n",
    "</div>\n"
   ]
  },
  {
   "cell_type": "markdown",
   "metadata": {},
   "source": [
    "-- GRADED CELL (20 marks) - complete this cell --\n",
    "\n",
    "Kraken2 assigns taxonomic labels to DNA sequences and operates by examining the k-mers within a query sequence to the database. The steps are:\n",
    "1. K-mer examination: Kraken2 starts by examining the k-mers within a query sequence\n",
    "2. Database query: The information within these k-mers is used to query a database. This database maps k-mers to the LCA of all genomes known to contain a given k-mer.\n",
    "3. Minimizer selection: minimizer is the lexicographically smallest k-mer in a window of k-mers. Use minimizers of the k-mers in the query sequences as database queries. Similarly, minimizers used for reference sequences in teh database's genomic library are stored in the database.\n",
    "4. LCA assignment: All k-mers are considered to have the same LCA as their minimizer's database LCA value.\n",
    "5. Hash table utilization: Kraken2 uses a compact hash table, a probabilistic data structure. That means that occasionally, database queries will fail by either returning the wrong LCA or by not resulting in a search failure when a queried minimizer was never actually stored in the database.\n",
    "6. Classification: each read in the metagenomic readset is assigned to a taxonomic classification based on the LCAs of its k-mers."
   ]
  },
  {
   "cell_type": "markdown",
   "metadata": {
    "deletable": false,
    "editable": false,
    "nbgrader": {
     "cell_type": "markdown",
     "checksum": "734c1a59157a25b9c68cc763bee439dc",
     "grade": false,
     "grade_id": "Q-3-2",
     "locked": true,
     "points": 5,
     "schema_version": 3,
     "solution": false,
     "task": true
    }
   },
   "source": [
    "<div class=\"question\">\n",
    "<h3>Question 3.2</h3>\n",
    "\n",
    "(5 marks, max 50 words)\n",
    "\n",
    "What is the main limitation to using `Kraken2` to estimate the microbial diversity of a previously unsampled environment?\n",
    "    \n",
    "</div>\n"
   ]
  },
  {
   "cell_type": "markdown",
   "metadata": {},
   "source": [
    "-- GRADED CELL (5 marks) - complete this cell --\n",
    "\n",
    "Because Kraken2's classification accuracy depends heavily on the comprehensiveness and quality of the reference databases it uses. Microbial species or strains that are not well-represented or absent in the database may be misclassified or failed to classify them, leading to an incomplete or biased estimation of the microbial diversity."
   ]
  },
  {
   "cell_type": "markdown",
   "metadata": {
    "deletable": false,
    "editable": false,
    "nbgrader": {
     "cell_type": "markdown",
     "checksum": "7f2aef3ccae752053f03c792fca9bfbd",
     "grade": false,
     "grade_id": "Q-3-3",
     "locked": true,
     "points": 10,
     "schema_version": 3,
     "solution": false,
     "task": true
    }
   },
   "source": [
    "<div class=\"question\">\n",
    "<h3>Question 3.3</h3>\n",
    "    \n",
    "(10 marks, max 100 words)\n",
    "\n",
    "Explain how Kraken2 achieves high classification accuracy while minimising memory usage.\n",
    "    \n",
    "</div>\n"
   ]
  },
  {
   "cell_type": "markdown",
   "metadata": {},
   "source": [
    "-- GRADED CELL (10 marks) - complete this cell --\n",
    "\n",
    "Kraken2 uses a probabilistic, compact hash table to map minimizers to LCAs, consuming only one-third of the memory required by a standard hash table. Unlike Kraken1, which stores all k-mers, Kraken2 stores only minimizers (substrings of length L, L <= k) from the reference sequence library. During classification, Kraken2 compares these minimizers (L-mers) against the reference set, not the k-mers. This reduces the memory footprint. Additionally, Kraken2 implements a hash-based subsampling technique that reduces the set of minimizer/LCA pairs in the table, allowing users to specify a target hash table size. This approach reduces memory usage and speeds classification up. "
   ]
  },
  {
   "cell_type": "markdown",
   "metadata": {},
   "source": [
    "# END OF ASSIGNMENT"
   ]
  },
  {
   "cell_type": "markdown",
   "metadata": {},
   "source": [
    "## Submitting\n",
    "\n",
    "Follow these steps to submit your assignment\n",
    "\n",
    "1) Before you turn this assignment in, make sure everything runs as expected. First, **restart the kernel** (in the menubar, select Kernel$\\rightarrow$Restart) and then **run all cells** (in the menubar, select Cell$\\rightarrow$Run All).\n",
    "\n",
    "2) Make sure you have filled in any place that says `YOUR CODE HERE` or \"YOUR ANSWER HERE\"\n",
    "\n",
    "3) **Clear all output** (in the menubar, select Kernel$\\rightarrow$Restart & Clear Output)\n",
    "\n",
    "4) Your completed notebook file containing all your answers must be turned in via Canvas in `.ipynb` format.\n",
    "\n",
    "5) You must also submit a copy of this notebook in `html` format with the output cleared.\n",
    "\n",
    "\n",
    "Your submission should include **only two** files with names formatted as: **Assignment_3.ipynb** and **Assignment_3.html**\n"
   ]
  }
 ],
 "metadata": {
  "kernelspec": {
   "display_name": "Python 3 (ipykernel)",
   "language": "python",
   "name": "python3"
  },
  "language_info": {
   "codemirror_mode": {
    "name": "ipython",
    "version": 3
   },
   "file_extension": ".py",
   "mimetype": "text/x-python",
   "name": "python",
   "nbconvert_exporter": "python",
   "pygments_lexer": "ipython3",
   "version": "3.9.6"
  }
 },
 "nbformat": 4,
 "nbformat_minor": 4
}
