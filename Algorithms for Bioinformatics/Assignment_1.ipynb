{
 "cells": [
  {
   "cell_type": "markdown",
   "metadata": {
    "deletable": false,
    "editable": false,
    "nbgrader": {
     "cell_type": "markdown",
     "checksum": "b2ffa4273e6e619c9bab086184f0590e",
     "grade": false,
     "grade_id": "cell-e55601ed0a5c1b4f",
     "locked": true,
     "schema_version": 3,
     "solution": false,
     "task": false
    }
   },
   "source": [
    "# COMP90014 Assignment 1\n",
    "### Semester 2, 2023\n",
    "Version 1.0 Last edited 31/07/2023."
   ]
  },
  {
   "cell_type": "code",
   "execution_count": null,
   "metadata": {},
   "outputs": [],
   "source": [
    "### Fill in your student details here\n",
    "NAME = \"Keziah Tikno\"\n",
    "ID = \"1319716\""
   ]
  },
  {
   "cell_type": "markdown",
   "metadata": {
    "deletable": false,
    "editable": false,
    "nbgrader": {
     "cell_type": "markdown",
     "checksum": "85f6f06cc8bbdcd5964116bed29c24d9",
     "grade": false,
     "grade_id": "cell-19ffa96f45548d77",
     "locked": true,
     "schema_version": 3,
     "solution": false,
     "task": false
    }
   },
   "source": [
    "## Completing the assignment\n",
    "\n",
    "***Academic integrity***\n",
    "\n",
    "This assignment should be completed by each student individually. <br>\n",
    "Make sure you read this entire document, and ask for help if anything is not clear. <br>\n",
    "Any changes or clarifications to this document will be announced via the LMS. <br>\n",
    "\n",
    "Please make sure you review the University's rules on academic honesty and plagiarism: https://academichonesty.unimelb.edu.au/\n",
    "\n",
    "Do not copy any code from other students or from the internet. This is considered plagiarism.\n",
    "\n",
    "***Completing the assignment & submission***\n",
    "\n",
    "To complete the assignment, finish the coding and short answer tasks in this notebook.<br>\n",
    "Please do not copy or delete cells in this notebook, as this may interrupt the autograding of hidden tests. <br>\n",
    "Your completed notebook file containing all your answers will be turned in via LMS. Please also submit an HTML file.\n",
    "\n",
    "***Visible & hidden tests***\n",
    "\n",
    "In some cases, we have provided test input and test output that you can use to try out your solutions. <br> \n",
    "These are visible tests and serve to warn you if you've made a mistake but are **not** exhaustive.\n",
    "\n",
    "During assessment, there are also hidden tests we run to validate your code. <br>\n",
    "As you won't see the hidden tests, it's up to you to decide whether your code is correct.\n",
    "\n",
    "**Remember to save your work early and often.**"
   ]
  },
  {
   "cell_type": "markdown",
   "metadata": {
    "deletable": false,
    "editable": false,
    "nbgrader": {
     "cell_type": "markdown",
     "checksum": "a57c1fe56f79fc01a7859930f296cc0b",
     "grade": false,
     "grade_id": "cell-71ca9de6c37adf77",
     "locked": true,
     "schema_version": 3,
     "solution": false,
     "task": false
    }
   },
   "source": [
    "## Marking\n",
    "\n",
    "***Graded cells***\n",
    "\n",
    "Cells that must be completed to receive marks are clearly labelled with the following text:\n",
    "\n",
    "`# -- GRADED CELL (N marks) - complete this cell --`\n",
    "\n",
    "Only add answers to these cells. \n",
    "\n",
    "Some cells are code cells, in which you must complete the code to solve a problem. <br>\n",
    "Others are markdown cells, in which you must write your answers to short-answer questions. \n",
    "\n",
    "<br>\n",
    "\n",
    "***Completing code cells***\n",
    "\n",
    "You will see the following text in graded code cells:\n",
    "\n",
    "``` python\n",
    "raise NotImplementedError()\n",
    "```\n",
    "You must remove the `raise NotImplementedError()` line from the cell, and replace it with your solution.<br>\n",
    "If you want to import a library or use a helper function, the import statements must be inside the function for that question. \n",
    "\n",
    "For example, as seen in Q3a:\n",
    "``` python\n",
    "def init_scoregrid(seqX, seqY, gap_score):\n",
    "    '''\n",
    "    Given two sequences, initialise and return a scoregrid to be used for Needleman-Wunsch alignment.\n",
    "    '''\n",
    "    import numpy as np  \n",
    "    \n",
    "```\n",
    "\n",
    "Include code comments in your solutions! <br>\n",
    "Well commented code can help you to receive partial marks even if the final solution is incorrect. \n",
    "\n",
    "<br>\n",
    "\n",
    "***Editing the notebook***\n",
    "\n",
    "Only graded cells will be marked.\n",
    "- Do **NOT** enter solutions outside of graded cells\n",
    "- Do **NOT** duplicate or remove cells from the notebook\n",
    "- You may add new cells to test code, but new cells will not be graded.\n",
    "- Word limits, where stated, will be strictly enforced. Answers exceeding the limit **will not be marked**.\n",
    "\n",
    "<br>\n",
    "\n",
    "***Marks***\n",
    "\n",
    "The total marks for the assignment add up to 40. <br>\n",
    "This assignment will be worth 10% of your overall subject grade.<br>\n",
    "\n",
    "- Section A: 12 marks\n",
    "- Section B: 14 marks\n",
    "- Section C: 14 marks\n",
    "\n",
    "No marks are allocated to commenting in your code. <br>\n",
    "We do however, encourage efficient and well commented code."
   ]
  },
  {
   "cell_type": "markdown",
   "metadata": {
    "deletable": false,
    "editable": false,
    "nbgrader": {
     "cell_type": "markdown",
     "checksum": "40859d7e48aaa81cd571654d89636e37",
     "grade": false,
     "grade_id": "cell-6c00719f6f8b7574",
     "locked": true,
     "schema_version": 3,
     "solution": false,
     "task": false
    }
   },
   "source": [
    "## Submission\n",
    "\n",
    "Make sure you have filled in any place that says `# -- GRADED CELL (N marks) - complete this cell --`.\n",
    "\n",
    "Before you turn this assignment in, make sure everything runs as expected, and the output is cleared. \n",
    "\n",
    "First, **restart the kernel**:\n",
    "\n",
    "- In the menubar, select Kernel -> Restart.\n",
    "\n",
    "Next, **run all cells**:\n",
    "\n",
    "- In the menubar, select Cell -> Run All.\n",
    "\n",
    "Finally, **clear all output**:\n",
    "\n",
    "- In the menubar, select Options -> Clear All Outputs\n",
    "\n",
    "Your completed notebook file containing all your answers must be turned in via LMS in `.ipynb` format. <br>\n",
    "You must also submit a copy of this notebook in `html` format with the output cleared.\n",
    "\n",
    "Your submission should include **only two** files with names formatted as: **Assignment_1.ipynb** and **Assignment_1.html**\n",
    "\n"
   ]
  },
  {
   "cell_type": "markdown",
   "metadata": {
    "deletable": false,
    "editable": false,
    "nbgrader": {
     "cell_type": "markdown",
     "checksum": "f22213e7f0cc44901bed5e81fd4a6fdf",
     "grade": false,
     "grade_id": "cell-16acd75138bd5d62",
     "locked": true,
     "schema_version": 3,
     "solution": false,
     "task": false
    }
   },
   "source": [
    "# Setup and Data"
   ]
  },
  {
   "cell_type": "markdown",
   "metadata": {
    "deletable": false,
    "editable": false,
    "nbgrader": {
     "cell_type": "markdown",
     "checksum": "72cc31e2102e7d13cbe4c896eb165ec6",
     "grade": false,
     "grade_id": "cell-74138ac20b48a5bd",
     "locked": true,
     "schema_version": 3,
     "solution": false,
     "task": false
    }
   },
   "source": [
    "### Load Packages\n",
    "If you are using jupyter lab online, all packages will be available. If you are running this on your local computer, you may need to install some packages."
   ]
  },
  {
   "cell_type": "code",
   "execution_count": null,
   "metadata": {},
   "outputs": [],
   "source": [
    "import numpy as np\n",
    "from Bio.Align import PairwiseAligner\n",
    "from collections import defaultdict\n",
    "from collections import Counter\n"
   ]
  },
  {
   "cell_type": "markdown",
   "metadata": {
    "deletable": false,
    "editable": false,
    "nbgrader": {
     "cell_type": "markdown",
     "checksum": "cd7d9cd12864b0024a4af477c0b0d1a7",
     "grade": false,
     "grade_id": "cell-76ddf1bde3eadc9a",
     "locked": true,
     "schema_version": 3,
     "solution": false,
     "task": false
    }
   },
   "source": [
    "<div style=\"background: rgb(255,165,0); border: solid 1px rgb(129,199,132); padding: 10px;\">    \n",
    "\n",
    "<h1>SECTION A: COMPARING SEQUENCES</h1>\n",
    "\n",
    "</div>"
   ]
  },
  {
   "cell_type": "markdown",
   "metadata": {
    "deletable": false,
    "editable": false,
    "nbgrader": {
     "cell_type": "markdown",
     "checksum": "bd9d9bd1af7490e25ad3cde930cdf44f",
     "grade": false,
     "grade_id": "cell-5c64268914d1f5a3",
     "locked": true,
     "schema_version": 3,
     "solution": false,
     "task": false
    }
   },
   "source": [
    "## Brief \n",
    "\n",
    "In order to compare organisms via their sequences, we need a way to measure their difference as a distance. \n",
    "\n",
    "In this section, we will:\n",
    "\n",
    "- Calculate sequence distance by implementing a variation on hamming distance. \n",
    "- Calculate sequence distance by comparing the kmer makeup of sequences. \n",
    "\n",
    "<br>\n"
   ]
  },
  {
   "cell_type": "markdown",
   "metadata": {
    "deletable": false,
    "editable": false,
    "nbgrader": {
     "cell_type": "markdown",
     "checksum": "72d53f5b32dd29fa99a093edf0a216b0",
     "grade": false,
     "grade_id": "cell-d205607ad0541737",
     "locked": true,
     "schema_version": 3,
     "solution": false,
     "task": false
    }
   },
   "source": [
    "## TASK 1: Hamming distance (variant)\n",
    "\n",
    "One method to compare sequences is using hamming distance.\n",
    "\n",
    "When working with DNA, hamming distance involves comparing each DNA base individually from the two sequences. \n",
    "\n",
    "Hamming distance can be a useful approach (due to its linear time complexity) when:\n",
    "\n",
    "- The two sequences to compare are the same length\n",
    "- The two sequences are expected to have no relative shifts (due to indels: insertions / deletions, or structural variation).\n",
    "\n",
    "The version of hamming distance we implement here will have 2 variations on the normal approach. \n",
    "\n",
    "Scores:\n",
    "\n",
    "- Instead of having match=0, mismatch=1 as scoring scheme, we will use a transition matrix to calculate scores. \n",
    "- This will be a better measure of distance for working with DNA sequences. \n",
    "\n",
    "Allowing non-equal-length sequences:\n",
    "\n",
    "- Instead of only allowing equal-length sequences, we will allow the sequences to have different length. \n",
    "- When one of the sequences is longer than the other, we will clip off the end of the longer sequence so they now have equal length. \n",
    "\n"
   ]
  },
  {
   "cell_type": "markdown",
   "metadata": {
    "deletable": false,
    "editable": false,
    "nbgrader": {
     "cell_type": "markdown",
     "checksum": "e7480b60fbc8d559d063153e68da85f8",
     "grade": false,
     "grade_id": "cell-bbdb53d6a2016e65",
     "locked": true,
     "schema_version": 3,
     "solution": false,
     "task": false
    }
   },
   "source": [
    "<div style=\"color: rgb(27,94,32); background: rgb(200,230,201); border: solid 1px rgb(129,199,132); padding: 10px;\">\n",
    "<h3>Question 1a</h3>\n",
    "    \n",
    "<b>Challange:</b> Write a function that calculates a variant of the hamming distance between two sequences. \n",
    "    \n",
    "- [ ] Input: Two sequences (SeqA, SeqB)\n",
    "- [ ] Ouput: Distance of the sequences as an integer\n",
    "- [ ] Return zero if either of the input sequences have length zero. \n",
    "\n",
    "If the two input sequences have different lengths, remove bases from the end of the longer sequence until the lengths are identical. \n",
    "\n",
    "Instead of just counting mismatches, use the following transition matrix when comparing bases: \n",
    "\n",
    "<div style=\"display: block; padding-top: 10px; height: 150px;\">\n",
    "<table align=\"left\">\n",
    "  <tr bgcolor=\"white\">\n",
    "    <td></td>\n",
    "    <td>A</td>\n",
    "    <td>T</td>\n",
    "    <td>G</td>\n",
    "    <td>C</td>\n",
    "  </tr>\n",
    "  <tr bgcolor=\"white\">\n",
    "    <td>A</td>\n",
    "    <td>0</td>\n",
    "    <td>1</td>\n",
    "    <td>2</td>\n",
    "    <td>2</td>\n",
    "  </tr>\n",
    "  <tr bgcolor=\"white\">\n",
    "    <td>T</td>\n",
    "    <td>1</td>\n",
    "    <td>0</td>\n",
    "    <td>2</td>\n",
    "    <td>2</td>\n",
    "  </tr>\n",
    "  <tr bgcolor=\"white\">\n",
    "    <td>G</td>\n",
    "    <td>2</td>\n",
    "    <td>2</td>\n",
    "    <td>0</td>\n",
    "    <td>1</td>\n",
    "  </tr>\n",
    "  <tr bgcolor=\"white\">\n",
    "    <td>C</td>\n",
    "    <td>2</td>\n",
    "    <td>2</td>\n",
    "    <td>1</td>\n",
    "    <td>0</td>\n",
    "  </tr>\n",
    "</table>\n",
    "</div>\n",
    "  \n",
    "\n",
    "    \n",
    "\n",
    "    \n",
    "</div>"
   ]
  },
  {
   "cell_type": "code",
   "execution_count": null,
   "metadata": {
    "deletable": false,
    "nbgrader": {
     "cell_type": "code",
     "checksum": "54337cfaf1dc732c3173f50d0f26d4b0",
     "grade": false,
     "grade_id": "Q1A",
     "locked": false,
     "schema_version": 3,
     "solution": true,
     "task": false
    }
   },
   "outputs": [],
   "source": [
    "# -- GRADED CELL (4 marks) - complete this cell --\n",
    "\n",
    "def hamming_distance_variant(seqA, seqB):\n",
    "    '''\n",
    "    Write a function that calculates a variant of the hamming distance between two sequences. \n",
    "    If either input sequence has zero length, return zero.\n",
    "    If one sequence is longer than the other, clip bases from the longer sequence until the lengths are identical. \n",
    "    Use the transition matrix above to calculate scores. \n",
    "    '''\n",
    "    distance = None\n",
    "    \n",
    "    # YOUR CODE HERE\n",
    "    dict_score = {('A','A'): 0, ('A','T'): 1, ('A','G'): 2, ('A','C'): 2, ('T','T'): 0,\n",
    "                ('G','T'): 2, ('C','T'): 2, ('G','G'): 0, ('C','G'): 1, ('C','C'): 0}\n",
    "\n",
    "    distance = 0\n",
    "    for a,b in zip(seqA, seqB):\n",
    "        seq_get = [a,b]\n",
    "        seq_get.sort()\n",
    "        seq_get = tuple(seq_get)\n",
    "        distance += dict_score[seq_get]\n",
    "\n",
    "    return distance"
   ]
  },
  {
   "cell_type": "code",
   "execution_count": null,
   "metadata": {},
   "outputs": [],
   "source": [
    "# extra code cell for development if needed\n",
    "        "
   ]
  },
  {
   "cell_type": "code",
   "execution_count": null,
   "metadata": {
    "deletable": false,
    "editable": false,
    "nbgrader": {
     "cell_type": "code",
     "checksum": "beff8247b5cf4d286a9127c6f573e837",
     "grade": true,
     "grade_id": "Q1A-T",
     "locked": true,
     "points": 4,
     "schema_version": 3,
     "solution": false,
     "task": false
    }
   },
   "outputs": [],
   "source": [
    "# Testing cell - Do not alter.\n",
    "\n",
    "# Visible tests to check your code\n",
    "\n",
    "# test1: one mismatch\n",
    "dist = hamming_distance_variant(\"AGAATATAACACACAA\", \"AGAATTTAACACACAA\")\n",
    "print(f\"test1: expected=1, actual={dist}\")\n",
    "\n",
    "# test2: multiple mismatches\n",
    "dist = hamming_distance_variant(\"AGAATATAACACACAA\", \"CGACTTTTACACATGG\")\n",
    "print(f\"test2: expected=12, actual={dist}\")\n",
    "\n",
    "# test3: length clipping\n",
    "dist = hamming_distance_variant(\"AGAATATAACACACAA\", \"AGAATTTTACACACAAGTACCAC\")\n",
    "print(f\"test3: expected=2, actual={dist}\")\n",
    "\n",
    "# test4: zero-length sequence\n",
    "dist = hamming_distance_variant(\"AGAATATAACACACAA\", \"\")\n",
    "print(f\"test4: expected=0, actual={dist}\")\n"
   ]
  },
  {
   "cell_type": "markdown",
   "metadata": {
    "deletable": false,
    "editable": false,
    "nbgrader": {
     "cell_type": "markdown",
     "checksum": "145e9ead774ed040e08cd6f87f4dfabc",
     "grade": false,
     "grade_id": "cell-a1ecd364c4021743",
     "locked": true,
     "schema_version": 3,
     "solution": false,
     "task": false
    }
   },
   "source": [
    "## TASK 2: K-mer distance\n",
    "\n",
    "Methods which compare two sequences without considering shifts (indels & structural variation) perform poorly for genomic data.<br> \n",
    "This is because indels & structural changes are a common form of variation.  \n",
    "\n",
    "An alternate method to hamming distance is calculating the kmer distance between two sequences. \n",
    "\n",
    "In this approach, sequences are broken up into subsequences of length ***k*** (hence - kmers), then a comparison is done on the kmer makeup of the sequences, rather than the full-length sequences themselves. "
   ]
  },
  {
   "cell_type": "markdown",
   "metadata": {
    "deletable": false,
    "editable": false,
    "nbgrader": {
     "cell_type": "markdown",
     "checksum": "884cc394777dec4b17134dae1f5b8937",
     "grade": false,
     "grade_id": "cell-1c2a6b70d1f1f45c",
     "locked": true,
     "schema_version": 3,
     "solution": false,
     "task": false
    }
   },
   "source": [
    "<div style=\"color: rgb(27,94,32); background: rgb(200,230,201); border: solid 1px rgb(129,199,132); padding: 10px;\">\n",
    "<h3>Question 2a</h3>\n",
    "    \n",
    "<b>Challange:</b> Write a function that generates an index of kmers (for k = any number) and their counts for a DNA sequence. \n",
    "Use the inbuilt python \"dict\" type as your index.\n",
    "    \n",
    "For each location in the sequence, you will need to extract a kmer of size k, then update your dictionary by incrementing the count for that kmer. \n",
    "    \n",
    "Ensure you check the value of k is valid for the sequences. \n",
    "    \n",
    "- [ ] Input: A sequence string; and a integer k\n",
    "- [ ] Ouput: A dictionary containing kmers as keys, and the number of times they appear in the sequence as values. \n",
    "- [ ] Return an empty dictionary if inputs do not yield any kmers\n",
    "    \n",
    "</div>"
   ]
  },
  {
   "cell_type": "code",
   "execution_count": null,
   "metadata": {
    "deletable": false,
    "nbgrader": {
     "cell_type": "code",
     "checksum": "403e3574d70f7a6f17f0c091759a7e58",
     "grade": false,
     "grade_id": "Q2A",
     "locked": false,
     "schema_version": 3,
     "solution": true,
     "task": false
    }
   },
   "outputs": [],
   "source": [
    "# -- GRADED CELL (3 marks) - complete this cell --\n",
    "\n",
    "def generate_kmer_index(seq, k):\n",
    "    '''\n",
    "    Write a function that generates and returns an index of kmers (for k = any number), \n",
    "    and their counts for an input DNA sequence. Use the inbuilt python \"dict\" type as your index. \n",
    "    '''\n",
    "    \n",
    "    kmer_dict = None\n",
    "    \n",
    "    # YOUR CODE HERE\n",
    "    kmer_dict = {}\n",
    "\n",
    "    if k > 0:\n",
    "        for i in range(0, len(seq)-k+1):\n",
    "            \n",
    "            cutting_seq = seq[i:k+i]\n",
    "            \n",
    "            if cutting_seq in kmer_dict.keys():\n",
    "                kmer_dict[cutting_seq] += 1\n",
    "            else:\n",
    "                kmer_dict[cutting_seq] = 1\n",
    "    \n",
    "    return kmer_dict"
   ]
  },
  {
   "cell_type": "code",
   "execution_count": null,
   "metadata": {},
   "outputs": [],
   "source": [
    "# extra code cell for development if needed\n"
   ]
  },
  {
   "cell_type": "code",
   "execution_count": null,
   "metadata": {
    "deletable": false,
    "editable": false,
    "nbgrader": {
     "cell_type": "code",
     "checksum": "bea5416a282b37dbcd02fcd253ce7c4b",
     "grade": true,
     "grade_id": "Q2A-T",
     "locked": true,
     "points": 3,
     "schema_version": 3,
     "solution": false,
     "task": false
    }
   },
   "outputs": [],
   "source": [
    "# Testing cell - Do not alter.\n",
    "\n",
    "# Visible tests to check your code\n",
    "\n",
    "# test1: basic test \n",
    "print(\"test1: basic test ---\")\n",
    "print('EXPECTED')\n",
    "print(\"\"\"\\\n",
    "AGA: 2\n",
    "GAC: 2\n",
    "ACA: 1\n",
    "CAG: 1\n",
    "\"\"\")\n",
    "\n",
    "index = generate_kmer_index(\"AGACAGAC\", 3)\n",
    "print('ACTUAL')\n",
    "for kmer, locs in index.items():\n",
    "    print(f\"{kmer}: {locs}\")\n",
    "    \n",
    "# test2: input yields no valid kmers\n",
    "index = generate_kmer_index(\"AGACAGAC\", 9)\n",
    "print(\"\\ntest2: input yields no valid kmers ---\")\n",
    "print(f'EXPECTED: 0  ACTUAL: {len(index)}')\n",
    "\n",
    "# test3: input yields no valid kmers\n",
    "index = generate_kmer_index(\"AGACAGAC\", -1)\n",
    "print(\"\\ntest3: input yields no valid kmers ---\")\n",
    "print(f'EXPECTED: 0  ACTUAL: {len(index)}')\n"
   ]
  },
  {
   "cell_type": "markdown",
   "metadata": {
    "deletable": false,
    "editable": false,
    "nbgrader": {
     "cell_type": "markdown",
     "checksum": "bcf54cf5a6d40a7290a7b55e2dfd43f6",
     "grade": false,
     "grade_id": "cell-13f921ac24a97478",
     "locked": true,
     "schema_version": 3,
     "solution": false,
     "task": false
    }
   },
   "source": [
    "<div style=\"color: rgb(27,94,32); background: rgb(200,230,201); border: solid 1px rgb(129,199,132); padding: 10px;\">\n",
    "<h3>Question 2b</h3>\n",
    "    \n",
    "Now that we can index a sequence using kmers, we can compare sequences via their kmer composition.\n",
    "    \n",
    "<b>Challange:</b> Write a function which indexes two sequences using kmers, then returns their distance as an integer.\n",
    "\n",
    "First, index the two sequences using your previous generate_kmer_index() function.<br> \n",
    "After creating the indexes, use these to calculate kmer distance.<br>\n",
    "    \n",
    "- [ ] Input: Two sequences (seqA, seqB); and a integer k\n",
    "- [ ] Ouput: An integer representing the kmer distance\n",
    "- [ ] Return zero if either sequence yields no kmers\n",
    "    \n",
    "Distance is defined here as the sum of differences in kmer occurances between the indexes. <br>\n",
    "This includes where a kmer is unique to <strong>either</strong> sequence. For example: \n",
    "    \n",
    "- If the kmer \"ATA\" is present 4 times in seqA, and only 3 times in seqB, this would increase distance by 1. \n",
    "- If the kmer \"ATA\" is present 4 times in seqA, but zero times in seqB, this would increase distance by 4. \n",
    "    \n",
    "</div>"
   ]
  },
  {
   "cell_type": "code",
   "execution_count": null,
   "metadata": {
    "deletable": false,
    "nbgrader": {
     "cell_type": "code",
     "checksum": "15f586280671a6d4ad852db3d90bc34a",
     "grade": false,
     "grade_id": "Q2B",
     "locked": false,
     "schema_version": 3,
     "solution": true,
     "task": false
    }
   },
   "outputs": [],
   "source": [
    " # -- GRADED CELL (5 marks) - complete this cell --\n",
    "\n",
    "def calc_kmer_distance(seqA, seqB, k):\n",
    "    '''\n",
    "    Write a function which indexes two sequences using kmers, then returns their distance as an integer.\n",
    "    '''\n",
    "    \n",
    "    distance = 0\n",
    "    seqA_index = generate_kmer_index(seqA, k) \n",
    "    seqB_index = generate_kmer_index(seqB, k)\n",
    "    \n",
    "    # YOUR CODE HERE\n",
    "    for kmer in seqA_index:\n",
    "        if kmer in seqB_index:\n",
    "            difference = abs(seqA_index.get(kmer) - seqB_index.get(kmer))\n",
    "            distance += difference\n",
    "        else:\n",
    "            distance += seqA_index.get(kmer)\n",
    "    \n",
    "    for kmer in seqB_index:\n",
    "        if not kmer in seqA_index:\n",
    "            distance += seqB_index.get(kmer)\n",
    "        else:\n",
    "            continue\n",
    "    \n",
    "    return distance"
   ]
  },
  {
   "cell_type": "code",
   "execution_count": null,
   "metadata": {},
   "outputs": [],
   "source": [
    "# extra code cell for development if needed\n"
   ]
  },
  {
   "cell_type": "code",
   "execution_count": null,
   "metadata": {
    "deletable": false,
    "editable": false,
    "nbgrader": {
     "cell_type": "code",
     "checksum": "87af50b61e0f8abf4129dcab80ece551",
     "grade": true,
     "grade_id": "Q2B-T",
     "locked": true,
     "points": 5,
     "schema_version": 3,
     "solution": false,
     "task": false
    }
   },
   "outputs": [],
   "source": [
    "# Testing cell - Do not alter.\n",
    "\n",
    "# Visible tests to check your code\n",
    "\n",
    "# test1: zero distance \n",
    "dist = calc_kmer_distance(\"ATA\", \"ATA\", 3)\n",
    "print(f'test1: Expected=0, Actual={dist}')\n",
    "\n",
    "# test2: unique kmers in seqA\n",
    "dist = calc_kmer_distance(\"ATAGCAG\", \"ATA\", 3)\n",
    "print(f'test2: Expected=4, Actual={dist}')\n",
    "\n",
    "# test3: unique kmers and occurance differences\n",
    "dist = calc_kmer_distance(\"GGGGACTGGACGCAG\", \"GGGGGGGGAGTGGACGCTG\", 4)\n",
    "print(f'test3: Expected=16, Actual={dist}')\n",
    "\n",
    "# test4: no valid kmers\n",
    "dist = calc_kmer_distance(\"ATAGCACTG\", \"ATAGCACTG\", 10)\n",
    "print(f'test4: Expected=0, Actual={dist}')\n"
   ]
  },
  {
   "cell_type": "markdown",
   "metadata": {
    "deletable": false,
    "editable": false,
    "nbgrader": {
     "cell_type": "markdown",
     "checksum": "214976cbcc009c5b37675319017ff129",
     "grade": false,
     "grade_id": "cell-82057568372cd18c",
     "locked": true,
     "schema_version": 3,
     "solution": false,
     "task": false
    }
   },
   "source": [
    "<div style=\"background: rgb(255,165,0); border: solid 1px rgb(129,199,132); padding: 10px;\">    \n",
    "<h1>SECTION B: PAIRWISE ALIGNMENT</h1>\n",
    "</div>\n"
   ]
  },
  {
   "cell_type": "markdown",
   "metadata": {
    "deletable": false,
    "editable": false,
    "nbgrader": {
     "cell_type": "markdown",
     "checksum": "20ffc4da6dd7a1ed5ad88c410d590b8c",
     "grade": false,
     "grade_id": "cell-c364f5ee081f2243",
     "locked": true,
     "schema_version": 3,
     "solution": false,
     "task": false
    }
   },
   "source": [
    "## Brief\n",
    "\n",
    "Another way to compare the similarity of two sequences is through alignment.<br>\n",
    "The alignment score of two sequences will be high when they are similar, and low when they are distinct.\n",
    "\n",
    "Alignment is a much better measure of similarity between two sequences than hamming distance or kmer distance. <br>\n",
    "This is because matches, mismatches, and shifts within the sequences (indels, structural variation) are all considered. <br>\n",
    "\n",
    "The trade-off is a higher complexity: ***O(n^2)*** for alignment methods, vs ***O(n)*** for hamming & kmer based methods. \n",
    "\n",
    "\n",
    "\n",
    "In this section we will implement the Needleman-Wunsch global alignment algorithm to compare sequences & calculate alignment scores. "
   ]
  },
  {
   "cell_type": "markdown",
   "metadata": {
    "deletable": false,
    "editable": false,
    "nbgrader": {
     "cell_type": "markdown",
     "checksum": "b6348ebd54ded403fee1df107463741f",
     "grade": false,
     "grade_id": "cell-acc3aa017b6f308b",
     "locked": true,
     "schema_version": 3,
     "solution": false,
     "task": false
    }
   },
   "source": [
    "<div style=\"color: rgb(27,94,32); background: rgb(200,230,201); border: solid 1px rgb(129,199,132); padding: 10px;\">\n",
    "    \n",
    "<h3>Question 3a</h3> \n",
    "    \n",
    "<b>Challange:</b> Write a function that initialises and returns a scoregrid for two sequences.\n",
    "    \n",
    "The scoregrid should be set up for Needleman-Wunsch global alignment.     \n",
    "    \n",
    "- [ ] Input: Two sequences as strings; a gap score as an integer.\n",
    "- [ ] Output: scoregrid as a numpy array\n",
    "\n",
    "\n",
    "<b>Hints:</b>\n",
    "    \n",
    "- Consider whether gap scores for the first row and column need to be filled in, and if so, how to do this. \n",
    "- Consider the dimensions of the scoregrid relative to the input sequences\n",
    "\n",
    "</div>\n",
    "\n"
   ]
  },
  {
   "cell_type": "code",
   "execution_count": null,
   "metadata": {
    "deletable": false,
    "nbgrader": {
     "cell_type": "code",
     "checksum": "1cc4dc02b0be5d0893ebc45971b59ca4",
     "grade": false,
     "grade_id": "Q3A",
     "locked": false,
     "schema_version": 3,
     "solution": true,
     "task": false
    }
   },
   "outputs": [],
   "source": [
    "# -- GRADED CELL (5 marks) - complete this cell --\n",
    "\n",
    "def init_scoregrid(seqX, seqY, gap_score):\n",
    "    '''\n",
    "    Given two sequences, initialise and return a scoregrid to be used for Needleman-Wunsch alignment.\n",
    "    '''\n",
    "    import numpy as np\n",
    "    \n",
    "    scoregrid = None\n",
    "    \n",
    "    # YOUR CODE HERE\n",
    "    \n",
    "    scoregrid = np.zeros(shape=(len(seqY)+1, len(seqX)+1))\n",
    "\n",
    "    for i in range(1, len(seqX)+1):\n",
    "        scoregrid[0,i] = gap_score * i\n",
    "\n",
    "    for i in range(1, len(seqY)+1):\n",
    "        scoregrid[i,0] = gap_score * i\n",
    "\n",
    "    return scoregrid"
   ]
  },
  {
   "cell_type": "code",
   "execution_count": null,
   "metadata": {},
   "outputs": [],
   "source": [
    "# extra code cell for development if needed\n"
   ]
  },
  {
   "cell_type": "code",
   "execution_count": null,
   "metadata": {
    "deletable": false,
    "editable": false,
    "nbgrader": {
     "cell_type": "code",
     "checksum": "78dfae479d57072c26907c3dbb57a228",
     "grade": true,
     "grade_id": "Q3A-T",
     "locked": true,
     "points": 5,
     "schema_version": 3,
     "solution": false,
     "task": false
    }
   },
   "outputs": [],
   "source": [
    "# Testing cell - Do not alter.\n",
    "\n",
    "# Visible tests to check your code\n",
    "gap_score = -4\n",
    "\n",
    "# test1: check that scoregrid is a numpy array\n",
    "import numpy as np\n",
    "scoregrid = init_scoregrid('cello', 'hello', gap_score)\n",
    "correct_type = isinstance(scoregrid, np.ndarray)\n",
    "print(f'test1: scoregrid is a numpy array? {correct_type}')\n",
    "\n",
    "# test2: prints the scoregrid for \"ATA\" vs \"ATA\"\n",
    "# # please decide if this looks right!\n",
    "print('\\ntest2: \"ATA\" vs \"ATA\"')\n",
    "print(init_scoregrid('ATA', 'ATA', -4))\n",
    "\n",
    "# test3: prints the scoregrid for \"SATURDAY\" vs \"SUNDAY\"\n",
    "# please decide if this looks right!\n",
    "print('\\ntest3: \"SATURDAY\" vs \"SUNDAY\"')\n",
    "print(init_scoregrid('SATURDAY', 'SUNDAY', -4))\n"
   ]
  },
  {
   "cell_type": "markdown",
   "metadata": {
    "deletable": false,
    "editable": false,
    "nbgrader": {
     "cell_type": "markdown",
     "checksum": "963d6633ef72dd826bef5e2d8f04858d",
     "grade": false,
     "grade_id": "cell-f16a8e62b781f839",
     "locked": true,
     "schema_version": 3,
     "solution": false,
     "task": false
    }
   },
   "source": [
    "<div style=\"color: rgb(27,94,32); background: rgb(200,230,201); border: solid 1px rgb(129,199,132); padding: 10px;\">\n",
    "\n",
    "<h3>Question 3b</h3>\n",
    "    \n",
    "Now that we have initialised a scoregrid, we need to calculate the scores for each cell.\n",
    "\n",
    "<b>Challenge:</b> Write a function that calculates the score for a single cell in the scoregrid, according to the Needleman-Wunsch algorithm.  \n",
    "    \n",
    "- [ ] Input: The characters from seqA and seqB for this cell; The scores for the surrounding cells; match, mismatch and gap scores as integers.\n",
    "- [ ] Output: The score for the cell as an integer\n",
    "    \n",
    "</div>"
   ]
  },
  {
   "cell_type": "code",
   "execution_count": null,
   "metadata": {
    "deletable": false,
    "nbgrader": {
     "cell_type": "code",
     "checksum": "b32f4c9258032c9dae93a071b5090a54",
     "grade": false,
     "grade_id": "Q3B",
     "locked": false,
     "schema_version": 3,
     "solution": true,
     "task": false
    }
   },
   "outputs": [],
   "source": [
    "# -- GRADED CELL (4 marks) - complete this cell --\n",
    "\n",
    "def calculate_cell(charX, charY, left, diag, above, match=1, mismatch=-2, gap=-4):\n",
    "    '''\n",
    "    Write a function that calculates the score for a single cell in the scoregrid, \n",
    "    according to the Needleman-Wunsch algorithm. \n",
    "    '''\n",
    "    score = None\n",
    "    \n",
    "    # YOUR CODE HERE\n",
    "    score = 0\n",
    "    \n",
    "    if charX == charY:\n",
    "        cost = match\n",
    "    else:\n",
    "        cost = mismatch\n",
    "\n",
    "    score = max(diag + cost, left + gap, above + gap)\n",
    "            \n",
    "    return score"
   ]
  },
  {
   "cell_type": "code",
   "execution_count": null,
   "metadata": {},
   "outputs": [],
   "source": [
    "# extra code cell for development if needed\n"
   ]
  },
  {
   "cell_type": "code",
   "execution_count": null,
   "metadata": {
    "deletable": false,
    "editable": false,
    "nbgrader": {
     "cell_type": "code",
     "checksum": "279a91e22167d8666eef45cf85b84d89",
     "grade": true,
     "grade_id": "Q3B-T",
     "locked": true,
     "points": 4,
     "schema_version": 3,
     "solution": false,
     "task": false
    }
   },
   "outputs": [],
   "source": [
    "# Testing cell - Do not alter.\n",
    "\n",
    "# Visible tests to check your code\n",
    "\n",
    "# test1: matching characters\n",
    "score = calculate_cell('A', 'A', 0, 0, 0)\n",
    "print(f'test1: expected=1, actual={score}')\n",
    "\n",
    "# test2: match characters with variable surrounding cell scores\n",
    "score = calculate_cell('A', 'A', 2, 1, -2)\n",
    "print(f'test2: expected=2, actual={score}')\n",
    "\n",
    "# test3: mismatch characters with variable surrounding cell scores\n",
    "score = calculate_cell('A', 'C', 2, -2, -2)\n",
    "print(f'test3: expected=-2, actual={score}')\n"
   ]
  },
  {
   "cell_type": "markdown",
   "metadata": {
    "deletable": false,
    "editable": false,
    "nbgrader": {
     "cell_type": "markdown",
     "checksum": "562434342b544f4a08cc17a69b359a7e",
     "grade": false,
     "grade_id": "cell-11a30420613b9535",
     "locked": true,
     "schema_version": 3,
     "solution": false,
     "task": false
    }
   },
   "source": [
    "<div style=\"color: rgb(27,94,32); background: rgb(200,230,201); border: solid 1px rgb(129,199,132); padding: 10px;\">\n",
    "\n",
    "<h3>Question 3c</h3>\n",
    "\n",
    "<b>Challenge:</b> Use the init_scoregrid() and calculate_cell() functions from Q3a and Q3b to perform Needleman-Wunsch global alignment. Return the alignment score. \n",
    "    \n",
    "- [ ] Input: The two sequences to compare; match, mismatch and gap scores as integers.\n",
    "- [ ] Output: The alignment score as an integer.\n",
    "- [ ] If one sequence has length zero, return zero\n",
    "- [ ] Remember to return the correct cell as the alignment score after populating the scoregrid. \n",
    "- [ ] You <strong>do not</strong> need to implement backtracking, only populating the scoregrid and returning the alignment score. \n",
    "    \n",
    "</div>"
   ]
  },
  {
   "cell_type": "code",
   "execution_count": null,
   "metadata": {
    "deletable": false,
    "nbgrader": {
     "cell_type": "code",
     "checksum": "34a5f206d4eea59b33e6126198add6ac",
     "grade": false,
     "grade_id": "Q3C",
     "locked": false,
     "schema_version": 3,
     "solution": true,
     "task": false
    }
   },
   "outputs": [],
   "source": [
    "# -- GRADED CELL (5 marks) - complete this cell --\n",
    "\n",
    "def needleman_wunsch(seqA, seqB, match=1, mismatch=-2, gap=-4):\n",
    "    '''\n",
    "    Write a function which performs Needleman-Wunsch alignment on two sequences.\n",
    "    Use your previous init_scoregrid() and calculate_cell() functions from Q3a & Q3b. \n",
    "    You do not need to implement backtracking, only populating the scoregrid and returning the alignment score. \n",
    "    '''\n",
    "    \n",
    "    alignment_score = None\n",
    "    \n",
    "    # YOUR CODE HERE\n",
    "    array = init_scoregrid(seqA, seqB, gap)\n",
    "\n",
    "    for i in range(1, len(array)):\n",
    "        for j in range(1, len(array[i])):\n",
    "            array[i][j] = calculate_cell(seqA[j-1], seqB[i-1], array[i][j-1],\n",
    "                                         array[i-1][j-1],array[i-1][j], match, mismatch,\n",
    "                                         gap)\n",
    "    \n",
    "            alignment_score = array[i][j]\n",
    "    \n",
    "    return alignment_score    "
   ]
  },
  {
   "cell_type": "code",
   "execution_count": null,
   "metadata": {},
   "outputs": [],
   "source": [
    "# extra code cell for development if needed\n"
   ]
  },
  {
   "cell_type": "code",
   "execution_count": null,
   "metadata": {
    "deletable": false,
    "editable": false,
    "nbgrader": {
     "cell_type": "code",
     "checksum": "3780ebf86feedf54135f0ce11037dcb5",
     "grade": true,
     "grade_id": "Q3C-T",
     "locked": true,
     "points": 5,
     "schema_version": 3,
     "solution": false,
     "task": false
    }
   },
   "outputs": [],
   "source": [
    "# Testing cell - Do not alter.\n",
    "\n",
    "# Visible tests to check your code\n",
    "\n",
    "# test1: identical sequences\n",
    "aln_score = needleman_wunsch('ATA', 'ATA')\n",
    "print(f'test1: expected=3.0, actual={aln_score}')\n",
    "\n",
    "# test2: identical sequences with non-nucleotide alphabet\n",
    "aln_score = needleman_wunsch('KITTEN', 'KITTEN')\n",
    "print(f'test2: expected=6.0, actual={aln_score}')\n",
    "\n",
    "# test3: single gap\n",
    "aln_score = needleman_wunsch('ATAT', 'TAT')\n",
    "print(f'test3: expected=-1.0, actual={aln_score}')\n",
    "\n",
    "# test4: gaps and mismatches\n",
    "aln_score = needleman_wunsch('SATURDAY', 'SUNDAY')\n",
    "print(f'test4: expected=-5.0, actual={aln_score}')\n"
   ]
  },
  {
   "cell_type": "markdown",
   "metadata": {
    "deletable": false,
    "editable": false,
    "nbgrader": {
     "cell_type": "markdown",
     "checksum": "ee8eae3eda48573da80912e8fd8ec4c9",
     "grade": false,
     "grade_id": "cell-68664e72e095eb2e",
     "locked": true,
     "schema_version": 3,
     "solution": false,
     "task": false
    }
   },
   "source": [
    "<div style=\"background: rgb(255,165,0); border: solid 1px rgb(129,199,132); padding: 10px;\">    \n",
    "<h1>SECTION C: Gene mapping</h1>\n",
    "</div>\n"
   ]
  },
  {
   "attachments": {
    "Q4b.png": {
     "image/png": "[encoded data removed]"
    }
   },
   "cell_type": "markdown",
   "metadata": {
    "deletable": false,
    "editable": false,
    "nbgrader": {
     "cell_type": "markdown",
     "checksum": "f16eb866f4a787f9f8809adbde6eb68c",
     "grade": false,
     "grade_id": "cell-3461257c0f589890",
     "locked": true,
     "schema_version": 3,
     "solution": false,
     "task": false
    }
   },
   "source": [
    "## Brief\n",
    "\n",
    "In section 1 we indexed sequences using kmers, and in section 2 we performed global alignment by implementing Needleman-Wunsch. <br>\n",
    "We can now combine these strategies to map gene sequences to their locations in a genome. \n",
    "\n",
    "NOTE: In section 3 we will use the Bio.Align package to perform alignment, rather than our implementation from section 2. <br>\n",
    "This is so that imperfect implementations of Needleman-Wunsch in section 2 don't put you at a disadvantage in section 3. \n",
    "\n",
    "Our strategy will be as follows:\n",
    "1. [ ] Create a ***genome index*** using kmers\n",
    "2. [ ] For each position in the gene, extract a kmer and look up its locations in the ***genome index*** \n",
    "3. [ ] For each location, calculate a ***genome window*** so we can perform global alignment of ***gene sequence*** vs ***genome window***\n",
    "4. [ ] For each ***genome window***, Perform Needleman-Wunsch alignment of the ***gene sequence*** to the window using the Bio.Align package to get an alignment score\n",
    "5. [ ] Return the start position of the ***genome window*** with best alignment score as the mapping location. \n",
    "\n",
    "\n",
    "<br>\n",
    "\n",
    "![Q4b.png](attachment:Q4b.png)\n",
    "\n",
    "<br>\n",
    "<br>\n",
    "\n"
   ]
  },
  {
   "cell_type": "markdown",
   "metadata": {
    "deletable": false,
    "editable": false,
    "nbgrader": {
     "cell_type": "markdown",
     "checksum": "830d311efd95c9f4cc16f89a20541167",
     "grade": false,
     "grade_id": "cell-d6a5d9594e81634c",
     "locked": true,
     "schema_version": 3,
     "solution": false,
     "task": false
    }
   },
   "source": [
    "<div style=\"color: rgb(27,94,32); background: rgb(200,230,201); border: solid 1px rgb(129,199,132); padding: 10px;\">\n",
    "<h3>Question 4a</h3>\n",
    "    \n",
    "<b>Challenge:</b> Write a function that generates an index of kmers (for k = any number) and their locations for a DNA sequence. Use the python inbuilt \"dict\" type as your index.  \n",
    "\n",
    "For each location in the sequence, you will need to extract a kmer of size k, then update your dictionary for that kmer and its new witnessed location. \n",
    "    \n",
    "The location of the first kmer you extract is loc = 0 (same as list indexing).\n",
    "    \n",
    "Ensure you check the value of k is valid for the sequences. \n",
    "    \n",
    "- [ ] Input: A sequence string; and a integer k\n",
    "- [ ] Ouput: A dictionary containing kmers as keys, and the locations they appear in the sequence (list of integers) as values. \n",
    "- [ ] Return an empty dictionary if inputs do not yield any kmers\n",
    "    \n",
    "</div>"
   ]
  },
  {
   "cell_type": "code",
   "execution_count": null,
   "metadata": {
    "deletable": false,
    "nbgrader": {
     "cell_type": "code",
     "checksum": "f489705c3dd554e100f62d2438614b31",
     "grade": false,
     "grade_id": "Q4A",
     "locked": false,
     "schema_version": 3,
     "solution": true,
     "task": false
    }
   },
   "outputs": [],
   "source": [
    "# -- GRADED CELL (3 marks) - complete this cell --\n",
    "\n",
    "def generate_genome_index(seq, k):\n",
    "    '''\n",
    "    Write a function which creates an genome index using the inbuilt python \"dict\" type. \n",
    "    The index should store kmers and their locations as a list of integers from an input sequence.\n",
    "    Return the index.\n",
    "    '''\n",
    "    \n",
    "    kmer_dict = None\n",
    "    \n",
    "    # YOUR CODE HERE\n",
    "    kmer_dict = {}\n",
    "    \n",
    "    for i in range(0, len(seq)-k+1):\n",
    "        kmer = seq[i:k+i]\n",
    "\n",
    "        if kmer != '':\n",
    "            if kmer not in kmer_dict:\n",
    "                kmer_dict[kmer] = [i]\n",
    "            else:\n",
    "                kmer_dict[kmer] += [i]\n",
    "        \n",
    "    return kmer_dict"
   ]
  },
  {
   "cell_type": "code",
   "execution_count": null,
   "metadata": {},
   "outputs": [],
   "source": [
    "# extra code cell for development if needed\n"
   ]
  },
  {
   "cell_type": "code",
   "execution_count": null,
   "metadata": {
    "deletable": false,
    "editable": false,
    "nbgrader": {
     "cell_type": "code",
     "checksum": "0ea7ae12a81346a5bc8843369ac7a72d",
     "grade": true,
     "grade_id": "Q4A-T",
     "locked": true,
     "points": 3,
     "schema_version": 3,
     "solution": false,
     "task": false
    }
   },
   "outputs": [],
   "source": [
    "# Testing cell - Do not alter.\n",
    "\n",
    "# Visible tests to check your code\n",
    "\n",
    "# test1: basic test \n",
    "print(\"test1: basic test ---\")\n",
    "print('EXPECTED')\n",
    "print(\"\"\"\\\n",
    "AGA: [0, 4]\n",
    "GAC: [1, 5]\n",
    "ACA: [2]\n",
    "CAG: [3]\n",
    "\"\"\")\n",
    "\n",
    "index = generate_genome_index(\"AGACAGAC\", 3)\n",
    "print('ACTUAL')\n",
    "for kmer, locs in index.items():\n",
    "    print(f\"{kmer}: {locs}\")\n"
   ]
  },
  {
   "cell_type": "markdown",
   "metadata": {
    "deletable": false,
    "editable": false,
    "nbgrader": {
     "cell_type": "markdown",
     "checksum": "5cf0f2693f7499afebace506f14b199e",
     "grade": false,
     "grade_id": "cell-8e30091490153ba7",
     "locked": true,
     "schema_version": 3,
     "solution": false,
     "task": false
    }
   },
   "source": [
    "<div style=\"color: rgb(27,94,32); background: rgb(200,230,201); border: solid 1px rgb(129,199,132); padding: 10px;\">\n",
    "\n",
    "<h3>Question 4b</h3>\n",
    "  \n",
    "<b>Challange:</b> Write a function which calculates the Needleman-Wunsch alignment score of a gene and a genome window. Use the Bio.Align.PairwiseAligner class from Biopython to perform alignment. \n",
    "\n",
    "- [ ] Input: A gene sequence; a genome window sequence.\n",
    "- [ ] Ouput: An alignment score  \n",
    "    \n",
    "Note: \n",
    "- An PairwiseAligner class has been set up in the calc_alignment_score() function to select Needleman-Wunsch alignment, and to configure penalty scores. \n",
    "- PairwiseAligner.align() may return 2+ alignments if there are multiple equally good alignments.\n",
    "- Documentation can be seen at https://biopython.org/docs/dev/api/Bio.Align.html if needed. \n",
    "    \n",
    "<b>Hint:</b>\n",
    "    \n",
    "- It may be useful to print() the alignments produced by PairwiseAligner.align() \n",
    "    \n",
    "        \n",
    "</div>"
   ]
  },
  {
   "cell_type": "code",
   "execution_count": null,
   "metadata": {
    "deletable": false,
    "nbgrader": {
     "cell_type": "code",
     "checksum": "3cdef98f821f3e80273573b0c3d2a16e",
     "grade": false,
     "grade_id": "Q4B",
     "locked": false,
     "schema_version": 3,
     "solution": true,
     "task": false
    }
   },
   "outputs": [],
   "source": [
    "# -- GRADED CELL (3 marks) - complete this cell --\n",
    "\n",
    "def calc_alignment_score(gene, genome_window):\n",
    "    \"\"\"\n",
    "    Write a function which calculates the alignment score of a gene and a genome window.\n",
    "    Use the Bio.Align.PairwiseAligner() function from Biopython.\n",
    "    Note: PairwiseAligner may return 2+ alignments if there are multiple equally good alignments.\n",
    "    \"\"\"\n",
    "    \n",
    "    from Bio.Align import PairwiseAligner\n",
    "    aligner = PairwiseAligner()\n",
    "    aligner.mode = 'global'\n",
    "    aligner.match_score = 2\n",
    "    aligner.mismatch_score = -1\n",
    "    aligner.gap_score = -4\n",
    "\n",
    "    score = None\n",
    "    \n",
    "    # YOUR CODE HERE\n",
    "    alignment = aligner.align(gene, genome_window)\n",
    "    score = alignment.score\n",
    "    \n",
    "    return score"
   ]
  },
  {
   "cell_type": "code",
   "execution_count": null,
   "metadata": {},
   "outputs": [],
   "source": [
    "# extra code cell for development if needed\n"
   ]
  },
  {
   "cell_type": "code",
   "execution_count": null,
   "metadata": {
    "deletable": false,
    "editable": false,
    "nbgrader": {
     "cell_type": "code",
     "checksum": "6e2ce6163bab62c2d62830402e0ae328",
     "grade": true,
     "grade_id": "Q4B-T",
     "locked": true,
     "points": 3,
     "schema_version": 3,
     "solution": false,
     "task": false
    }
   },
   "outputs": [],
   "source": [
    "# Testing cell - Do not alter.\n",
    "\n",
    "# Visible tests to check your code\n",
    "\n",
    "# test1: identical sequences\n",
    "print(f\"test1: expected=10.0, actual={calc_alignment_score('ATAGC', 'ATAGC')}\")\n",
    "\n",
    "# test2: difference sequences\n",
    "print(f\"test2: expected=-1.0, actual={calc_alignment_score('GACCTG', 'CGATCG')}\")\n"
   ]
  },
  {
   "cell_type": "markdown",
   "metadata": {
    "deletable": false,
    "editable": false,
    "nbgrader": {
     "cell_type": "markdown",
     "checksum": "f64f284e4d66212d97f7a0926a1c2446",
     "grade": false,
     "grade_id": "cell-34754cafc106e38b",
     "locked": true,
     "schema_version": 3,
     "solution": false,
     "task": false
    }
   },
   "source": [
    "<div style=\"color: rgb(27,94,32); background: rgb(200,230,201); border: solid 1px rgb(129,199,132); padding: 10px;\">\n",
    "\n",
    "<h3>Question 4c</h3>\n",
    "  \n",
    "<b>Challange:</b> Write a function which performs gene mapping to a genome. The function should implement the strategy outlined in the section C <b>Brief</b>.  Use your generate_genome_index() from Q4a to index the genome using kmers of size k, and the calc_alignment_score() function from Q4b to perform alignment of the gene to a genome window. \n",
    "    \n",
    "- [ ] Input: A gene sequence; a genome sequence; an integer k. \n",
    "- [ ] Ouput: The best gene mapping location; the alignment score for that location. \n",
    "   \n",
    "        \n",
    "</div>"
   ]
  },
  {
   "cell_type": "code",
   "execution_count": null,
   "metadata": {
    "deletable": false,
    "nbgrader": {
     "cell_type": "code",
     "checksum": "5bc9f2cf023050438ce3aef8c140dfcf",
     "grade": false,
     "grade_id": "Q4C",
     "locked": false,
     "schema_version": 3,
     "solution": true,
     "task": false
    }
   },
   "outputs": [],
   "source": [
    "# -- GRADED CELL (4 marks) - complete this cell --\n",
    "\n",
    "def gene_mapping(gene, genome, k):\n",
    "    \"\"\"\n",
    "    Write a function which finds the best alignment location of a gene in a genome.\n",
    "    Use your previous generate_genome_index() and calc_alignment_score() functions from Q4a & Q4b.\n",
    "    Return the best location, and the score for that location. \n",
    "    If there a multiple equal best alignment locations, return the first one (lowest location)\n",
    "    \"\"\"\n",
    "    \n",
    "    best_loc = 0\n",
    "    best_score = 0\n",
    "    \n",
    "    # YOUR CODE HERE\n",
    "    genome_index = generate_genome_index(genome, k)\n",
    "\n",
    "    for i in range(0, len(gene)-k+1):\n",
    "        kmer = gene[i:k+i]\n",
    "        if kmer in genome_index.keys():\n",
    "            index = genome_index.get(kmer)\n",
    "            for i in index:\n",
    "                genome_window = genome[i:i+len(gene)]\n",
    "                if best_score < calc_alignment_score(gene, genome_window):\n",
    "                    best_score = calc_alignment_score(gene, genome_window)\n",
    "                    best_loc = i\n",
    "                else:\n",
    "                    continue\n",
    "        else:\n",
    "            continue\n",
    "    \n",
    "    return best_loc, best_score"
   ]
  },
  {
   "cell_type": "code",
   "execution_count": null,
   "metadata": {},
   "outputs": [],
   "source": [
    "# extra code cell for development if needed\n"
   ]
  },
  {
   "cell_type": "code",
   "execution_count": null,
   "metadata": {
    "deletable": false,
    "editable": false,
    "nbgrader": {
     "cell_type": "code",
     "checksum": "2f383883601ec604aebdb44e9d444a6f",
     "grade": true,
     "grade_id": "Q4C-T",
     "locked": true,
     "points": 4,
     "schema_version": 3,
     "solution": false,
     "task": false
    }
   },
   "outputs": [],
   "source": [
    "# Testing cell - Do not alter.\n",
    "\n",
    "# Visible tests to check your code\n",
    "\n",
    "# test1: basic test \n",
    "best_loc, best_score = gene_mapping('ATAGC', 'GACGCATGATACCAGCTAGTCT', 3)\n",
    "print(f'test1: expected best_loc=8, actual best_loc={best_loc}')\n",
    "print(f'test1: expected best_score=7.0, actual best_score={best_score}')\n"
   ]
  },
  {
   "cell_type": "markdown",
   "metadata": {},
   "source": [
    "### Short Answer Question\n",
    "\n",
    "### Question 4d\n",
    "\n",
    "(4 marks, max 100 words)\n",
    "\n",
    "<div class=\"alert alert-info\">\n",
    "\n",
    "In question 4 we use global alignment to compare a read to a genomic window. \n",
    "\n",
    "While being simple, our strategy has some trade-offs:\n",
    "    \n",
    "- The strategy may not produce a correct result if indels or structural variation are present in either the read or the genomic window, as the calculated window may not be the right size. \n",
    "- The strategy is inefficient as we know that part of the read is already an exact match to the genomic window, as we first used kmers to find seed locations for alignment.\n",
    "- The strategy is inefficient as we perform full-length alignment of read vs genomic window, even when the alignment score starts to rapidly drop (while populating the alignment scoregrid).\n",
    "    \n",
    "Describe some changes we could make to our strategy to address the points above. \n",
    "    \n",
    "</div>"
   ]
  },
  {
   "cell_type": "markdown",
   "metadata": {
    "deletable": false,
    "editable": false,
    "nbgrader": {
     "cell_type": "markdown",
     "checksum": "629163abe1cc95fc6445e776d5929113",
     "grade": false,
     "grade_id": "Q4D",
     "locked": true,
     "points": 4,
     "schema_version": 3,
     "solution": false,
     "task": true
    }
   },
   "source": [
    "<span style=\"color:rgb(17, 122, 121); font-family:Courier\"><i><b># -- GRADED CELL (4 marks) - complete this cell --</b></i></span>\n",
    "\n",
    "YOUR ANSWER HERE\n",
    "\n",
    "\n"
   ]
  },
  {
   "cell_type": "markdown",
   "metadata": {},
   "source": [
    "Instead of finding the exact length of gene sequence in the genome, we can use other method such as semi-global alignment or local alignment where there is no penalty for the offset bases. It will address issues with indels in either the read or the genomic window while allowing the sequence to shift without the worry to be penalised.\n",
    "When we find the seed locations in the dictionary, we can directly map our sequence to the genome on that kmer seed and do the alignment. \n",
    "Local alignment is better in the sense that is is finding the best local similarity in a region although it is still filling the whole scoregrid. Maybe we can give a threshold when it drops to stop populating the whole scoregrid. "
   ]
  },
  {
   "cell_type": "markdown",
   "metadata": {
    "deletable": false,
    "editable": false,
    "nbgrader": {
     "cell_type": "markdown",
     "checksum": "5270c361ca77f66c49b29daa982dbc62",
     "grade": false,
     "grade_id": "cell-834d64b1188811b2",
     "locked": true,
     "schema_version": 3,
     "solution": false,
     "task": false
    }
   },
   "source": [
    "<div style=\"background: rgb(255,165,0); border: solid 1px rgb(129,199,132); padding: 10px;\">    \n",
    "<h1>END OF ASSIGNMENT</h1>\n",
    "</div>\n"
   ]
  },
  {
   "cell_type": "markdown",
   "metadata": {
    "deletable": false,
    "editable": false,
    "nbgrader": {
     "cell_type": "markdown",
     "checksum": "90d0f789c1a2e88ec9275d37a21f2382",
     "grade": false,
     "grade_id": "cell-710a51deb217e6d9",
     "locked": true,
     "schema_version": 3,
     "solution": false,
     "task": false
    }
   },
   "source": [
    "## Submitting\n",
    "\n",
    "Follow these steps to submit your assignment\n",
    "\n",
    "1) Before you turn this assignment in, make sure everything runs as expected. First, **restart the kernel** (in the menubar, select Kernel$\\rightarrow$Restart) and then **run all cells** (in the menubar, select Cell$\\rightarrow$Run All).\n",
    "\n",
    "2) Make sure you have filled in any place that says `YOUR CODE HERE` or \"YOUR ANSWER HERE\"\n",
    "\n",
    "3) **Clear all output** (in the menubar, select Kernel$\\rightarrow$Restart & Clear Output)\n",
    "\n",
    "4) Your completed notebook file containing all your answers must be turned in via LMS in `.ipynb` format.\n",
    "\n",
    "5) You must also submit a copy of this notebook in `html` format with the output cleared (see step 3).\n",
    "\n",
    "\n",
    "Your submission should include **only two** files with names formatted as: **Assignment_1.ipynb** and **Assignment_1.html**"
   ]
  }
 ],
 "metadata": {
  "kernelspec": {
   "display_name": "Python 3 (ipykernel)",
   "language": "python",
   "name": "python3"
  },
  "language_info": {
   "codemirror_mode": {
    "name": "ipython",
    "version": 3
   },
   "file_extension": ".py",
   "mimetype": "text/x-python",
   "name": "python",
   "nbconvert_exporter": "python",
   "pygments_lexer": "ipython3",
   "version": "3.9.6"
  }
 },
 "nbformat": 4,
 "nbformat_minor": 4
}
