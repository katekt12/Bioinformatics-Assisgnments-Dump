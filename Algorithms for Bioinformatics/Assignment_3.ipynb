{
 "cells": [
  {
   "cell_type": "markdown",
   "metadata": {
    "deletable": false,
    "editable": false,
    "nbgrader": {
     "cell_type": "markdown",
     "checksum": "8fbcab624a2133ee81f76b240537936d",
     "grade": false,
     "grade_id": "cell-e55601ed0a5c1b4f",
     "locked": true,
     "schema_version": 3,
     "solution": false,
     "task": false
    }
   },
   "source": [
    "# COMP90014 Assignment 3\n",
    "### Semester 2, 2023\n",
    "Version 1.0 Last edited 20/09/2023."
   ]
  },
  {
   "cell_type": "code",
   "execution_count": null,
   "metadata": {},
   "outputs": [],
   "source": [
    "### Fill in your student details here\n",
    "NAME = \"Keziah Tikno\"\n",
    "ID = \"1319716\""
   ]
  },
  {
   "cell_type": "markdown",
   "metadata": {
    "deletable": false,
    "editable": false,
    "nbgrader": {
     "cell_type": "markdown",
     "checksum": "ce13c294f06941fb801ac3e439470802",
     "grade": false,
     "grade_id": "cell-19ffa96f45548d77",
     "locked": true,
     "schema_version": 3,
     "solution": false,
     "task": false
    }
   },
   "source": [
    "## Completing the assignment\n",
    "\n",
    "\n",
    "***Networkx***\n",
    "\n",
    "This assignment makes heavy use of the [networkx](https://networkx.org/documentation/stable/reference/introduction.html) graph package. <br>\n",
    "You need to have `networkx >= 3.1` installed to complete the assignment. \n",
    "\n",
    "Clear instructions for how to use relevant networkx functionality will be given for each question. <br>\n",
    "\n",
    "***Please ensure you use jupyter when modifying this document.***\n",
    "\n",
    "For individual questions feel free to work on your solution in an IDE (i.e. VScode), but please only make modifications to this document while using jupyter. \n",
    "\n",
    "\n",
    "***Academic integrity***\n",
    "\n",
    "This assignment should be completed by each student individually. <br>\n",
    "Make sure you read this entire document, and ask for help if anything is not clear. <br>\n",
    "Any changes or clarifications to this document will be announced via the LMS. <br>\n",
    "\n",
    "Please make sure you review the University's rules on academic honesty and plagiarism: https://academichonesty.unimelb.edu.au/\n",
    "\n",
    "Do not copy any code from other students or from the internet. This is considered plagiarism.\n",
    "\n",
    "***Completing the assignment & submission***\n",
    "\n",
    "To complete the assignment, finish the coding and short answer tasks in this notebook.<br>\n",
    "Please do not copy or delete cells in this notebook, as this may interrupt the autograding of hidden tests. <br>\n",
    "Your completed notebook file containing all your answers will be turned in via LMS. Please also submit an HTML file.\n",
    "\n",
    "***Visible & hidden tests***\n",
    "\n",
    "In some cases, we have provided test input and test output that you can use to try out your solutions. <br> \n",
    "These are visible tests and serve to warn you if you've made a mistake but are **not** exhaustive.\n",
    "\n",
    "During assessment, there are also hidden tests we run to assess your code. <br>\n",
    "As you won't see the hidden tests, it's up to you to decide whether your code is correct.\n",
    "\n",
    "**Remember to save your work early and often.**"
   ]
  },
  {
   "cell_type": "markdown",
   "metadata": {
    "deletable": false,
    "editable": false,
    "nbgrader": {
     "cell_type": "markdown",
     "checksum": "40cb7f54e0f35cefa76f32b58d7e4540",
     "grade": false,
     "grade_id": "cell-71ca9de6c37adf77",
     "locked": true,
     "schema_version": 3,
     "solution": false,
     "task": false
    }
   },
   "source": [
    "## Marking\n",
    "\n",
    "***Graded cells***\n",
    "\n",
    "Cells that must be completed to receive marks are clearly labelled with the following text:\n",
    "\n",
    "`# -- GRADED CELL (N marks) - complete this cell --`\n",
    "\n",
    "Only add answers to these cells. \n",
    "\n",
    "Some cells are code cells, in which you must complete the code to solve a problem. <br>\n",
    "Others are markdown cells, in which you must write your answers to short-answer questions. \n",
    "\n",
    "<br>\n",
    "\n",
    "***Completing code cells***\n",
    "\n",
    "You will see the following text in graded code cells:\n",
    "\n",
    "``` python\n",
    "raise NotImplementedError()\n",
    "```\n",
    "You must remove the `raise NotImplementedError()` line from the cell, and replace it with your solution.<br>\n",
    "If you want to import a library or use a helper function, the import statements must be **inside the solution cell** for that question. Ideally, it will be inside the function body. \n",
    "\n",
    "For example:\n",
    "``` python\n",
    "# -- GRADED CELL (2 marks) - complete this cell --\n",
    "\n",
    "import numpy as np  # here\n",
    "\n",
    "def your_function_name(args):\n",
    "    \"\"\"\n",
    "    function description\n",
    "    \"\"\"\n",
    "    import numpy as np  # or here\n",
    "```\n",
    "\n",
    "Include code comments in your solutions! <br>\n",
    "Well commented code can help you to receive partial marks even if the final solution is incorrect. \n",
    "\n",
    "<br>\n",
    "\n",
    "***Editing the notebook***\n",
    "\n",
    "Only graded cells will be marked.\n",
    "- Do **NOT** enter solutions outside of graded cells\n",
    "- Do **NOT** duplicate or remove cells from the notebook\n",
    "- You may add new cells to test code, but new cells will not be graded.\n",
    "- Word limits, where stated, will be strictly enforced. Answers exceeding the limit **will not be marked**.\n",
    "\n",
    "<br>\n",
    "\n",
    "***Marks***\n",
    "\n",
    "- The total marks for the assignment add up to 40.\n",
    "- This assignment will be worth 15% of your overall subject grade.\n",
    "- No marks are allocated to commenting in your code, except for where it helps you achieve partial marks (see above).\n",
    "- We do however, encourage efficient and well commented code."
   ]
  },
  {
   "cell_type": "markdown",
   "metadata": {
    "deletable": false,
    "editable": false,
    "nbgrader": {
     "cell_type": "markdown",
     "checksum": "76e7a4c991b0e65729610284a4b76587",
     "grade": false,
     "grade_id": "cell-6c00719f6f8b7574",
     "locked": true,
     "schema_version": 3,
     "solution": false,
     "task": false
    }
   },
   "source": [
    "## Submission\n",
    "\n",
    "Make sure you have filled in any place that says `# -- GRADED CELL (N marks) - complete this cell --`.\n",
    "\n",
    "Before you turn this assignment in, make sure everything runs as expected, and the output is cleared. \n",
    "\n",
    "First, **restart the kernel**:\n",
    "\n",
    "- In the menubar, select Kernel -> Restart.\n",
    "\n",
    "Next, **run all cells**:\n",
    "\n",
    "- In the menubar, select Cell -> Run All.\n",
    "\n",
    "Finally, **clear all output**:\n",
    "\n",
    "- In the menubar, select Options -> Clear All Outputs\n",
    "\n",
    "Your completed notebook file containing all your answers must be turned in via LMS in `.ipynb` format. <br>\n",
    "You must also submit a copy of this notebook in `html` format with the output cleared.\n",
    "\n",
    "Your submission should include **only two** files with names formatted as: **Assignment_3.ipynb** and **Assignment_3.html**\n",
    "\n"
   ]
  },
  {
   "cell_type": "markdown",
   "metadata": {
    "deletable": false,
    "editable": false,
    "nbgrader": {
     "cell_type": "markdown",
     "checksum": "2cacf85698e611c958998b95bdbae15f",
     "grade": false,
     "grade_id": "cell-16acd75138bd5d62",
     "locked": true,
     "schema_version": 3,
     "solution": false,
     "task": false
    }
   },
   "source": [
    "<div style=\"background: rgb(255,165,0); border: solid 1px rgb(129,199,132); padding: 10px;\">    \n",
    "\n",
    "<h1>SETUP AND DATA</h1>\n",
    "\n",
    "</div>"
   ]
  },
  {
   "cell_type": "markdown",
   "metadata": {
    "deletable": false,
    "editable": false,
    "nbgrader": {
     "cell_type": "markdown",
     "checksum": "5a11ff4d4509d36bf9361e83c07e94f8",
     "grade": false,
     "grade_id": "cell-c1ebb75aab0be3ad",
     "locked": true,
     "schema_version": 3,
     "solution": false,
     "task": false
    }
   },
   "source": [
    "### Download A3 Data and Util Functions\n"
   ]
  },
  {
   "cell_type": "code",
   "execution_count": null,
   "metadata": {},
   "outputs": [],
   "source": [
    "# if running on Linux or Mac\n",
    "!rm -rf A3\n",
    "!git clone -b A3 https://github.com/melbournebioinformatics/COMP90014 A3"
   ]
  },
  {
   "cell_type": "code",
   "execution_count": null,
   "metadata": {},
   "outputs": [],
   "source": [
    "# if running on Windows\n",
    "# !Remove-Item -Path A3 -Force -Recurse\n",
    "# !git clone -b A3 https://github.com/melbournebioinformatics/COMP90014 A3"
   ]
  },
  {
   "cell_type": "markdown",
   "metadata": {},
   "source": [
    "### Set Constants\n"
   ]
  },
  {
   "cell_type": "code",
   "execution_count": null,
   "metadata": {},
   "outputs": [],
   "source": [
    "FASTQ1_PATH = 'A3/data/readset1.fq'\n",
    "FASTQ2_PATH = 'A3/data/readset2.fq'\n",
    "DBG1_FILEPATH = 'A3/data/dbg1.pkl'\n",
    "DBG2_FILEPATH = 'A3/data/dbg2.pkl'\n",
    "IST1_FILEPATH = 'A3/data/q4a_ist.pkl'\n",
    "IST2_FILEPATH = 'A3/data/q4b_ist.pkl'"
   ]
  },
  {
   "cell_type": "markdown",
   "metadata": {
    "deletable": false,
    "editable": false,
    "nbgrader": {
     "cell_type": "markdown",
     "checksum": "b7cfe5d756b8b64bfce5dfbdbef23a62",
     "grade": false,
     "grade_id": "cell-74138ac20b48a5bd",
     "locked": true,
     "schema_version": 3,
     "solution": false,
     "task": false
    }
   },
   "source": [
    "### Load Packages\n",
    "For this assignment you may need to install some packages."
   ]
  },
  {
   "cell_type": "code",
   "execution_count": null,
   "metadata": {},
   "outputs": [],
   "source": [
    "import matplotlib.pyplot as plt\n",
    "import networkx as nx\n",
    "import numpy as np\n",
    "import pickle\n",
    "import pydot\n",
    "import mmh3\n",
    "from Bio import Align\n",
    "\n",
    "from networkx.drawing.nx_agraph import graphviz_layout # If using this opt must have pygraphviz installed\n",
    "#from networkx.drawing.nx_pydot import graphviz_layout # Alternative if pygraphviz not available\n",
    "\n",
    "import warnings\n",
    "warnings.filterwarnings('ignore')"
   ]
  },
  {
   "cell_type": "markdown",
   "metadata": {
    "deletable": false,
    "editable": false,
    "nbgrader": {
     "cell_type": "markdown",
     "checksum": "2cf40651648d84971b384df7fdf3f610",
     "grade": false,
     "grade_id": "cell-31a34331226f0c41",
     "locked": true,
     "schema_version": 3,
     "solution": false,
     "task": false
    }
   },
   "source": [
    "<div style=\"background: rgb(255,165,0); border: solid 1px rgb(129,199,132); padding: 10px;\">    \n",
    "\n",
    "<h1>Section A: Sequence Overlaps and OLC</h1>\n",
    "\n",
    "</div>"
   ]
  },
  {
   "cell_type": "markdown",
   "metadata": {
    "deletable": false,
    "editable": false,
    "nbgrader": {
     "cell_type": "markdown",
     "checksum": "208b90c9d54c4b013b6966ebfc0f3755",
     "grade": false,
     "grade_id": "SA-BRIEF",
     "locked": true,
     "schema_version": 3,
     "solution": false,
     "task": false
    }
   },
   "source": [
    "### Brief \n",
    "\n",
    "In Section A we will look at methods to compare sequences, and build an overlap graph. \n",
    "\n",
    "As biological sequence data is large, we need efficient ways to find shared regions between sequences. \n",
    "These methods apply to many situations, but here we will use them to build an overlap graph for OLC assembly, and to compare large sequences for regions of similarity. \n",
    "\n",
    "Question 1: Finding Overlaps <br>\n",
    "Question 2: Building Overlap Graph <br>\n",
    "Question 3: Minimizers for Genome-Genome alignment <br>"
   ]
  },
  {
   "cell_type": "markdown",
   "metadata": {},
   "source": [
    "## Question 1: Identifying Read Overlaps\n",
    "\n",
    "### Brief \n",
    "\n",
    "When performing OLC assembly, the first stage is to identify overlapping reads. \n",
    "\n",
    "This is a non-trivial task, as we need to compare each read to every other read for possible overlap. \n",
    "\n",
    "Given that in a typical long-read dataset we have 10,000 - 100,000 reads, and 1,000 - 100,000 bp read length, the computational time can very high without heuristics being used. \n",
    "\n",
    "For this reason, in question 1 we will first use **pairwise alignment** to find overlaps, then will add a **minhash heuristic** to speed up the process. \n",
    "\n",
    "<br>\n"
   ]
  },
  {
   "cell_type": "markdown",
   "metadata": {},
   "source": [
    "For some parts in this question we will use reads from a .fastq file. The `A3.utils.read_fastq()` function loads reads from the fastq, where each read is only the sequence line. "
   ]
  },
  {
   "cell_type": "code",
   "execution_count": null,
   "metadata": {},
   "outputs": [],
   "source": [
    "from A3.utils import read_fastq\n",
    "\n",
    "# load reads and print\n",
    "reads = read_fastq(FASTQ2_PATH)\n",
    "for i, read in enumerate(reads[:5]):\n",
    "    print(f'read {i}: {read[:20]}...')"
   ]
  },
  {
   "cell_type": "markdown",
   "metadata": {},
   "source": [
    "For this question a helper function, `calc_overlap_sg()`, has been provided to perform semi-global alignment of two sequences. \n",
    "\n",
    "- `calc_overlap_sg()` accepts two reads (str) as input, and optionally `should_print=True` to see the alignment.  \n",
    "- `calc_overlap_sg()` returns a tuple of `(aln_score, read1_span, read2_span)` when there is an overlap.\n",
    "- `calc_overlap_sg()` returns `None` when there is no overlap. \n",
    "\n",
    "This function will be used throughout question 1 for any pairwise alignments needed. \n",
    "\n",
    "Run the cell below to see examples of its use.\n"
   ]
  },
  {
   "cell_type": "code",
   "execution_count": null,
   "metadata": {},
   "outputs": [],
   "source": [
    "from A3.utils import calc_overlap_sg\n",
    "\n",
    "# demonstrating the calc_overlap_sg function\n",
    "print('\\nHELLOSUNDAY vs SATURDAYHELLO\\n')\n",
    "alignment = calc_overlap_sg(read1='HELLOSUNDAY', read2='SATURDAYHELLO', should_print=True)\n",
    "print(f'output: {alignment}\\n')\n",
    "\n",
    "print('\\nSUNDAYHELLOSUNDAY vs HELLO\\n')\n",
    "alignment = calc_overlap_sg(read1='SUNDAYHELLOSUNDAY', read2='H#LLO', should_print=True)\n",
    "print(f'output: {alignment}\\n')\n",
    "\n",
    "print('\\nKITTEN vs SITTING\\n')\n",
    "alignment = calc_overlap_sg(read1='KITTEN', read2='SITTING', should_print=True)\n",
    "print(f'output: {alignment}\\n')\n",
    "\n",
    "print('\\nKITTEN vs SUNDAYHELLOSUNDAY\\n')\n",
    "alignment = calc_overlap_sg(read1='KITTEN', read2='SUNDAYHELLOSUNDAY', should_print=True)\n",
    "print(f'output: {alignment}\\n')\n"
   ]
  },
  {
   "cell_type": "markdown",
   "metadata": {
    "deletable": false,
    "editable": false,
    "nbgrader": {
     "cell_type": "markdown",
     "checksum": "2adb3675761ece9c3f5e831c604ca082",
     "grade": false,
     "grade_id": "Q1A-Q",
     "locked": true,
     "schema_version": 3,
     "solution": false,
     "task": false
    }
   },
   "source": [
    "<div style=\"color: rgb(27,94,32); background: rgb(200,230,201); border: solid 1px rgb(129,199,132); padding: 10px;\">\n",
    "<h3>Question 1a</h3>\n",
    "    \n",
    "<b>Challenge:</b> Write a function that determines whether there is an overlap between two reads. \n",
    "   \n",
    "- [ ] Input: `read1: str`; `read2: str`; `min_score: int`; `min_overlap: int`; \n",
    "- [ ] Output: True or False (bool)\n",
    "    \n",
    "Notes: \n",
    "    \n",
    "- [ ] Only return True if the alignment score >= min_score, and overlap len >= min_overlap.\n",
    "- [ ] The alignment score and overlapping intervals for the two reads are provided by the `calc_overlap_sg()` function (see above)\n",
    "     \n",
    "</div>"
   ]
  },
  {
   "cell_type": "code",
   "execution_count": null,
   "metadata": {
    "deletable": false,
    "nbgrader": {
     "cell_type": "code",
     "checksum": "570802e435fc3ba2f902a7dc1ebc395a",
     "grade": false,
     "grade_id": "Q1A-A",
     "locked": false,
     "schema_version": 3,
     "solution": true,
     "task": false
    }
   },
   "outputs": [],
   "source": [
    "# -- GRADED CELL (2 marks) - complete this cell --\n",
    "\n",
    "def has_overlap(read1, read2, min_score, min_overlap):\n",
    "    \"\"\"\n",
    "    Returns True if there is an overlap between the two reads, else False. \n",
    "    Uses the calc_overlap_sg() function to do semi-global alignment. \n",
    "    \"\"\"\n",
    "    from A3.utils import calc_overlap_sg\n",
    "    \n",
    "    # YOUR CODE HERE\n",
    "    # Extract the alignment score between 2 reads\n",
    "    calc = calc_overlap_sg(read1, read2)\n",
    "\n",
    "    # If there is an alignment proceed to the next step\n",
    "    if calc != None:\n",
    "\n",
    "        # Extract the alignment and overlap scores from the output\n",
    "        score = calc[0]\n",
    "        overlap = calc[1][1] - calc[1][0] \n",
    "\n",
    "        # If satisfies the conditions then it returns True\n",
    "        if score >= min_score and overlap >= min_overlap:\n",
    "            return True\n",
    "\n",
    "        # Otherwise it's false\n",
    "        else:\n",
    "            return False\n",
    "            \n",
    "    else:\n",
    "        return False"
   ]
  },
  {
   "cell_type": "code",
   "execution_count": null,
   "metadata": {},
   "outputs": [],
   "source": [
    "# extra code cell for development if needed\n"
   ]
  },
  {
   "cell_type": "code",
   "execution_count": null,
   "metadata": {
    "deletable": false,
    "editable": false,
    "nbgrader": {
     "cell_type": "code",
     "checksum": "61ec46e7803e94924492acc57f712be3",
     "grade": true,
     "grade_id": "Q1A-T",
     "locked": true,
     "points": 2,
     "schema_version": 3,
     "solution": false,
     "task": false
    }
   },
   "outputs": [],
   "source": [
    "# Testing cell - Do not alter.\n",
    "\n",
    "# Visible tests\n",
    "\n",
    "# tests for simple strings\n",
    "print(f\"test1: expected=True, actual={has_overlap('SATURDAYHELLO', 'HELLOSUNDAY', 5, 5)}\")\n",
    "print(f\"test2: expected=True, actual={has_overlap('SATURDAYHELLOSUNDAY', 'HELLO', 5, 5)}\")\n",
    "print(f\"test3: expected=False, actual={has_overlap('SATURDAYHELLO', 'H#LLOSUNDAY', 5, 5)}\")\n",
    "print(f\"test4: expected=False, actual={has_overlap('SATURDAYHELLO', 'H#LLOSUNDAY', 4, 5)}\")\n",
    "print(f\"test5: expected=False, actual={has_overlap('SATURDAYHELLOSUNDAY', 'HELLO', 5, 10)}\")\n",
    "print(f\"test6: expected=True, actual={has_overlap('KITTEN', 'SITTING', 1, 5)}\")\n",
    "print(f\"test7: expected=False, actual={has_overlap('KITTEN', 'SITTING', 3, 5)}\")\n",
    "\n",
    "# tests for reads in readset\n",
    "from A3.utils import read_fastq\n",
    "reads = read_fastq(FASTQ1_PATH)\n",
    "print(f\"test8: expected=True, actual={has_overlap(reads[0], reads[1], 30, 100)}\")\n",
    "print(f\"test9: expected=False, actual={has_overlap(reads[0], reads[5], 30, 100)}\")\n"
   ]
  },
  {
   "cell_type": "markdown",
   "metadata": {
    "deletable": false,
    "editable": false,
    "nbgrader": {
     "cell_type": "markdown",
     "checksum": "d74ae5244a8899beebe479f6161460aa",
     "grade": false,
     "grade_id": "Q1B-Q",
     "locked": true,
     "schema_version": 3,
     "solution": false,
     "task": false
    }
   },
   "source": [
    "<div style=\"color: rgb(27,94,32); background: rgb(200,230,201); border: solid 1px rgb(129,199,132); padding: 10px;\">\n",
    "<h3>Question 1b</h3>\n",
    "    \n",
    "<b>Challenge:</b> Write a function to find all read overlaps for a given input readset. \n",
    "   \n",
    "- [ ] Input: `reads: list[str]`; `min_score: int`; `min_overlap: int`;\n",
    "- [ ] Output: overlaps as list of tuples, where each tuple has the format (read1, read2, read1_span, read2_span).\n",
    "\n",
    "Notes:\n",
    "    \n",
    "- [ ] You can use the previous `has_overlap()` function from q1a to identify if two reads overlap if you like\n",
    "- [ ] Only return overlaps with alignment score >= min_score, and overlap len >= min_overlap.\n",
    "- [ ] When comparing (read1, read2) for overlap, do not also compare and return (read2, read1). \n",
    "\n",
    "The span of each overlap has the format [start, end]. For example, read1_span = [0, 5].<br>\n",
    "This information is provided to you by the `calc_overlap_sg()` function. \n",
    " \n",
    "\n",
    "    \n",
    "    \n",
    "</div>"
   ]
  },
  {
   "cell_type": "code",
   "execution_count": null,
   "metadata": {
    "deletable": false,
    "nbgrader": {
     "cell_type": "code",
     "checksum": "cf7e9073983aa9c3bc0e0ce4066cf2b0",
     "grade": false,
     "grade_id": "Q1B-A",
     "locked": false,
     "schema_version": 3,
     "solution": true,
     "task": false
    }
   },
   "outputs": [],
   "source": [
    "# -- GRADED CELL (2 marks) - complete this cell --\n",
    "\n",
    "def find_overlaps_sg(reads, min_score, min_overlap):\n",
    "    \"\"\"\n",
    "    finds all pairwise overlaps between reads in a fastq file. \n",
    "    returns list of tuples, where each tuple consists of (read1, read2, read1_span, read2_span).\n",
    "    only overlaps with an alignment score of >min_score are returned.\n",
    "    \"\"\"\n",
    "    # YOUR CODE HERE\n",
    "    # Create a list of output pairwise overlaps\n",
    "    list_tup = []\n",
    "\n",
    "    # Create a pointer\n",
    "    i = 0\n",
    "\n",
    "    # Do the while loop for all pairwise comparisons\n",
    "    while i <= len(reads) - 2:\n",
    "\n",
    "        # Storing the first read\n",
    "        read1 = reads[i]\n",
    "\n",
    "        # Compare read1 with all other possible reads through iterating read2\n",
    "        for read in range(len(reads)-1-i):\n",
    "            read2 = reads[read+1+i]\n",
    "\n",
    "            # Extract the alignment score between 2 reads\n",
    "            calc = calc_overlap_sg(read1, read2)\n",
    "\n",
    "            # If there is an alignment proceed to the next step\n",
    "            if calc != None:\n",
    "\n",
    "                # Extract the alignment and overlap scores from the output\n",
    "                score = calc[0]\n",
    "                overlap = calc[1][1] - calc[1][0] \n",
    "\n",
    "                # If satisfies all conditions, extract the read1 and read2 alignment span from calc_overlap_sg function\n",
    "                # Put it into a tup with (read1, read2, read1_span, read2_span) format\n",
    "                # Store it into the list_tup\n",
    "                if score >= min_score and overlap >= min_overlap:\n",
    "                    tup = (read1, read2, calc[1], calc[2])\n",
    "                    list_tup.append(tup)\n",
    "\n",
    "        # Add the pointer to change read1 with the next read\n",
    "        i += 1\n",
    "\n",
    "    # Return the output in the list_tup\n",
    "    return list_tup"
   ]
  },
  {
   "cell_type": "code",
   "execution_count": null,
   "metadata": {
    "scrolled": true
   },
   "outputs": [],
   "source": [
    "# extra code cell for development if needed\n",
    "                "
   ]
  },
  {
   "cell_type": "code",
   "execution_count": null,
   "metadata": {
    "deletable": false,
    "editable": false,
    "nbgrader": {
     "cell_type": "code",
     "checksum": "8ba50fe82d17b69b53a4b04d84adb467",
     "grade": true,
     "grade_id": "Q1B-T",
     "locked": true,
     "points": 2,
     "schema_version": 3,
     "solution": false,
     "task": false
    }
   },
   "outputs": [],
   "source": [
    "# Testing cell - Do not alter.\n",
    "\n",
    "# Visible tests\n",
    "\n",
    "# --- test 1 ---\n",
    "reads = ['HELLOSUNDAY', 'SATUDAYHELLO', 'THERE', 'SATURDAYTHERESUNDAY']\n",
    "\n",
    "print('\\n--- Test 1 ---')\n",
    "print('\\nexpected:')\n",
    "print(\"\"\"\\\n",
    "('HELLOSUNDAY', 'SATUDAYHELLO', (0, 5), (7, 12))\n",
    "('THERE', 'SATURDAYTHERESUNDAY', (0, 5), (8, 13))\\\n",
    "\"\"\")\n",
    "\n",
    "overlaps = find_overlaps_sg(reads, min_score=5, min_overlap=5)\n",
    "print('\\nactual:')\n",
    "for ov in overlaps:\n",
    "    print(ov)\n",
    "\n",
    "# --- test 2 ---\n",
    "reads = ['KITTEN', 'SITTING', 'CAKE', 'BLAKE']\n",
    "\n",
    "print('\\n--- Test 2 ---')\n",
    "print('\\nexpected:')\n",
    "print(\"\"\"\\\n",
    "('KITTEN', 'SITTING', (0, 6), (0, 6))\\\n",
    "\"\"\")\n",
    "\n",
    "overlaps = find_overlaps_sg(reads, min_score=1, min_overlap=5)\n",
    "print('\\nactual:')\n",
    "for ov in overlaps:\n",
    "    print(ov)\n",
    "\n",
    "# --- test 3 ---\n",
    "from A3.utils import read_fastq\n",
    "reads = read_fastq(FASTQ1_PATH)\n",
    "print('\\n--- Test 3: first 5 overlaps for readset of 33 long reads with avg length 1000 ---')\n",
    "print('\\nexpected:')\n",
    "print(\"\"\"\\\n",
    "(172, 798) (0, 627)\n",
    "(604, 1021) (0, 417)\n",
    "(433, 627) (0, 199)\n",
    "(457, 924) (0, 477)\n",
    "(424, 830) (0, 403)\\\n",
    "\"\"\")\n",
    "print('\\nactual:')\n",
    "overlaps = find_overlaps_sg(reads, min_score=30, min_overlap=100)\n",
    "for ov in overlaps[:5]:\n",
    "    print(ov[2], ov[3])\n"
   ]
  },
  {
   "cell_type": "markdown",
   "metadata": {
    "deletable": false,
    "editable": false,
    "nbgrader": {
     "cell_type": "markdown",
     "checksum": "628df4de5c980853eb948b112b672d83",
     "grade": false,
     "grade_id": "Q1C-Q",
     "locked": true,
     "schema_version": 3,
     "solution": false,
     "task": false
    }
   },
   "source": [
    "<div style=\"color: rgb(27,94,32); background: rgb(200,230,201); border: solid 1px rgb(129,199,132); padding: 10px;\">\n",
    "<h3>Question 1c</h3>\n",
    " \n",
    "You may have noticed that Test 3 for Question 1b ran for around 5-10 seconds. <br>\n",
    "There are 33 reads in this readset, with 1000bp average length. <br>\n",
    "Since the runtime of this test was a few seconds, a real long-read dataset would take days or weeks to complete! \n",
    "    \n",
    "Unfortunately, on real data, finding overlaps via semi-global alignment is extremely slow. \n",
    " \n",
    "To remedy this, we will implement a minhash preprocessing step to identify reads which may have overlap before doing any alignment.   \n",
    "       \n",
    "<b>Challenge:</b> Write a function to create a minhash sketch for a given sequence. \n",
    "  \n",
    "- [ ] Input: `sequence: str`; `k: int`; `n: int`;\n",
    "- [ ] Output: minhash sketch of sequence (set of integers)   \n",
    "\n",
    "Notes:\n",
    "\n",
    "- [ ] Use the value of `k` for kmer size    \n",
    "- [ ] Use `mmh3.hash(kmer, seed=SEED)` to calculate hash values\n",
    "- [ ] Only return the `n` smallest kmer hash values\n",
    "\n",
    "    \n",
    "\n",
    "    \n",
    "  \n",
    "\n",
    "    \n",
    "    \n",
    "</div>"
   ]
  },
  {
   "cell_type": "code",
   "execution_count": null,
   "metadata": {
    "deletable": false,
    "nbgrader": {
     "cell_type": "code",
     "checksum": "561b983257c95a8aaae7d63274830932",
     "grade": false,
     "grade_id": "Q1C-A",
     "locked": false,
     "schema_version": 3,
     "solution": true,
     "task": false
    }
   },
   "outputs": [],
   "source": [
    "# -- GRADED CELL (1 marks) - complete this cell --\n",
    "\n",
    "def get_sketch(sequence, k, n):\n",
    "    \"\"\"\n",
    "    calculates the minhash sketch for a sequence.\n",
    "    returns a set of n integers.\n",
    "    \"\"\"\n",
    "    import mmh3\n",
    "    SEED = 42\n",
    "\n",
    "    # YOUR CODE HERE\n",
    "    # Create a list to store kmers\n",
    "    kmers = []\n",
    "\n",
    "    # Extract the kmers from the given sequence with k size\n",
    "    # Use mmh3.hash(kmer, seed=SEED) to calculate hash values\n",
    "    # Store it into the kmers list\n",
    "    for i in range(len(sequence)-k+1):\n",
    "        kmer = sequence[i:i+k]\n",
    "        kmers.append(mmh3.hash(kmer, seed=SEED))\n",
    "\n",
    "    # Sort the list with kmers inside\n",
    "    kmers.sort()\n",
    "\n",
    "    # Return the n smallest kmer hash values (set of integers)\n",
    "    minhash = set(kmers[:n])\n",
    "\n",
    "    return minhash"
   ]
  },
  {
   "cell_type": "code",
   "execution_count": null,
   "metadata": {},
   "outputs": [],
   "source": [
    "# extra code cell for development if needed\n"
   ]
  },
  {
   "cell_type": "code",
   "execution_count": null,
   "metadata": {
    "deletable": false,
    "editable": false,
    "nbgrader": {
     "cell_type": "code",
     "checksum": "a57a676b8cd8f4df72482df586ac212a",
     "grade": true,
     "grade_id": "Q1C-T",
     "locked": true,
     "points": 1,
     "schema_version": 3,
     "solution": false,
     "task": false
    }
   },
   "outputs": [],
   "source": [
    "# Testing cell - Do not alter.\n",
    "\n",
    "# Visible tests\n",
    "\n",
    "# test 1: return type\n",
    "print('\\n--- test 1 - checking output type ---')\n",
    "sketch = get_sketch('HELLO_THERE_FRIEND!', k=5, n=3)\n",
    "print(f\"expected=<class 'set'>, actual={type(sketch)}\")\n",
    "\n",
    "# test 2: toy example\n",
    "print('\\n--- test 2 - toy example ---')\n",
    "sketch = list(get_sketch('HELLO_THERE_FRIEND!', k=5, n=3))\n",
    "sketch.sort()\n",
    "print('expected: [-1497645356, -1462843622, -1050684777]')\n",
    "print(f\"actual:   {sketch}\")\n",
    "\n",
    "# test 3: actual read seq\n",
    "reads = read_fastq(FASTQ2_PATH)\n",
    "seq = reads[0]\n",
    "sketch = list(get_sketch(seq, k=8, n=5))\n",
    "sketch.sort()\n",
    "print('\\n--- test 3 ---')\n",
    "print('expected: [-2146380568, -2145247518, -2145038097, -2142884265, -2142628213]')\n",
    "print(f\"actual:   {sketch}\")\n",
    "\n"
   ]
  },
  {
   "cell_type": "markdown",
   "metadata": {
    "deletable": false,
    "editable": false,
    "nbgrader": {
     "cell_type": "markdown",
     "checksum": "036c227ab52761e86723912368f06f51",
     "grade": false,
     "grade_id": "Q1D-Q",
     "locked": true,
     "schema_version": 3,
     "solution": false,
     "task": false
    }
   },
   "source": [
    "<div style=\"color: rgb(27,94,32); background: rgb(200,230,201); border: solid 1px rgb(129,199,132); padding: 10px;\">\n",
    "<h3>Question 1d</h3>\n",
    "  \n",
    "<b>Challenge:</b> Write a function to calculate the jaccard index for two sets\n",
    "   \n",
    "- [ ] Input: `set1: set[str]`; `set2: set[str]`;\n",
    "- [ ] Output: jaccard index as float\n",
    "\n",
    "For this question, do not create a union sketch. Return the jaccard index according to the following formula: \n",
    "    \n",
    "<img style=\"max-width: 300px\" src=\"https://github.com/melbournebioinformatics/COMP90014/raw/A3/media/q1d_figure.PNG\" />\n",
    "    \n",
    "<br>    "
   ]
  },
  {
   "cell_type": "code",
   "execution_count": null,
   "metadata": {
    "deletable": false,
    "nbgrader": {
     "cell_type": "code",
     "checksum": "3995e1b282c8179112d6be5df2907432",
     "grade": false,
     "grade_id": "Q1D-A",
     "locked": false,
     "schema_version": 3,
     "solution": true,
     "task": false
    }
   },
   "outputs": [],
   "source": [
    "# -- GRADED CELL (1 marks) - complete this cell --\n",
    "\n",
    "def calc_jaccard(set1, set2):\n",
    "    \"\"\"\n",
    "    calculates the jaccard index between two sets.\n",
    "    returns a float.\n",
    "    \"\"\"\n",
    "    # YOUR CODE HERE\n",
    "    # Create jaccard formula given 2 sets of minhash values\n",
    "    jaccard = abs(len(set1 & set2)) / (abs(len(set1)) + abs(len(set2)) - abs(len(set1 & set2)))\n",
    "\n",
    "    # Return the jaccard index\n",
    "    return jaccard\n"
   ]
  },
  {
   "cell_type": "code",
   "execution_count": null,
   "metadata": {},
   "outputs": [],
   "source": [
    "# extra code cell for development if needed\n"
   ]
  },
  {
   "cell_type": "code",
   "execution_count": null,
   "metadata": {
    "deletable": false,
    "editable": false,
    "nbgrader": {
     "cell_type": "code",
     "checksum": "0b4bf50daabfd1cf814e1283125707c4",
     "grade": true,
     "grade_id": "Q1D-T",
     "locked": true,
     "points": 1,
     "schema_version": 3,
     "solution": false,
     "task": false
    }
   },
   "outputs": [],
   "source": [
    "# Testing cell - Do not alter.\n",
    "\n",
    "reads = read_fastq(FASTQ2_PATH)\n",
    "\n",
    "# --- test 1: two overlapping reads --- \n",
    "sketch1 = get_sketch(reads[0], k=8, n=200)\n",
    "sketch2 = get_sketch(reads[1], k=8, n=200)\n",
    "print('\\n--- test 1 (overlapping reads) ---')\n",
    "print(f'expected=0.25, actual={calc_jaccard(sketch1, sketch2):0.2f}')\n",
    "\n",
    "# --- test 2: two non-overlapping reads --- \n",
    "sketch1 = get_sketch(reads[0], k=8, n=200)\n",
    "sketch2 = get_sketch(reads[4], k=8, n=200)\n",
    "print('\\n--- test 2 (non-overlapping reads) ---')\n",
    "print(f'expected=0.02, actual={calc_jaccard(sketch1, sketch2):0.2f}')\n",
    "\n"
   ]
  },
  {
   "cell_type": "markdown",
   "metadata": {
    "deletable": false,
    "editable": false,
    "nbgrader": {
     "cell_type": "markdown",
     "checksum": "00931957faf40cf965d6542ffdcb3191",
     "grade": false,
     "grade_id": "Q1E-Q",
     "locked": true,
     "schema_version": 3,
     "solution": false,
     "task": false
    }
   },
   "source": [
    "<div style=\"color: rgb(27,94,32); background: rgb(200,230,201); border: solid 1px rgb(129,199,132); padding: 10px;\">\n",
    "<h3>Question 1e</h3>\n",
    "  \n",
    "<b>Challenge:</b> Write a single function to find all read overlaps for a given input readset, using a minhash preprocessing step as heuristic. \n",
    "      \n",
    "- [ ] Input: `reads: list[str]`; `k: int`; `n: int`; `min_jaccard: float`; `min_score: int`; `min_overlap: int`;\n",
    "- [ ] Output: `overlaps: list` a list of tuples, where each tuple has the format (read1_idx, read2_idx, read1_span, read2_span).\n",
    "    \n",
    "As our sequences are long, rather than returning the actual reads, return the index of each read in the overlap. That is:\n",
    "\n",
    "- [ ] read1_idx is the index of read1 in the readset\n",
    "- [ ] read2_idx is the index of read2 in the readset\n",
    "\n",
    "Your function should have 2 steps. \n",
    "    \n",
    "- Step 1: prescreen pairs of reads for possible overlap using `get_sketch()` and `calc_jaccard()`\n",
    "- Step 2: for candidate pairs, perform semi-global alignment using `A3.utils.calc_overlap_sg()`\n",
    "    \n",
    "Notes:\n",
    "- [ ] Step 1: only consider read pairs if jaccard index is >= `min_jaccard`\n",
    "- [ ] Step 2: only return overlaps with alignment score >= `min_score`, and overlap len >= `min_overlap`.\n",
    "- [ ] The `k` and `n` parameters should be passed to your `get_sketch()` function from q1c\n",
    "- [ ] The test case below takes approximately 10 seconds to run on our test machine. \n",
    "- [ ] If your function takes more than 1 minute to run on our test machine, you will lose 1 mark.  \n",
    "- [ ] The input readset has been ordered by position, so consecutive reads are likely to overlap.     \n",
    "    \n"
   ]
  },
  {
   "cell_type": "code",
   "execution_count": null,
   "metadata": {
    "deletable": false,
    "nbgrader": {
     "cell_type": "code",
     "checksum": "1413b6714486bfbbbf25c1b491c3e91a",
     "grade": false,
     "grade_id": "Q1E-A",
     "locked": false,
     "schema_version": 3,
     "solution": true,
     "task": false
    }
   },
   "outputs": [],
   "source": [
    "# -- GRADED CELL (3 marks) - complete this cell --\n",
    "\n",
    "def find_overlaps_minhash(reads, k, n, min_jaccard, min_score, min_overlap):\n",
    "    \"\"\"\n",
    "    Finds all pairwise overlaps between reads in an input readset.\n",
    "    - Has a minhash preprocessing step to identify possibly overlapping reads. \n",
    "    - Has a semi-global alignment step to validate alignment.\n",
    "    \n",
    "    Returns list of tuples, where each tuple consists of (read1, read2, read1_span, read2_span).\n",
    "    \"\"\"\n",
    "    from A3.utils import calc_overlap_sg\n",
    "    \n",
    "    # YOUR CODE HERE\n",
    "    # Create a list to store the output\n",
    "    list_tup = []\n",
    "\n",
    "    # Do for loop for all pairwise comparisons\n",
    "    for i in range(len(reads)-1):\n",
    "\n",
    "        # Minhashing read1 using previous get_sketch\n",
    "        # Stored as set1\n",
    "        set1 = get_sketch(reads[i], k, n)\n",
    "\n",
    "        # Compare read1 with all other possible reads through iterating read2\n",
    "        for j in range(i+1,len(reads)):\n",
    "            \n",
    "            # Minhashing read1 using previous get_sketch\n",
    "            # Stored as set1\n",
    "            set2 = get_sketch(reads[j], k, n)\n",
    "\n",
    "            # Extract the jaccard index between the 2 sets\n",
    "            jaccard = calc_jaccard(set1, set2)\n",
    "\n",
    "            # If jaccard index pass the min index then proceed to the next step\n",
    "            if jaccard >= min_jaccard:\n",
    "\n",
    "                # Extract the alignment score between the 2 reads\n",
    "                calc = calc_overlap_sg(reads[i], reads[j])\n",
    "\n",
    "                # If there is an alignment proceed to the next step\n",
    "                if calc != None:\n",
    "\n",
    "                    # Extract the alignment and overlap scores from the output\n",
    "                    score = calc[0]\n",
    "                    overlap = calc[1][1] - calc[1][0] \n",
    "\n",
    "                    # If the alignment and overlap scores exceed the min scores then proceed to the next step\n",
    "                    if score >= min_score and overlap >= min_overlap:\n",
    "\n",
    "                        # Store it in the tuple of (read1_idx, read2_idx, read1_span, read2_span) format\n",
    "                        # Append it into the list\n",
    "                        tup = (i, j, calc[1], calc[2])\n",
    "                        list_tup.append(tup)\n",
    "\n",
    "                # If the alignment doesn't exist proceed to the next read\n",
    "                else:\n",
    "                    continue\n",
    "\n",
    "            # If the jaccard index below the min index then proceed to the next read\n",
    "            else:\n",
    "                continue\n",
    "\n",
    "    # Return the output list\n",
    "    return list_tup"
   ]
  },
  {
   "cell_type": "code",
   "execution_count": null,
   "metadata": {
    "scrolled": true
   },
   "outputs": [],
   "source": [
    "# extra code cell for development if needed\n"
   ]
  },
  {
   "cell_type": "code",
   "execution_count": null,
   "metadata": {
    "deletable": false,
    "editable": false,
    "nbgrader": {
     "cell_type": "code",
     "checksum": "e7036287e0585bb4a1435dd6396e6917",
     "grade": true,
     "grade_id": "Q1E-T",
     "locked": true,
     "points": 3,
     "schema_version": 3,
     "solution": false,
     "task": false
    }
   },
   "outputs": [],
   "source": [
    "# Testing cell - Do not alter.\n",
    "\n",
    "# Visible tests\n",
    "\n",
    "print('\\n--- Single Test ---')\n",
    "print('expected:')\n",
    "print(\"\"\"\\\n",
    "i: 0\tj: 1\tspan1: (2248, 5125)\tspan2: (0, 2858)\n",
    "i: 1\tj: 2\tspan1: (2540, 4994)\tspan2: (0, 2448)\n",
    "i: 2\tj: 3\tspan1: (1222, 4326)\tspan2: (0, 3098)\n",
    "i: 3\tj: 5\tspan1: (2582, 5320)\tspan2: (0, 2758)\n",
    "i: 3\tj: 6\tspan1: (3453, 5320)\tspan2: (0, 1863)\n",
    "i: 5\tj: 6\tspan1: (874, 3830)\tspan2: (0, 2939)\n",
    "i: 5\tj: 7\tspan1: (2493, 4649)\tspan2: (0, 2166)\n",
    "i: 7\tj: 8\tspan1: (2567, 4702)\tspan2: (0, 2142)\n",
    "i: 7\tj: 9\tspan1: (2896, 4702)\tspan2: (0, 1805)\n",
    "i: 8\tj: 9\tspan1: (332, 5131)\tspan2: (0, 4791)\\\n",
    "\"\"\")\n",
    "\n",
    "print('\\nactual:')\n",
    "reads = read_fastq(FASTQ2_PATH)[:20]\n",
    "overlaps = find_overlaps_minhash(reads, k=9, n=250, min_jaccard=0.1, min_score=30, min_overlap=100)\n",
    "for read1_idx, read2_idx, read1_span, read2_span in overlaps[:10]:\n",
    "    print(f'i: {read1_idx}\\tj: {read2_idx}\\tspan1: {read1_span}\\tspan2: {read2_span}')\n"
   ]
  },
  {
   "cell_type": "markdown",
   "metadata": {
    "deletable": false,
    "editable": false,
    "nbgrader": {
     "cell_type": "markdown",
     "checksum": "a388f64815c91c57e229aece8e07ef91",
     "grade": false,
     "grade_id": "Q1F-Q",
     "locked": true,
     "points": 2,
     "schema_version": 3,
     "solution": false,
     "task": true
    }
   },
   "source": [
    "\n",
    "### Question 1f (short answer)\n",
    "\n",
    "(2 marks, max 200 words)\n",
    "\n",
    "<div class=\"alert alert-info\">\n",
    "\n",
    "While highly efficient, Minhash is a **heuristic** for finding read overlaps. \n",
    "- In what situations could the minhash heuristic not identify reads which genuinely have overlap? (1)\n",
    "- In what manner does minhash sample kmers from a sequence? (0.5) \n",
    "- Briefly descibe another approach which samples kmers in a manner more suited to finding overlaps. (0.5)\n",
    "    \n",
    "</div>\n"
   ]
  },
  {
   "cell_type": "markdown",
   "metadata": {},
   "source": [
    "<span style=\"color:rgb(17, 122, 121); font-family:Courier\"><i><b># -- GRADED CELL (2 marks) - complete this cell --</b></i></span>\n",
    "\n",
    "YOUR ANSWER HERE\n",
    "\n"
   ]
  },
  {
   "cell_type": "markdown",
   "metadata": {},
   "source": [
    "- 1. When the reads are very short then there is a higher chance that the hash values will be the same even though the reads don't overlap.\n",
    "  2. When there is a lot of repetitive sequences\n",
    "  3. Sequencing errors that will change the hash values and cause it not to overlap.\n",
    "- Minhash sample kmers using a random hash function to generate a hash value for each kmer. The minimum hash value for all kmers in the sequence is then selected. The minimum hash values are then stored.\n",
    "- Minimizers and window. Using minimizers we don't need to extract every kmers, just partition them into separate windows and select the minimum kmer from that every windows according to an order."
   ]
  },
  {
   "cell_type": "markdown",
   "metadata": {},
   "source": [
    "## Question 2: Building Overlap Graph \n",
    "\n",
    "### Brief\n",
    "\n",
    "Once read overlaps have been identified, we need to create an overlap graph from the overlaps. \n",
    "\n",
    "In question 2 we will identify the **relation** of each overlap, and will **build** our graph accordingly. \n",
    "\n",
    "<br>"
   ]
  },
  {
   "cell_type": "markdown",
   "metadata": {
    "deletable": false,
    "editable": false,
    "nbgrader": {
     "cell_type": "markdown",
     "checksum": "2e0a37c5910adc7e8efa22d7bd30d119",
     "grade": false,
     "grade_id": "Q2A-Q",
     "locked": true,
     "schema_version": 3,
     "solution": false,
     "task": false
    }
   },
   "source": [
    "<div style=\"color: rgb(27,94,32); background: rgb(200,230,201); border: solid 1px rgb(129,199,132); padding: 10px;\">\n",
    "<h3>Question 2a</h3>\n",
    "  \n",
    "<b>Challenge:</b> Write a function to determine the relationship of an overlap.\n",
    "         \n",
    "- [ ] Input: `read1: str`; `read2: str`; `read1_span: [int, int]`; `read1_span: [int, int]`;\n",
    "- [ ] Output: The relationship [str] - either \"contained\", \"contains\", \"suffix\", or \"prefix\"\n",
    "\n",
    "Notes:\n",
    "    \n",
    "- [ ] Consider the sequence lengths and the spans when identifying the relationship. \n",
    "- [ ] The frame of reference is from read1. See the following examples, and the test cases for more clarification. \n",
    "- [ ] In the test cases, read1 is referred to as \"target\" and read2 is referred to as \"query\"\n",
    "\n",
    "<div style=\"width: 400px\"><pre>\n",
    "read2 is a 'suffix' relative to read1.\n",
    "\n",
    "    read1: HELLO------\n",
    "              ||\n",
    "    read2: ---LOCATION\n",
    "    \n",
    "read2 is 'contained' relative to read1.\n",
    "    \n",
    "    read1: SUNDAYHELLOSUNDAY\n",
    "                 |||||                  \n",
    "    read2: ------HELLO------ \n",
    "</pre></div>\n",
    "\n",
    "    \n",
    " <br>"
   ]
  },
  {
   "cell_type": "code",
   "execution_count": null,
   "metadata": {
    "deletable": false,
    "nbgrader": {
     "cell_type": "code",
     "checksum": "4a87a38a853f4a0b3921496d1435c6c2",
     "grade": false,
     "grade_id": "Q2A-A",
     "locked": false,
     "schema_version": 3,
     "solution": true,
     "task": false
    }
   },
   "outputs": [],
   "source": [
    "# -- GRADED CELL (2 marks) - complete this cell --\n",
    "\n",
    "def get_relationship(read1, read2, read1_span, read2_span):\n",
    "    \"\"\"\n",
    "    Determines the relationship between two reads.\n",
    "    Returns a string of either 'contained', 'contains', 'suffix', or 'prefix'.\n",
    "    \n",
    "    Frame of reference is from read1. \n",
    "    \"\"\"\n",
    "    \n",
    "    # YOUR CODE HERE\n",
    "    # When read1 span starts from index 0 (= 1st character in a word) and read2 span doesn't start from index 0\n",
    "    # 2 possibilities:\n",
    "    # -Prefix if the length of read1 is longer than the overlap => the overlap in read2 is the prefix of read1\n",
    "    # -Contains if the length of read1 is only the overlap => read2 contains read1\n",
    "    if read1_span[0] == 0 and read2_span[0] != 0:\n",
    "        relship = \"prefix\"\n",
    "        \n",
    "        if read1_span[1] == len(read1):\n",
    "            relship = 'contains'  \n",
    "\n",
    "    # Otherwise, it is the other way around, read2 starts from index 0 and read1 doesn't\n",
    "    # 2 possibilities:\n",
    "    # -Suffix if the length of read2 is longer than the overlap => the overlap in read2 is the suffix of read1\n",
    "    # -Contained if the length of read2 is only the overlap => read2 is contained in read1\n",
    "    elif read2_span[0] == 0 and read1_span[0] != 0:\n",
    "        relship = \"suffix\"\n",
    "        \n",
    "        if read2_span[1] == len(read2):\n",
    "            relship = \"contained\"\n",
    "\n",
    "    # Return the relationship\n",
    "    return relship"
   ]
  },
  {
   "cell_type": "code",
   "execution_count": null,
   "metadata": {},
   "outputs": [],
   "source": [
    "# extra code cell for development if needed\n"
   ]
  },
  {
   "cell_type": "code",
   "execution_count": null,
   "metadata": {
    "deletable": false,
    "editable": false,
    "nbgrader": {
     "cell_type": "code",
     "checksum": "338a360ce320b0369858fb5dfe8147e7",
     "grade": true,
     "grade_id": "Q2A-T",
     "locked": true,
     "points": 2,
     "schema_version": 3,
     "solution": false,
     "task": false
    }
   },
   "outputs": [],
   "source": [
    "# Testing cell - Do not alter.\n",
    "\n",
    "# Visible tests\n",
    "\n",
    "print('\\n--- test 1 ---\\n')\n",
    "read1 = 'HELLOSUNDAY'\n",
    "read2 = 'SATURDAYHELLO'\n",
    "_, read1_span, read2_span = calc_overlap_sg(read1, read2, should_print=True)\n",
    "print(f'expected=prefix, actual={get_relationship(read1, read2, read1_span, read2_span)}')\n",
    "\n",
    "print('\\n--- test 2 ---\\n')\n",
    "read1, read2 = read2, read1\n",
    "_, read1_span, read2_span = calc_overlap_sg(read1, read2, should_print=True)\n",
    "print(f'expected=suffix, actual={get_relationship(read1, read2, read1_span, read2_span)}')\n",
    "\n",
    "print('\\n--- test 3 ---\\n')\n",
    "read1 = 'SUNDAYHELLOSUNDAY'\n",
    "read2 = 'HELLO'\n",
    "_, read1_span, read2_span = calc_overlap_sg(read1, read2, should_print=True)\n",
    "print(f'expected=contained, actual={get_relationship(read1, read2, read1_span, read2_span)}')\n",
    "\n",
    "print('\\n--- test 4 ---\\n')\n",
    "read1, read2 = read2, read1\n",
    "_, read1_span, read2_span = calc_overlap_sg(read1, read2, should_print=True)\n",
    "print(f'expected=contains, actual={get_relationship(read1, read2, read1_span, read2_span)}')\n"
   ]
  },
  {
   "cell_type": "markdown",
   "metadata": {
    "deletable": false,
    "editable": false,
    "nbgrader": {
     "cell_type": "markdown",
     "checksum": "2a445e12e56c37d485e62306663129d7",
     "grade": false,
     "grade_id": "Q2B-Q",
     "locked": true,
     "schema_version": 3,
     "solution": false,
     "task": false
    }
   },
   "source": [
    "<div style=\"color: rgb(27,94,32); background: rgb(200,230,201); border: solid 1px rgb(129,199,132); padding: 10px;\">\n",
    "<h3>Question 2b</h3>\n",
    "  \n",
    "<b>Challenge:</b> Write a function to create an overlap graph as a networkx.DiGraph from a list of reads.\n",
    "         \n",
    "- [ ] Input: `reads: list[str]`; `min_overlap: int`; `min_score: int`;\n",
    "- [ ] Output: overlap graph as networkx.DiGraph\n",
    "- [ ] Nodes in the graph should be reads\n",
    "- [ ] Edges in the graph should be directed, indicating the overlap relationship, and be labelled with the overlap length. \n",
    "    \n",
    "Notes:\n",
    "- [ ] For each read, use the `calc_overlap_sg()` function to identify whether it overlaps any other read.\n",
    "- [ ] If two reads overlap, use your previous `get_relationship()` function to identify the overlap relationship.\n",
    "- [ ] **Only** add edges to the graph if the relationship is either \"prefix\" or \"suffix\".\n",
    "- [ ] Edges should have a 'label' property with the length of the overlap.     \n",
    "    \n",
    "The test cell output should produce plots similar to the following:\n",
    "    \n",
    "<img src=\"https://github.com/melbournebioinformatics/COMP90014/raw/A3/media/q2b_figure.PNG\" />"
   ]
  },
  {
   "cell_type": "code",
   "execution_count": null,
   "metadata": {
    "deletable": false,
    "nbgrader": {
     "cell_type": "code",
     "checksum": "36fe1ff079c80a56e446ff2799083fe2",
     "grade": false,
     "grade_id": "Q2B-A",
     "locked": false,
     "schema_version": 3,
     "solution": true,
     "task": false
    }
   },
   "outputs": [],
   "source": [
    "# -- GRADED CELL (3 marks) - complete this cell --\n",
    "\n",
    "def create_overlap_graph(reads, min_overlap=4, min_score=4):\n",
    "    \"\"\"\n",
    "    Creates an overlap graph for a given set of reads.\n",
    "    Uses the calc_overlap_sg() function to identify read overlaps. \n",
    "    Uses the get_relationship() function to determine the overlap relationship. \n",
    "    Only adds edges\n",
    "    \"\"\"\n",
    "    from A3.utils import calc_overlap_sg\n",
    "    graph = nx.DiGraph()\n",
    "    \n",
    "    # YOUR CODE HERE\n",
    "    # Do for loop for all pairwise comparisons\n",
    "    for i in range(len(reads)-1):\n",
    "        read1 = reads[i]\n",
    "\n",
    "        # Compare read1 with all other possible reads through iterating read2\n",
    "        for j in range(i+1,len(reads)):\n",
    "            read2 = reads[j]\n",
    "\n",
    "            # Extract the alignment score between the 2 reads\n",
    "            calc = calc_overlap_sg(read1, read2)\n",
    "\n",
    "            # If there is an alignment proceed to the next step\n",
    "            if calc != None:\n",
    "\n",
    "                # Extract read1 and read2 overlap span from the output\n",
    "                read1_span = calc[1]\n",
    "                read2_span = calc[2]\n",
    "\n",
    "                # Extract the alignment and overlap scores from the output\n",
    "                score = calc[0]\n",
    "                overlap = calc[1][1] - calc[1][0] \n",
    "\n",
    "                # If the alignment and overlap scores exceed the min scores then proceed to the next step\n",
    "                if score >= min_score and overlap >= min_overlap:\n",
    "\n",
    "                    # Extract the relationship from those 2 reads using previous get_relationship function\n",
    "                    rel_ship = get_relationship(read1, read2, read1_span, read2_span)\n",
    "\n",
    "                    # If read2 is prefix of read1\n",
    "                    # Modify the graph by adding an edge from read2 to read1 with label the length of the overlap\n",
    "                    if rel_ship == 'prefix':\n",
    "                        graph.add_edge(read2, read1, label = overlap)\n",
    "\n",
    "                    # Otherwise, read2 is suffix of read1\n",
    "                    # Modify the graph by adding an edge from read1 to read2 with label the length of the overlap\n",
    "                    elif rel_ship == 'suffix':\n",
    "                        graph.add_edge(read1, read2, label = overlap)\n",
    "\n",
    "            # If there is no alignment then continue to the next read\n",
    "            else:\n",
    "                continue\n",
    "\n",
    "    # Return the modified graph\n",
    "    return graph "
   ]
  },
  {
   "cell_type": "code",
   "execution_count": null,
   "metadata": {},
   "outputs": [],
   "source": [
    "# extra code cell for development if needed\n"
   ]
  },
  {
   "cell_type": "code",
   "execution_count": null,
   "metadata": {
    "deletable": false,
    "editable": false,
    "nbgrader": {
     "cell_type": "code",
     "checksum": "d0a08cee486abd1903fcc84ab13c2eb3",
     "grade": true,
     "grade_id": "Q2B-T",
     "locked": true,
     "points": 3,
     "schema_version": 3,
     "solution": false,
     "task": false
    }
   },
   "outputs": [],
   "source": [
    "# Testing cell - Do not alter.\n",
    "from A3.utils import draw_overlap_graph\n",
    "\n",
    "# Visible tests\n",
    "genome = \"to_every_thing_thing_there_is_a_season\"\n",
    "reads = [\n",
    "    'to_every_',\n",
    "    'o_every_t',\n",
    "    'ery_thing',\n",
    "    '_thing_th',\n",
    "    'ng_there_',\n",
    "    'there_is_',\n",
    "    'e_is_a_se',\n",
    "    '_is_a_sea',\n",
    "    '_a_season',\n",
    "]\n",
    "\n",
    "# test1: create graph from first two reads, check nodes and edges\n",
    "print('\\nTest 1: Checking graph nodes & edges')\n",
    "graph = create_overlap_graph(reads[:2])\n",
    "expected_nodes = [\"to_every_\", \"o_every_t\"]\n",
    "expected_edges = [(\"to_every_\", \"o_every_t\")]\n",
    "expected_labels = [(\"to_every_\", \"o_every_t\", {'label': 8})]\n",
    "print(f'Nodes are correct? {True if list(graph.nodes) == expected_nodes else False}')\n",
    "print(f'Edge directions are correct? {True if list(graph.edges) == expected_edges else False}')\n",
    "print(f'Edge labels are correct? {True if list(graph.edges(data=True)) == expected_labels else False}')\n",
    "\n",
    "# test2: create graph from first two reads\n",
    "print('\\nTest 2: Create graph from first two reads')\n",
    "graph = create_overlap_graph(reads[:2])\n",
    "draw_overlap_graph(graph)\n",
    "\n",
    "# test3: create graph from first four reads\n",
    "print('\\nTest 3: Create graph from first four reads')\n",
    "graph = create_overlap_graph(reads[:4])\n",
    "draw_overlap_graph(graph)\n",
    "\n",
    "# test4: create graph from all reads\n",
    "print('\\nTest 4: Create graph from all reads')\n",
    "graph = create_overlap_graph(reads)\n",
    "draw_overlap_graph(graph)\n"
   ]
  },
  {
   "cell_type": "markdown",
   "metadata": {
    "deletable": false,
    "editable": false,
    "nbgrader": {
     "cell_type": "markdown",
     "checksum": "e49c4e08093df08b8a46d8c418eb5057",
     "grade": false,
     "grade_id": "Q2C-Q",
     "locked": true,
     "points": 2,
     "schema_version": 3,
     "solution": false,
     "task": true
    }
   },
   "source": [
    "\n",
    "### Question 2C (short answer)\n",
    "\n",
    "(2 marks, max 200 words)\n",
    "\n",
    "<div class=\"alert alert-info\">\n",
    "\n",
    "What are 2 methods we can use to simplify an overlap graph? (1)\n",
    "\n",
    "Why is OLC a more appropriate method than de bruijn graphs for assembling long-read sequencing data? (1)\n",
    "    \n",
    "</div>\n"
   ]
  },
  {
   "cell_type": "markdown",
   "metadata": {},
   "source": [
    "<span style=\"color:rgb(17, 122, 121); font-family:Courier\"><i><b># -- GRADED CELL (2 marks) - complete this cell --</b></i></span>\n",
    "\n",
    "YOUR ANSWER HERE\n",
    "\n"
   ]
  },
  {
   "cell_type": "markdown",
   "metadata": {},
   "source": [
    "- 2 methods to simplify an overlap graph:\n",
    "  1. Transitive Edge Reduction\n",
    "  2. Dead-End Removal\n",
    "\n",
    "- 1. Because OLC is better at handling overlaps between long reads. Since de Bruijn graphs are divided into kmers, long reads with overlaps can have some kmers in common. This can make de Bruijn graph assemblers to distinguish between different reads into the correct order. \n",
    "  2. Better at handling sequencing errors since OLC uses a consensus algoritm that takes into account each read quality.\n",
    "  3. More efficient in assembling long reads because OLC doesn't need to build a large graph of all the kmers in the reads. Less time-consuming and memory-intensive. "
   ]
  },
  {
   "cell_type": "markdown",
   "metadata": {},
   "source": [
    "<div style=\"background: rgb(255,165,0); border: solid 1px rgb(129,199,132); padding: 10px;\">    \n",
    "\n",
    "<h1>Section B: De Bruijn Assembly</h1>\n",
    "\n",
    "</div>"
   ]
  },
  {
   "cell_type": "markdown",
   "metadata": {},
   "source": [
    "### Brief\n",
    "\n",
    "Sequencing errors can result in erroneous kmers which complicate De Bruijn graphs. If we do not account for these errors our assembly may become fragmented and contain spurious contigs. \n",
    "\n",
    "One method of reducing the impact of sequencing errors on our final assembly is to remove low-abundance kmers from the graph. In this section you will build a De Bruijn graph from a set of reads, simplify the graph by removing erroneous kmers, and coalesce linear chains of nodes. \n"
   ]
  },
  {
   "cell_type": "markdown",
   "metadata": {
    "deletable": false,
    "editable": false,
    "nbgrader": {
     "cell_type": "markdown",
     "checksum": "65e755ea08289bc7fac3105b4c7cfdfb",
     "grade": false,
     "grade_id": "Q3A-Q",
     "locked": true,
     "schema_version": 3,
     "solution": false,
     "task": false
    }
   },
   "source": [
    "<div style=\"color: rgb(27,94,32); background: rgb(200,230,201); border: solid 1px rgb(129,199,132); padding: 10px;\">\n",
    "<h3>Question 3a</h3>\n",
    "    \n",
    "<b>Challenge:</b> Write a function to extract kmers from a set of sequencing reads and count their abundances. Your function should return a dictionary where keys are kmers and values are kmer counts.\n",
    "   \n",
    "- [ ] Input: `dna_strings: list[str]`; `k: int`\n",
    "- [ ] Handle cases where k is > read length\n",
    "- [ ] Ouput: dict with kmers as keys and counts as values\n",
    "\n",
    "</div>"
   ]
  },
  {
   "cell_type": "code",
   "execution_count": null,
   "metadata": {
    "deletable": false,
    "nbgrader": {
     "cell_type": "code",
     "checksum": "89679c9032133752400ea0fd23346408",
     "grade": false,
     "grade_id": "Q3A-A",
     "locked": false,
     "schema_version": 3,
     "solution": true,
     "task": false
    }
   },
   "outputs": [],
   "source": [
    "# -- GRADED CELL (1 marks) - complete this cell --\n",
    "\n",
    "def count_kmers(dna_strings, k):\n",
    "    \"\"\"\n",
    "    Count k-mers in a list of DNA strings and return a dictionary of k-mer counts.\n",
    "\n",
    "    Args:\n",
    "    dna_strings (list of str): A list of DNA strings for k-mer counting.\n",
    "    k (int): The length of k-mers to count.\n",
    "\n",
    "    Returns:\n",
    "    dict: A dictionary where keys are k-mers and values are their counts in the input DNA strings.\n",
    "    \"\"\"\n",
    "    # optional, you may use defaultdict if you like\n",
    "    from collections import defaultdict\n",
    "    \n",
    "    # YOUR CODE HERE\n",
    "    # Create a default dictionary\n",
    "    my_dict = defaultdict(int)\n",
    "\n",
    "    # Iterating through the list of dna_strings\n",
    "    for i in range(len(dna_strings)):\n",
    "\n",
    "        # Add a pointer\n",
    "        kmer = 0\n",
    "\n",
    "        # Slicing the dna_strings into k size (kmer) and adding it into the dictionary so long satisfies the conditions\n",
    "        # Handle cases where k is > read length\n",
    "        while kmer < len(dna_strings[i])-k+1 and k < len(dna_strings[i]):\n",
    "            my_dict[dna_strings[i][kmer:kmer+k]] += 1\n",
    "            \n",
    "            # Adding the pointer to shift the kmer\n",
    "            kmer += 1\n",
    "\n",
    "    # Return a dictionary where keys are kmers and values are kmer counts.\n",
    "    return my_dict"
   ]
  },
  {
   "cell_type": "code",
   "execution_count": null,
   "metadata": {},
   "outputs": [],
   "source": [
    "# extra code cell for development if needed\n"
   ]
  },
  {
   "cell_type": "code",
   "execution_count": null,
   "metadata": {
    "deletable": false,
    "editable": false,
    "nbgrader": {
     "cell_type": "code",
     "checksum": "16e5d45fee57030b3d33b93699fed805",
     "grade": true,
     "grade_id": "Q3A-T",
     "locked": true,
     "points": 1,
     "schema_version": 3,
     "solution": false,
     "task": false
    }
   },
   "outputs": [],
   "source": [
    "# Testing cell - Do not alter.\n",
    "\n",
    "# Visible tests\n",
    "reads = ['CATTGGC', 'ATTGGCC', 'TTGGCCA', 'TGGCCAA', 'CATCGGCCT']\n",
    "kmer_counts = count_kmers(reads, k=4)\n",
    "\n",
    "# single test \n",
    "print('\\n--- Single Test ---')\n",
    "print('\\nexpected')\n",
    "print(\"\"\"\\\n",
    "CATT 1\n",
    "ATTG 2\n",
    "TTGG 3\n",
    "TGGC 4\n",
    "GGCC 4\n",
    "GCCA 2\n",
    "CCAA 1\n",
    "CATC 1\n",
    "ATCG 1\n",
    "TCGG 1\n",
    "CGGC 1\n",
    "GCCT 1\\\n",
    "\"\"\")\n",
    "print('\\nactual:')\n",
    "for k, v in kmer_counts.items():\n",
    "    print(k, v)\n"
   ]
  },
  {
   "cell_type": "markdown",
   "metadata": {
    "deletable": false,
    "editable": false,
    "nbgrader": {
     "cell_type": "markdown",
     "checksum": "58a6892d16420aa317b912fe36383d94",
     "grade": false,
     "grade_id": "Q3B-Q",
     "locked": true,
     "schema_version": 3,
     "solution": false,
     "task": false
    }
   },
   "source": [
    "<div style=\"color: rgb(27,94,32); background: rgb(200,230,201); border: solid 1px rgb(129,199,132); padding: 10px;\">\n",
    "<h3>Question 3b</h3>\n",
    "    \n",
    "<b>Challenge:</b> Write a function to build a De Bruijn graph from a set of reads for a given kmer length. \n",
    "\n",
    "The graph should be created as a networkx DiGraph, storing the kmer name as edge 'label'.\n",
    "   \n",
    "- [ ] Input: `reads: list[str]`; `k: int`\n",
    "- [ ] Ouput: de bruijn graph as nx.DiGraph\n",
    "    \n",
    "Notes:\n",
    "\n",
    "- [ ] For simplicity, treat all reads as originating from the +ve strand. \n",
    "\n",
    "</div>"
   ]
  },
  {
   "cell_type": "code",
   "execution_count": null,
   "metadata": {
    "deletable": false,
    "nbgrader": {
     "cell_type": "code",
     "checksum": "914f10ebff558fb691ee8ce71090077e",
     "grade": false,
     "grade_id": "Q3B-A",
     "locked": false,
     "schema_version": 3,
     "solution": true,
     "task": false
    }
   },
   "outputs": [],
   "source": [
    "# -- GRADED CELL (1 marks) - complete this cell --\n",
    "\n",
    "def build_debruijn_graph(reads, k):\n",
    "    '''\n",
    "    Given a set of reads and a value k, return a de Bruijn graph as a nx.DiGraph.\n",
    "    '''\n",
    "    graph = nx.DiGraph()\n",
    "\n",
    "    # YOUR CODE HERE\n",
    "    # Creating a dictionary of kmer counts by calling previous count_kmers function\n",
    "    my_dict = count_kmers(reads, k)\n",
    "\n",
    "    # Create a list of kmers\n",
    "    keys = []\n",
    "    for key in my_dict:\n",
    "        keys.append(key)\n",
    "\n",
    "    # Building de Bruijn graph by splicing each kmer into prefix and suffix\n",
    "    # Adding an edge from prefix -> suffix with kmer as its label\n",
    "    for i in range(len(keys)):\n",
    "        for j in range(len(keys[i])):\n",
    "            prefix = keys[i][:-1]\n",
    "            suffix = keys[i][1:]\n",
    "            graph.add_edge(prefix, suffix, label= keys[i])\n",
    "\n",
    "    # Return the modified graph\n",
    "    return graph\n",
    "    "
   ]
  },
  {
   "cell_type": "code",
   "execution_count": null,
   "metadata": {},
   "outputs": [],
   "source": [
    "# extra code cell for development if needed\n"
   ]
  },
  {
   "cell_type": "code",
   "execution_count": null,
   "metadata": {
    "deletable": false,
    "editable": false,
    "nbgrader": {
     "cell_type": "code",
     "checksum": "2e9aa5185f0e59ca8af914a5e059f4f7",
     "grade": true,
     "grade_id": "Q3B-T",
     "locked": true,
     "points": 1,
     "schema_version": 3,
     "solution": false,
     "task": false
    }
   },
   "outputs": [],
   "source": [
    "# Testing cell - Do not alter.\n",
    "\n",
    "# Visible tests\n",
    "\n",
    "# --- single test ---\n",
    "reads = ['CATTGGC', 'ATTGGCC', 'TTGGCCA', 'TGGCCAA', 'CATCGGCCT']\n",
    "graph = build_debruijn_graph(reads, k=4)\n",
    "nodes = list(graph.nodes)\n",
    "nodes.sort()\n",
    "edges = list(graph.edges(data=True))\n",
    "edges.sort()\n",
    "\n",
    "print('\\n(Single Test)')\n",
    "print('\\n--- nodes ---')\n",
    "print('\\nexpected nodes:')\n",
    "print(\"['ATC', 'ATT', 'CAA', 'CAT', 'CCA', 'CCT', 'CGG', 'GCC', 'GGC', 'TCG', 'TGG', 'TTG']\")\n",
    "print('\\nactual nodes:')\n",
    "print(nodes)\n",
    "\n",
    "print('\\n--- edges ---')\n",
    "print('\\nexpected edges:')\n",
    "print(\"\"\"\\\n",
    "ATC  --- ATCG --->  TCG\n",
    "ATT  --- ATTG --->  TTG\n",
    "CAT  --- CATC --->  ATC\n",
    "CAT  --- CATT --->  ATT\n",
    "CCA  --- CCAA --->  CAA\n",
    "CGG  --- CGGC --->  GGC\n",
    "GCC  --- GCCA --->  CCA\n",
    "GCC  --- GCCT --->  CCT\n",
    "GGC  --- GGCC --->  GCC\n",
    "TCG  --- TCGG --->  CGG\n",
    "TGG  --- TGGC --->  GGC\n",
    "TTG  --- TTGG --->  TGG\\\n",
    "\"\"\")\n",
    "print('\\nactual edges:')\n",
    "for n1, n2, data in edges:\n",
    "    print(f'{n1}  --- {data[\"label\"]} --->  {n2}')\n"
   ]
  },
  {
   "cell_type": "markdown",
   "metadata": {
    "deletable": false,
    "editable": false,
    "nbgrader": {
     "cell_type": "markdown",
     "checksum": "9d13ca9df03db7329ae80f82bac1c8a4",
     "grade": false,
     "grade_id": "Q3C-Q",
     "locked": true,
     "schema_version": 3,
     "solution": false,
     "task": false
    }
   },
   "source": [
    "<div style=\"color: rgb(27,94,32); background: rgb(200,230,201); border: solid 1px rgb(129,199,132); padding: 10px;\">\n",
    "<h3>Question 3c</h3>\n",
    "    \n",
    "<b>Challenge:</b> Write a function simplify the De Bruijn graph by removing nodes which have low support. \n",
    "   \n",
    "- [ ] Input: `graph: nx.DiGraph`; `kmer_counts: dict`; `cutoff: int`\n",
    "- [ ] Ouput: Simplified graph (nx.DiGraph)\n",
    "    \n",
    "Here, \"support\" is calculated by considering edges to and from a given node. <br>\n",
    "Consider the maximum kmer frequecy for edges both to and from the node.\n",
    "\n",
    "Example: In the image below, nodes 2, 3, 4 & 12 would be removed given `cutoff` is 10. \n",
    "    \n",
    "<img display=\"block\" src=\"https://github.com/melbournebioinformatics/COMP90014/raw/A3/media/q3c_figure.PNG\" align=\"left\" style=\"max-width: 600px\"/>\n",
    "    \n",
    "</div>"
   ]
  },
  {
   "cell_type": "code",
   "execution_count": null,
   "metadata": {
    "deletable": false,
    "nbgrader": {
     "cell_type": "code",
     "checksum": "1ad31c4887edf71afd60aacf3b33611a",
     "grade": false,
     "grade_id": "Q3C-A",
     "locked": false,
     "schema_version": 3,
     "solution": true,
     "task": false
    }
   },
   "outputs": [],
   "source": [
    "# -- GRADED CELL (3 marks) - complete this cell --\n",
    "\n",
    "def remove_low_support_nodes(graph, kmer_counts, cutoff):\n",
    "    '''\n",
    "    Removes nodes from the graph if max support < cutoff. \n",
    "    Considers both the connections to and connections from nodes. \n",
    "    '''\n",
    "    # YOUR CODE HERE\n",
    "    # \n",
    "    nodes = list(graph.nodes())\n",
    "    \n",
    "    for i in range(len(nodes)):\n",
    "        in_edge = list(graph.in_edges(nodes[i]))\n",
    "        out_edge = list(graph.edges(nodes[i], data=True))\n",
    "    \n",
    "        max_edge_fr = 0\n",
    "        max_edge_to = 0\n",
    "        \n",
    "        if len(in_edge) > 0:\n",
    "            edge_fr = []\n",
    "            \n",
    "            for j in range(len(in_edge)):\n",
    "                a = list(graph.edges(in_edge[j][0], data=True))\n",
    "                b = [(in_, out_, kmer) for (in_, out_, kmer) in a if out_ == nodes[i]]\n",
    "                kmer = kmer_counts[b[0][2]['label']]\n",
    "                edge_fr.append(kmer)\n",
    "            \n",
    "            max_edge_fr = max(edge_fr)\n",
    "\n",
    "        \n",
    "        if len(out_edge) > 0:\n",
    "            edge_to = []\n",
    "            \n",
    "            for k in range(len(out_edge)):\n",
    "                kmer = out_edge[k][2]['label']\n",
    "                edge_to.append(kmer_counts[kmer])\n",
    "    \n",
    "            max_edge_to = max(edge_to)\n",
    "\n",
    "        \n",
    "        if max(max_edge_fr, max_edge_to) < cutoff:\n",
    "            graph.remove_node(nodes[i])\n",
    "        \n",
    "    return graph\n",
    "    "
   ]
  },
  {
   "cell_type": "code",
   "execution_count": null,
   "metadata": {},
   "outputs": [],
   "source": [
    "# extra code cell for development if needed\n"
   ]
  },
  {
   "cell_type": "code",
   "execution_count": null,
   "metadata": {
    "deletable": false,
    "editable": false,
    "nbgrader": {
     "cell_type": "code",
     "checksum": "302d516bc1baae32f4891ce6df7b155c",
     "grade": true,
     "grade_id": "Q3C-T",
     "locked": true,
     "points": 3,
     "schema_version": 3,
     "solution": false,
     "task": false
    }
   },
   "outputs": [],
   "source": [
    "# Testing cell - Do not alter.\n",
    "\n",
    "graph = pickle.load(open(DBG1_FILEPATH, 'rb'))\n",
    "kmer_counts = {\n",
    "    \"CATT\": 3,\n",
    "    \"ATTG\": 4,\n",
    "    \"TTGG\": 9,\n",
    "    \"TGGC\": 1,\n",
    "    \"CATC\": 32,\n",
    "    \"ATCG\": 44,\n",
    "    \"TCGG\": 9,\n",
    "    \"CGGC\": 27,\n",
    "    \"GGCC\": 35,\n",
    "    \"GCCA\": 15,\n",
    "    \"CCAA\": 17,\n",
    "    \"GCCT\": 8,\n",
    "}\n",
    "\n",
    "# visible tests\n",
    "\n",
    "print('\\n--- Single Test ---')\n",
    "print('\\nnodes before simplification')\n",
    "print(list(graph.nodes))\n",
    "\n",
    "print('\\nnodes after simplification')\n",
    "graph = remove_low_support_nodes(graph, kmer_counts, cutoff=10)\n",
    "print(f'expected: [1, 8, 5, 6, 7, 9, 10, 11]')\n",
    "print(f'actual:   {list(graph.nodes)}')\n"
   ]
  },
  {
   "cell_type": "markdown",
   "metadata": {
    "deletable": false,
    "editable": false,
    "nbgrader": {
     "cell_type": "markdown",
     "checksum": "408ab303b8da2041c19dc827ee15c5cd",
     "grade": false,
     "grade_id": "Q3D-Q",
     "locked": true,
     "schema_version": 3,
     "solution": false,
     "task": false
    }
   },
   "source": [
    "<div style=\"color: rgb(27,94,32); background: rgb(200,230,201); border: solid 1px rgb(129,199,132); padding: 10px;\">\n",
    "<h3>Question 3d</h3>\n",
    "    \n",
    "<b>Challenge:</b> Write a function simplify the De Bruijn graph by coalescing linear chains of nodes (with no branch points).\n",
    "\n",
    "- [ ] Input: `graph: nx.DiGraph`\n",
    "- [ ] Ouput: Simplified graph\n",
    "    \n",
    "For this question, you **do not** need to update a kmer_counts dict when coalescing nodes. \n",
    " \n",
    "Notes:\n",
    "- [ ] Once a linear chain has been merged into a single node, ensure you regraft the relevant edges accordingly.\n",
    "- [ ] Ensure you remove merged nodes from the graph. \n",
    " \n",
    "See the expected before and after in the following figure:\n",
    "\n",
    "<img display=\"block\" src=\"https://github.com/melbournebioinformatics/COMP90014/raw/A3/media/q3d_figure.PNG\" align=\"left\" style=\"max-width: 600px\"/>\n",
    "    \n",
    "</div>"
   ]
  },
  {
   "cell_type": "code",
   "execution_count": null,
   "metadata": {
    "deletable": false,
    "nbgrader": {
     "cell_type": "code",
     "checksum": "9760bfa4ebcedf1f1e6163717ac9f94e",
     "grade": false,
     "grade_id": "Q3D-A",
     "locked": false,
     "schema_version": 3,
     "solution": true,
     "task": false
    }
   },
   "outputs": [],
   "source": [
    "# -- GRADED CELL (3 marks) - complete this cell --\n",
    "\n",
    "def coalesce_linear_chains(graph):\n",
    "    '''\n",
    "    Simplifies a graph by coalescing linear chains of nodes. \n",
    "    Returns the simplified graph. \n",
    "    '''\n",
    "    # YOUR CODE HERE\n",
    "    # Create lists for dfs traversing and visited nodes\n",
    "    visited = []\n",
    "    stack = []\n",
    "\n",
    "    # Looking for the starting node which has no in_edges, store that to stack\n",
    "    for i in list(graph.nodes()):\n",
    "        if len(graph.in_edges(i)) == 0:\n",
    "            stack.append(i)\n",
    "\n",
    "    # Create an outer while loop for traversing the nodes using dfs method (so long stack has nodes)\n",
    "    # Pop node from stack and store it to current_node\n",
    "    # Update the visited list\n",
    "    while stack:\n",
    "        current_node = stack.pop(0)\n",
    "        visited.append(current_node)\n",
    "\n",
    "        # Create an inner loop to merge the nodes that satisfy conditions in checkpoint\n",
    "        while checkpoint(current_node, graph) == True:\n",
    "\n",
    "            # Looking for the neighbor of the current node\n",
    "            # Extracting the last character from neighbour node\n",
    "            # Combining the current node with the last character from neighbour node\n",
    "            edges = list(graph.neighbors(current_node))\n",
    "            suffix = edges[0][-1]\n",
    "            combine = f'{current_node + suffix}'\n",
    "\n",
    "            # Extracting the predecessor of the current node and successor of the neighbor node\n",
    "            predecessor = list(graph.predecessors(current_node))\n",
    "            next_neighbour = list(graph.neighbors(edges[0]))\n",
    "\n",
    "            # If the length of predecessor > 0\n",
    "            # Add new edge from every predecessors with the new node (combined) and update the label accordingly\n",
    "            if len(predecessor) != 0:\n",
    "                for prev_edge in range(len(predecessor)):\n",
    "                    graph.add_edge(predecessor[prev_edge], combine,\n",
    "                                   label = graph.get_edge_data(predecessor[prev_edge], current_node)['label'])\n",
    "\n",
    "            # If the length of successor > 0\n",
    "            # Add new edge from new node (combined) with every successors and update the label accordingly\n",
    "            if len(next_neighbour) != 0:\n",
    "                for next_edge in range(len(next_neighbour)):\n",
    "                    graph.add_edge(combine, next_neighbour[next_edge],\n",
    "                                   label= graph.get_edge_data(edges[0], next_neighbour[next_edge])['label'])\n",
    "\n",
    "            # Remove the individual nodes that are combined\n",
    "            graph.remove_node(current_node)\n",
    "            graph.remove_node(edges[0])\n",
    "\n",
    "            # Now traversing to the combined node to see if we can merge with the next node again\n",
    "            current_node = combine\n",
    "\n",
    "        # If the checkpoint is False -> there is a branch so it doesnt satisy the conditions to be merged\n",
    "        # Skip the node and traversing to the next neighbour nodes by storing them to the stack\n",
    "        for j in list(graph.neighbors(current_node)):\n",
    "            if j not in stack:\n",
    "                stack.append(j)\n",
    "\n",
    "    # Return the updated graph\n",
    "    return graph \n",
    "\n",
    "\n",
    "# Make a function to check whether the current_node has 1 out_edge and the neighbor node has 1 in_edge\n",
    "# If satisfies the condition it will return True and it will start to merge the nodes\n",
    "# Otherwise it returns False and traversing to the next nodes\n",
    "def checkpoint(current_node, graph):\n",
    "    neighbour = list(graph.neighbors(current_node))\n",
    "\n",
    "    if len(neighbour) == 1 and len(list(graph.in_edges(neighbour[0]))) == 1:\n",
    "        return True\n",
    "    else:\n",
    "        return False\n",
    "        "
   ]
  },
  {
   "cell_type": "code",
   "execution_count": null,
   "metadata": {},
   "outputs": [],
   "source": [
    "# extra code cell for development if needed\n"
   ]
  },
  {
   "cell_type": "code",
   "execution_count": null,
   "metadata": {
    "deletable": false,
    "editable": false,
    "nbgrader": {
     "cell_type": "code",
     "checksum": "39161416d61a864d042e998d18fac805",
     "grade": true,
     "grade_id": "Q3D-T",
     "locked": true,
     "points": 3,
     "schema_version": 3,
     "solution": false,
     "task": false
    }
   },
   "outputs": [],
   "source": [
    "# Testing cell - Do not alter.\n",
    "\n",
    "graph = pickle.load(open(DBG2_FILEPATH, 'rb'))\n",
    "\n",
    "# Visible tests\n",
    "\n",
    "print('\\n(Single Test)')\n",
    "graph = coalesce_linear_chains(graph)\n",
    "nodes = list(graph.nodes)\n",
    "nodes.sort()\n",
    "edges = list(graph.edges(data=True))\n",
    "edges.sort()\n",
    "print('\\n--- nodes after simplification ---')\n",
    "print(f\"expected: ['ATCGG', 'ATTGG', 'CAA', 'CAT', 'CCAA', 'CCT', 'GGCC']\")\n",
    "print(f'actual:   {nodes}')\n",
    "\n",
    "print('\\n--- edges after simplification ---')\n",
    "print('\\nexpected:')\n",
    "print(\"\"\"\\\n",
    "ATCGG   --- CGGC --->   GGCC\n",
    "ATTGG   --- TGGC --->   GGCC\n",
    "CAT     --- CATC --->   ATCGG\n",
    "CAT     --- CATT --->   ATTGG\n",
    "GGCC    --- GCCA --->   CCAA\n",
    "GGCC    --- GCCT --->   CCT\\\n",
    "\"\"\")\n",
    "print('\\nactual:')\n",
    "for n1, n2, data in edges:\n",
    "    edge = f\"--- {data['label']} --->\"\n",
    "    print(f'{n1:8s}{edge:^10s}   {n2}')\n"
   ]
  },
  {
   "cell_type": "markdown",
   "metadata": {
    "deletable": false,
    "editable": false,
    "nbgrader": {
     "cell_type": "markdown",
     "checksum": "bfd3945aca77233ea21bcbf6221a6120",
     "grade": false,
     "grade_id": "Q3E-Q",
     "locked": true,
     "points": 3,
     "schema_version": 3,
     "solution": false,
     "task": true
    }
   },
   "source": [
    "\n",
    "### Question 3e (short answer)\n",
    "\n",
    "(3 marks, max 200 words)\n",
    "\n",
    "<div class=\"alert alert-info\">\n",
    "\n",
    "We have simplified our de Bruijn graph by eliminating low coverage nodes with the assumption that these rare kmers are the result of sequencing errors. \n",
    "    \n",
    "- How will this approach handle non-random errors? (1)\n",
    "- Does this approach preserve all genuine DNA sequenced from the organism? (1)\n",
    "- Can you suggest any biological explanation for observing lower than expected kmer abundance in a sequencing dataset? (1)\n",
    "    \n",
    "</div>\n"
   ]
  },
  {
   "cell_type": "markdown",
   "metadata": {},
   "source": [
    "<span style=\"color:rgb(17, 122, 121); font-family:Courier\"><i><b># -- GRADED CELL (3 marks) - complete this cell --</b></i></span>\n",
    "\n",
    "YOUR ANSWER HERE\n",
    "\n"
   ]
  },
  {
   "cell_type": "markdown",
   "metadata": {},
   "source": [
    "- It will remove some of the non-random errors however, non-random errors that have high coverage nodes won't be thrown simply because we only eliminate the non-random errors that have low coverage. One way to handle is to use a sequencing error correction algorithm before creating a de Bruijn graph.\n",
    "\n",
    "- Eliminating low coverage nodes may make the graph seem simpler however it comes with consequences. Some genuine DNA sequences that may be present at low coverage due to multiple factors (sequencing errors, low expression levels, etc.) may be thrown out. Hence, eliminating low coverage nodes from de Bruijn graph may not preserve all genuine DNA sequenced from the organism\n",
    "\n",
    "- 1. Sequencing errors can lead to kmers that are not present in the actual genome. These kmers will have lower than expected abundance in the sequencing dataset.\n",
    "  2. Some genes and other DNA sequences are expressed at low levels in a cell.\n",
    "  3. Some DNA sequences are rare in the population (rare variants).\n",
    "  4. Allelic imbalance occurs when there is an unequal representation of the two alleles of a gene in a cell\n",
    "  5. DNA damage can lead to changes in the DNA sequence. These changes can lead to kmers that are not present in the actual genome, or to kmers that are present at lower than expected abundance in the sequencing dataset."
   ]
  },
  {
   "cell_type": "markdown",
   "metadata": {
    "deletable": false,
    "editable": false,
    "nbgrader": {
     "cell_type": "markdown",
     "checksum": "3db1a88b463f363e4a3e520f58370983",
     "grade": false,
     "grade_id": "Q3F-Q",
     "locked": true,
     "points": 3,
     "schema_version": 3,
     "solution": false,
     "task": true
    }
   },
   "source": [
    "\n",
    "### Question 3f (short answer)\n",
    "\n",
    "(3 marks, max 200 words)\n",
    "\n",
    "<div class=\"alert alert-info\">\n",
    "\n",
    "What topological features in de Bruijn graphs can be caused by repeats? (1)\n",
    "\n",
    "How does our choice of kmer length affect the impact of repeats on our graph? (1)\n",
    "    \n",
    "What approaches can help resolve repetitive regions in the organism to produce better assemblies? (1)\n",
    "    \n",
    "</div>\n"
   ]
  },
  {
   "cell_type": "markdown",
   "metadata": {},
   "source": [
    "<span style=\"color:rgb(17, 122, 121); font-family:Courier\"><i><b># -- GRADED CELL (3 marks) - complete this cell --</b></i></span>\n",
    "\n",
    "YOUR ANSWER HERE\n",
    "\n"
   ]
  },
  {
   "cell_type": "markdown",
   "metadata": {},
   "source": [
    "- Bubbles, spurs, or erroneous edges\n",
    "- A longer kmer size will make repeats less likely to create different kmers and capture more read span of DNA-sequence. High kmer size will have more specific kmers produced. Hence, it is better to use long kmer size when dealing with repeats\n",
    "- A hybrid approach of short reads and long reads. Long reads has the advantage to span repetitive regions although it is less accurate compared to short-reads. However, we can fix that using short reads. "
   ]
  },
  {
   "cell_type": "markdown",
   "metadata": {},
   "source": [
    "<div style=\"background: rgb(255,165,0); border: solid 1px rgb(129,199,132); padding: 10px;\">    \n",
    "\n",
    "<h1>Section C: Genomic Intervals</h1>\n",
    "\n",
    "</div>"
   ]
  },
  {
   "cell_type": "markdown",
   "metadata": {},
   "source": [
    "Interval Search Trees (ISTs) are a data structure that can be used to efficiently query genomic annotations in a defined region. They are conceptually similar to Binary Search Trees which we have discussed in the tutorials. In this section you will query and modify an IST of gene spans, and will then build your own IST from a set of gene intervals. \n",
    "\n",
    "The IST appearing in Q4a-c was build from the following data: \n",
    "\n",
    "<div style=\"max-width: 300px\">  \n",
    "<pre>gene_name  start  end\n",
    "gene_A     10     15\n",
    "gene_B     20     30\n",
    "gene_C     11     18\n",
    "gene_D     13     20\n",
    "gene_E     21     23\n",
    "gene_F     22     32\n",
    "gene_G     6      12\n",
    "</pre></div>\n",
    "\n",
    "Our IST has been structured so that node ids are the \"start\" field above, with the \"gene_name\" and \"end\" appearing as node attributes. \n",
    "\n",
    "For simplicity the trees in this question do not need to support multiple intervals with shared starting indices.\n",
    "\n",
    "Run the cells below to view the tree, and the data for a particular node. \n"
   ]
  },
  {
   "cell_type": "code",
   "execution_count": null,
   "metadata": {},
   "outputs": [],
   "source": [
    "# visualisation helper function\n",
    "def draw_interval_tree(graph, title):\n",
    "    fig = plt.figure(1, figsize=(7, 7), dpi=60)\n",
    "    if title is not None:\n",
    "        plt.title(title, fontsize=14)\n",
    "    pos = graphviz_layout(graph, prog=\"dot\")\n",
    "    nx.draw_networkx_nodes(graph, pos, node_color='white', node_size=1000, edgecolors='black', linewidths=2)\n",
    "    nx.draw_networkx_edges(graph, pos, width=2)\n",
    "    nx.draw_networkx_labels(graph, pos, font_size=12, font_family=\"sans-serif\")\n",
    "    nx.draw_networkx_edge_labels(\n",
    "        graph, pos, font_color='red', font_size=14, \n",
    "        edge_labels={e: graph.edges[e]['label'] for e in graph.edges}\n",
    "    )\n",
    "    plt.tight_layout()\n",
    "    plt.show()"
   ]
  },
  {
   "cell_type": "code",
   "execution_count": null,
   "metadata": {},
   "outputs": [],
   "source": [
    "tree = pickle.load(open(IST1_FILEPATH, 'rb'))\n",
    "\n",
    "# drawing our tree\n",
    "draw_interval_tree(tree, 'Gene intervals IST')\n",
    "\n",
    "# printing a node and its attributes\n",
    "node = 20\n",
    "data = tree.nodes[node]\n",
    "print(f'node={node}, data={data}')"
   ]
  },
  {
   "cell_type": "markdown",
   "metadata": {
    "deletable": false,
    "editable": false,
    "nbgrader": {
     "cell_type": "markdown",
     "checksum": "2c46df0fb19c3561b39981a6df88b459",
     "grade": false,
     "grade_id": "Q4A-Q",
     "locked": true,
     "schema_version": 3,
     "solution": false,
     "task": false
    }
   },
   "source": [
    "<div style=\"color: rgb(27,94,32); background: rgb(200,230,201); border: solid 1px rgb(129,199,132); padding: 10px;\">\n",
    "<h3>Question 4a</h3>\n",
    "   \n",
    "One of the ways ISTs provide efficient search time for intervals is by storing a \"max_end\" attribute at each node. \n",
    "The \"max_end\" attribute holds the maximum endpoint value among all intervals in the subtree rooted at that node.\n",
    "\n",
    "This means that when searching the tree, we can use the \"max_end\" attribute at a given node to help us identify whether to keep traversing the tree for a matching interval, or if we can stop early. \n",
    "    \n",
    "<b>Challenge:</b> Write a function to set the \"max_end\" attribute on each node in an IST.  \n",
    "    \n",
    "- [ ] Input: `tree: nx.DiGraph`; `root: int`;\n",
    "- [ ] Output: updated tree (nx.DiGraph)\n",
    "    \n",
    "Notes:\n",
    "- [ ] The `root` parameter will be used in question 4 to keep track of which node is the root.\n",
    "    \n",
    "</div>\n",
    "    "
   ]
  },
  {
   "cell_type": "code",
   "execution_count": null,
   "metadata": {
    "deletable": false,
    "nbgrader": {
     "cell_type": "code",
     "checksum": "47f4a80b78daa2f7b5a081eb76eb9d7f",
     "grade": false,
     "grade_id": "Q4A-A",
     "locked": false,
     "schema_version": 3,
     "solution": true,
     "task": false
    }
   },
   "outputs": [],
   "source": [
    "# -- GRADED CELL (2 marks) - complete this cell --\n",
    "\n",
    "def set_max_ends(tree, root):\n",
    "    \n",
    "    # YOUR CODE HERE\n",
    "    visited = list()\n",
    "    \n",
    "    dfs(visited, tree, root)\n",
    "\n",
    "    return tree\n",
    "    \n",
    "def dfs(visited, tree, root):\n",
    "    if root not in visited:\n",
    "        visited.append(root)\n",
    "        \n",
    "        max_val = tree.nodes[root]['end']\n",
    "\n",
    "        for neighbour in tree[root]:\n",
    "            val = dfs(visited, tree, neighbour)\n",
    "\n",
    "            # update max_val if needed\n",
    "            max_val = max(max_val, val)\n",
    "         \n",
    "        tree.nodes[root]['max_end'] = max_val\n",
    "\n",
    "    return max_val"
   ]
  },
  {
   "cell_type": "code",
   "execution_count": null,
   "metadata": {},
   "outputs": [],
   "source": [
    "# extra code cell for development if needed\n"
   ]
  },
  {
   "cell_type": "code",
   "execution_count": null,
   "metadata": {
    "deletable": false,
    "editable": false,
    "nbgrader": {
     "cell_type": "code",
     "checksum": "aaae7eb95a3f4128825ac27a95b1204d",
     "grade": true,
     "grade_id": "Q4A-T",
     "locked": true,
     "points": 2,
     "schema_version": 3,
     "solution": false,
     "task": false
    }
   },
   "outputs": [],
   "source": [
    "# Testing cell - Do not alter.\n",
    "\n",
    "# Visible tests\n",
    "\n",
    "tree = pickle.load(open(IST1_FILEPATH, 'rb'))\n",
    "root = 13\n",
    "set_max_ends(tree, root)\n",
    "print(f'test1 (node=13): expected=32, actual={tree.nodes[13][\"max_end\"]}')\n",
    "print(f'test2 (node=6):  expected=12, actual={tree.nodes[6][\"max_end\"]}')\n",
    "print(f'test3 (node=10): expected=18, actual={tree.nodes[10][\"max_end\"]}')\n"
   ]
  },
  {
   "cell_type": "markdown",
   "metadata": {
    "deletable": false,
    "editable": false,
    "nbgrader": {
     "cell_type": "markdown",
     "checksum": "2d74cf31c14ccf10e528759c3bc6f6c5",
     "grade": false,
     "grade_id": "Q4B-Q",
     "locked": true,
     "schema_version": 3,
     "solution": false,
     "task": false
    }
   },
   "source": [
    "<div style=\"color: rgb(27,94,32); background: rgb(200,230,201); border: solid 1px rgb(129,199,132); padding: 10px;\">\n",
    "<h3>Question 4b</h3>\n",
    "\n",
    "Now that we have added the \"max_end\" attribute for nodes, we can efficiently search the IST for intervals.     \n",
    "    \n",
    "<b>Challenge:</b> Write a function to get the \"gene_name\" of the first interval encountered, given an query range.\n",
    "    \n",
    "- [ ] Input: `tree: nx.DiGraph`; `root: int`; `query_start: int`; `query_end: int`\n",
    "- [ ] Output: the \"gene_name\" attribute for the first valid interval encountered\n",
    "- [ ] If there is no inverval in the tree overlapping the given query, `return None`\n",
    "    \n",
    "Notes:\n",
    "- [ ] Traverse the tree from root\n",
    "- [ ] Check if current node intersects with query\n",
    "- [ ] If no left subtree, or \"max_end\" of left subtree is less than `query_start`, search right subtree\n",
    "- [ ] Else search left subtree\n",
    "    \n",
    "</div>"
   ]
  },
  {
   "cell_type": "code",
   "execution_count": null,
   "metadata": {
    "deletable": false,
    "editable": false,
    "nbgrader": {
     "cell_type": "code",
     "checksum": "8b75225bfc3f65cefbe52ecadfe720ff",
     "grade": false,
     "grade_id": "cell-3892a0ed617b12ae",
     "locked": true,
     "schema_version": 3,
     "solution": false,
     "task": false
    }
   },
   "outputs": [],
   "source": [
    "# helper function to get the left or right child of a node\n",
    "def get_child(tree, parent, label):\n",
    "    # get edges\n",
    "    edges = tree.edges(parent, data=True)\n",
    "\n",
    "    # no children\n",
    "    if len(edges) == 0:\n",
    "        return None\n",
    "    \n",
    "    # has children\n",
    "    for edge in edges:\n",
    "        if edge[2]['label'] == label: \n",
    "            return edge[1]  \n",
    "    \n",
    "    # has no children with correct label\n",
    "    return None"
   ]
  },
  {
   "cell_type": "code",
   "execution_count": null,
   "metadata": {
    "deletable": false,
    "nbgrader": {
     "cell_type": "code",
     "checksum": "307bec1ce61e955f91e447f299d67e9d",
     "grade": false,
     "grade_id": "Q4B-A",
     "locked": false,
     "schema_version": 3,
     "solution": true,
     "task": false
    }
   },
   "outputs": [],
   "source": [
    "# -- GRADED CELL (2 marks) - complete this cell --\n",
    "\n",
    "def get_gene(tree, root, query_start, query_end):\n",
    "    '''\n",
    "    For a given search range (query_start - query_end), returns the \"gene_name\" of the first valid interval encountered. \n",
    "    If no interval overlaps the search range, returns None. \n",
    "    '''\n",
    "    # YOUR CODE HERE\n",
    "    gene_name = ''\n",
    "    \n",
    "    if root != None:\n",
    "        max_end = tree.nodes[root]['max_end']\n",
    "        \n",
    "        if root in range(query_start, query_end):\n",
    "            gene_name = tree.nodes[root]['gene_name']\n",
    "            \n",
    "        elif query_end < max_end:\n",
    "            root = get_child(tree, root, 'left')\n",
    "            gene_name = get_gene(tree, root, query_start, query_end)\n",
    "                \n",
    "        elif query_end > max_end:\n",
    "            root = get_child(tree, root, 'right')\n",
    "            gene_name = get_gene(tree, root, query_start, query_end)\n",
    "\n",
    "    else:\n",
    "        gene_name = None\n",
    "        \n",
    "    return gene_name\n"
   ]
  },
  {
   "cell_type": "code",
   "execution_count": null,
   "metadata": {},
   "outputs": [],
   "source": [
    "# extra code cell for development if needed\n"
   ]
  },
  {
   "cell_type": "code",
   "execution_count": null,
   "metadata": {
    "deletable": false,
    "editable": false,
    "nbgrader": {
     "cell_type": "code",
     "checksum": "55fb83ba4d21f682c2eac5c516e0ffc5",
     "grade": true,
     "grade_id": "Q4B-T",
     "locked": true,
     "points": 2,
     "schema_version": 3,
     "solution": false,
     "task": false
    }
   },
   "outputs": [],
   "source": [
    "# Testing cell - Do not alter.\n",
    "\n",
    "tree = pickle.load(open(IST2_FILEPATH, 'rb'))\n",
    "root = 13\n",
    "\n",
    "# Visible tests\n",
    "print(f'expected=gene_A, actual={get_gene(tree, root, 1, 11)}')\n",
    "print(f'expected=gene_G, actual={get_gene(tree, root, 1, 7)}')\n",
    "print(f'expected=None,   actual={get_gene(tree, root, 1, 2)}')\n"
   ]
  },
  {
   "cell_type": "markdown",
   "metadata": {
    "deletable": false,
    "editable": false,
    "nbgrader": {
     "cell_type": "markdown",
     "checksum": "02b67a5f074d7c1e0025f6b817b5798b",
     "grade": false,
     "grade_id": "Q4C-Q",
     "locked": true,
     "schema_version": 3,
     "solution": false,
     "task": false
    }
   },
   "source": [
    "<div style=\"color: rgb(27,94,32); background: rgb(200,230,201); border: solid 1px rgb(129,199,132); padding: 10px;\">\n",
    "<h3>Question 4c</h3>\n",
    "\n",
    "Depending on use case, we may want to add more interval data to the tree. <br>\n",
    "One such example is when we want to combine multiple sets of interval data in a single tree. For example, combining read alignments with gene features to identify reads which are aligning to a particular gene region. \n",
    "    \n",
    "For this question, we will just add another gene interval to the tree. \n",
    "    \n",
    "<b>Challenge:</b> Write a function to add a new interval to the tree. \n",
    "    \n",
    "- [ ] Input: `tree: nx.DiGraph`; `root: int`; `interval: tuple`\n",
    "- [ ] Output: the updated tree (nx.DiGraph)  \n",
    "\n",
    "Notes:\n",
    "- [ ] Make sure to update the \"max_end\" attribute for upstream nodes in the tree if required.\n",
    "    \n",
    "</div>"
   ]
  },
  {
   "cell_type": "code",
   "execution_count": null,
   "metadata": {
    "deletable": false,
    "nbgrader": {
     "cell_type": "code",
     "checksum": "06e2727d487ce8a84c0c1a07b5399f09",
     "grade": false,
     "grade_id": "Q4C-A",
     "locked": false,
     "schema_version": 3,
     "solution": true,
     "task": false
    }
   },
   "outputs": [],
   "source": [
    "# -- GRADED CELL (2 marks) - complete this cell --\n",
    "\n",
    "def add_interval(tree, root, interval):\n",
    "    '''\n",
    "    Adds an interval to an Interval Search Tree.\n",
    "    Updates the \"max_end\" attribute for upstream nodes in the tree if required. \n",
    "    Returns the updated tree. \n",
    "\n",
    "    Args:\n",
    "    tree (digraph): An interval search tree\n",
    "    root (int): the root node of the tree\n",
    "    interval (tuple): An interval as a tuple of (gene_name, start, end)\n",
    "    '''\n",
    "    # YOUR CODE HERE\n",
    "    query_start = interval[1]\n",
    "    query_end = interval[2]\n",
    "\n",
    "    gene_name = ''\n",
    "    if root != None:\n",
    "        max_end = tree.nodes[root]['max_end']\n",
    "        \n",
    "        if root in range(query_start, query_end):\n",
    "            print(tree.nodes[root]['gene_name'])\n",
    "            \n",
    "        elif query_end < max_end:\n",
    "            root = get_child(tree, root, 'left')\n",
    "            get_gene(tree, root, query_start, query_end)\n",
    "                \n",
    "        elif query_end > max_end:\n",
    "            root = get_child(tree, root, 'right')\n",
    "            gene_name = get_gene(tree, root, query_start, query_end)\n",
    "\n",
    "    else:\n",
    "        tree.add_edges()\n",
    "        label = 'left' if number < node else 'right'\n",
    "            tree.add_edge(node, number, label=label)\n",
    "    \n",
    "    \n",
    "    \n",
    "    return tree\n"
   ]
  },
  {
   "cell_type": "code",
   "execution_count": null,
   "metadata": {},
   "outputs": [],
   "source": [
    "# extra code cell for development if needed\n",
    "tree = pickle.load(open(IST2_FILEPATH, 'rb'))\n",
    "tree.add_edge(6,7, label = 'left')\n",
    "\n",
    "draw_interval_tree(tree, 'Gene intervals IST')"
   ]
  },
  {
   "cell_type": "code",
   "execution_count": null,
   "metadata": {
    "deletable": false,
    "editable": false,
    "nbgrader": {
     "cell_type": "code",
     "checksum": "0333343729219ea90e18ae4cb621d9b0",
     "grade": true,
     "grade_id": "Q4C-T",
     "locked": true,
     "points": 2,
     "schema_version": 3,
     "solution": false,
     "task": false
    }
   },
   "outputs": [],
   "source": [
    "# Testing cell - Do not alter.\n",
    "tree = pickle.load(open(IST2_FILEPATH, 'rb'))\n",
    "root = 13\n",
    "\n",
    "# Visible tests\n",
    "\n",
    "# new node added, node name correct\n",
    "tree = add_interval(tree, root, ('gene_H',16,55))\n",
    "print('\\n--- test1: node id correct? ---')\n",
    "print(f'expected=True, actual={True if 16 in tree.nodes else False}')\n",
    "\n",
    "# new node parent correct\n",
    "print('\\n--- test2: parent of new node is correct? ---')\n",
    "print(f'expected=20, actual={list(tree.predecessors(16))[0]}')\n",
    "\n",
    "# new node attributes correct\n",
    "print('\\n--- test3: new node attributes are correct? ---')\n",
    "print(f'expected: gene_name=gene_H, end=55, max_end=55')\n",
    "node = tree.nodes[16]\n",
    "print(f'actual:   gene_name={node[\"gene_name\"]}, end={node[\"end\"]}, max_end={node[\"max_end\"]}')\n",
    "\n",
    "# max_end attributes correct\n",
    "print('\\n--- test4: max_end attributes are correct? ---')\n",
    "print('expected:')\n",
    "print(\"\"\"\\\n",
    "node=13, max_end=32\n",
    "node=10, max_end=18\n",
    "node=6, max_end=12\n",
    "node=11, max_end=18\n",
    "node=21, max_end=32\n",
    "node=20, max_end=55\n",
    "node=22, max_end=32\n",
    "node=16, max_end=55\\\n",
    "\"\"\")\n",
    "print('\\nactual:')\n",
    "for node in tree.nodes():\n",
    "    print(f'node={node}, max_end={tree.nodes[node][\"max_end\"]}')\n",
    "    "
   ]
  },
  {
   "cell_type": "markdown",
   "metadata": {
    "deletable": false,
    "editable": false,
    "nbgrader": {
     "cell_type": "markdown",
     "checksum": "4465549a6c7b2a0b6c97887b59d5d7b8",
     "grade": false,
     "grade_id": "Q4E-Q",
     "locked": true,
     "points": 2,
     "schema_version": 3,
     "solution": false,
     "task": true
    }
   },
   "source": [
    "\n",
    "### Question 4d (short answer)\n",
    "\n",
    "(2 marks, max 200 words)\n",
    "\n",
    "<div class=\"alert alert-info\">\n",
    "\n",
    "How does the order in which items are added to a tree affect lookup time complexity? (2)\n",
    "    \n",
    "</div>\n"
   ]
  },
  {
   "cell_type": "markdown",
   "metadata": {},
   "source": [
    "<span style=\"color:rgb(17, 122, 121); font-family:Courier\"><i><b># -- GRADED CELL (2 marks) - complete this cell --</b></i></span>\n",
    "\n",
    "YOUR ANSWER HERE\n",
    "\n"
   ]
  },
  {
   "cell_type": "markdown",
   "metadata": {},
   "source": [
    "- It can affect the balancing properties of the tree. A tree that is balanced will have a lower lookup time complexity.\n",
    "- If the order of the items added is decreasing then it will make a binary searh tree becomes linear tree which can increase the lookup time complexity from O(logn) to O(n)"
   ]
  },
  {
   "cell_type": "markdown",
   "metadata": {
    "deletable": false,
    "editable": false,
    "nbgrader": {
     "cell_type": "markdown",
     "checksum": "5270c361ca77f66c49b29daa982dbc62",
     "grade": false,
     "grade_id": "cell-834d64b1188811b2",
     "locked": true,
     "schema_version": 3,
     "solution": false,
     "task": false
    }
   },
   "source": [
    "<div style=\"background: rgb(255,165,0); border: solid 1px rgb(129,199,132); padding: 10px;\">    \n",
    "<h1>END OF ASSIGNMENT</h1>\n",
    "</div>\n"
   ]
  },
  {
   "cell_type": "markdown",
   "metadata": {
    "deletable": false,
    "editable": false,
    "nbgrader": {
     "cell_type": "markdown",
     "checksum": "bbc1959edadb557741c9a061a032d8f7",
     "grade": false,
     "grade_id": "cell-710a51deb217e6d9",
     "locked": true,
     "schema_version": 3,
     "solution": false,
     "task": false
    }
   },
   "source": [
    "## Submitting\n",
    "\n",
    "Follow these steps to submit your assignment\n",
    "\n",
    "1) Before you turn this assignment in, make sure everything runs as expected. First, **restart the kernel** (in the menubar, select Kernel$\\rightarrow$Restart) and then **run all cells** (in the menubar, select Cell$\\rightarrow$Run All).\n",
    "\n",
    "2) Make sure you have filled in any place that says `YOUR CODE HERE` or \"YOUR ANSWER HERE\"\n",
    "\n",
    "3) **Clear all output** (in the menubar, select Kernel$\\rightarrow$Restart & Clear Output)\n",
    "\n",
    "4) Your completed notebook file containing all your answers must be turned in via LMS in `.ipynb` format.\n",
    "\n",
    "5) You must also submit a copy of this notebook in `html` format with the output cleared (see step 3).\n",
    "\n",
    "\n",
    "Your submission should include **only two** files with names formatted as: **Assignment_3.ipynb** and **Assignment_3.html**"
   ]
  }
 ],
 "metadata": {
  "kernelspec": {
   "display_name": "Python 3 (ipykernel)",
   "language": "python",
   "name": "python3"
  },
  "language_info": {
   "codemirror_mode": {
    "name": "ipython",
    "version": 3
   },
   "file_extension": ".py",
   "mimetype": "text/x-python",
   "name": "python",
   "nbconvert_exporter": "python",
   "pygments_lexer": "ipython3",
   "version": "3.9.6"
  }
 },
 "nbformat": 4,
 "nbformat_minor": 4
}
