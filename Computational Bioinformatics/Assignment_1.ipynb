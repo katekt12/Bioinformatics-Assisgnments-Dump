{
 "cells": [
  {
   "cell_type": "markdown",
   "metadata": {
    "deletable": false,
    "editable": false,
    "nbgrader": {
     "cell_type": "markdown",
     "checksum": "463d2dd6527f28ada106da4550dd2a96",
     "grade": false,
     "grade_id": "cell-30e4c45d614cd5dc",
     "locked": true,
     "schema_version": 3,
     "solution": false,
     "task": false
    }
   },
   "source": [
    "# COMP90016 - Assignment 1\n",
    "Version 1 Last edited 13/3/2024\n",
    "\n",
    "## Semester 1, 2024"
   ]
  },
  {
   "cell_type": "code",
   "execution_count": null,
   "metadata": {},
   "outputs": [],
   "source": [
    "NAME = \"Keziah Tikno\"\n",
    "\n",
    "ID = \"1319716\""
   ]
  },
  {
   "cell_type": "markdown",
   "metadata": {
    "deletable": false,
    "editable": false,
    "nbgrader": {
     "cell_type": "markdown",
     "checksum": "4ed22d2aa288652ce09decbd1201f2ea",
     "grade": false,
     "grade_id": "cell-951d0408d2c9e864",
     "locked": true,
     "schema_version": 3,
     "solution": false,
     "task": false
    }
   },
   "source": [
    "\n",
    "This assignment should be completed by each student individually. Make sure you read this entire document, and ask for help if anything is not clear. Any changes or clarifications to this document will be announced via the LMS.\n",
    "\n",
    "Please make sure you review the University's rules on academic integrity: https://academicintegrity.unimelb.edu.au/\n",
    "\n",
    "You submission must be your own work. Do not copy material from other students, from the internet or from AI tools. \n",
    "\n",
    "Your completed notebook file containing all your answers will be turned in via Canvas. Please also submit an HTML file with the output cleared.\n",
    "\n",
    "To complete the assignment, finish the tasks in this notebook.\n",
    "\n",
    "The tasks are a combination of writing your own code, interpreting the results and answering related short-answer questions.\n",
    "\n",
    "In some cases, we have provided test input and test output that you can use to try out your solutions. These tests are just samples and are **not** exhaustive - they may warn you if you've made a mistake, but they are not guaranteed to. It's up to you to decide whether your code is correct.\n",
    "\n",
    "**Remember to save your work early and often.**"
   ]
  },
  {
   "cell_type": "markdown",
   "metadata": {
    "deletable": false,
    "editable": false,
    "nbgrader": {
     "cell_type": "markdown",
     "checksum": "e8a4b1809fda2972fdb27facbc8bbb04",
     "grade": false,
     "grade_id": "cell-0fa64c11580f7a4b",
     "locked": true,
     "schema_version": 3,
     "solution": false,
     "task": false
    }
   },
   "source": [
    "## Marking\n",
    "\n",
    "Cells that must be completed to receive marks are clearly labelled. Some cells are code cells, in which you must complete the code to solve a problem. Others are markdown cells, in which you must write your answers to short-answer questions. \n",
    "\n",
    "Cells that must be completed to receive marks are labelled like this:\n",
    "\n",
    "`# -- GRADED CELL (1 mark) - complete this cell --`\n",
    "\n",
    "Some graded cells are code cells, in which you must complete the code to solve a problem. Other graded cells are markdown cells, in which you must write your answers to short-answer questions. \n",
    "\n",
    "You will see the following text in graded code cells:\n",
    "\n",
    "```\n",
    "# YOUR CODE HERE\n",
    "raise NotImplementedError()\n",
    "```\n",
    "\n",
    "***You must remove the `raise NotImplementedError()` line from the cell, and replace it with your solution.***\n",
    "\n",
    "Only add answers to graded cells. If you want to import a library or use a helper function, this must be included in a graded cell.\n",
    "\n",
    "Only graded cells will be marked.\n",
    "**Don't make changes outside graded cells, and don't add or remove cells from the notebook**.\n",
    "\n",
    ">Word limits, where stated, will be strictly enforced. Answers exceeding the limit **will not be marked**.\n",
    "\n",
    ">Run-time limits will be imposed for each coding question. The run-time of a code cell can be calculated by including `%time` at the top of your cell. Cells exceeding the run-time limit **will not be marked**. The run-time limits only apply to test cases that are included in this document.\n",
    "\n",
    "No marks are allocated to commenting in your code. We do however, encourage efficient and well-commented code.\n",
    "\n",
    "The total marks for the assignment add up to 100, and it will be worth 10% of your overall subject grade.\n",
    "\n",
    "Part 1: 35 marks\n",
    "\n",
    "Part 2: 35 marks\n",
    "\n",
    "Part 3: 30 marks\n"
   ]
  },
  {
   "cell_type": "markdown",
   "metadata": {
    "deletable": false,
    "editable": false,
    "nbgrader": {
     "cell_type": "markdown",
     "checksum": "a9473e65272804ef178ebec047dd77c3",
     "grade": false,
     "grade_id": "cell-55d3e13308159499",
     "locked": true,
     "schema_version": 3,
     "solution": false,
     "task": false
    }
   },
   "source": [
    "## Submitting\n",
    "\n",
    "Before you turn this assignment in, make sure everything runs as expected. First, **restart the kernel** (in the menubar, select Kernel$\\rightarrow$Restart) and then **run all cells** (in the menubar, select Cell$\\rightarrow$Run All).\n",
    "\n",
    "Make sure you fill in any place that says `YOUR CODE HERE` or \"YOUR ANSWER HERE\", as well as your name and student ID at the top of this notebook.\n",
    "\n",
    "\n",
    "Your completed notebook file containing all your answers must be turned in via LMS in `.ipynb` format.\n",
    "You must also submit a copy of this notebook in `html` format with the output cleared.\n",
    "You can do this by using the `clear all output` option in the menu.\n",
    "\n",
    "Your submission should include **only two** files with names formatted as: **Assignment_1.ipynb** and **Assignment_1.html**"
   ]
  },
  {
   "cell_type": "markdown",
   "metadata": {
    "deletable": false,
    "editable": false,
    "nbgrader": {
     "cell_type": "markdown",
     "checksum": "a4556c084136fbfdb9b0c1c247cefa1c",
     "grade": false,
     "grade_id": "cell-96effc84ad971c72",
     "locked": true,
     "schema_version": 3,
     "solution": false,
     "task": false
    }
   },
   "source": [
    "## Overview\n",
    "\n",
    "In this assignment, you will answer questions about working with short reads, sequence motifs and codon bias.\n",
    "\n",
    "You will use the `biopython` library in your functions. You may want to refer to sections of the `biopython` documentation for additional help (https://biopython.org/wiki/Documentation). Additional to `biopython` and standard Python 3 functions and methods, you may also use any other library we have used in Computational Genomics including `collections`, `numpy`, `pandas`, `math`, `itertools`, `seaborn` and `matplotlib`."
   ]
  },
  {
   "cell_type": "markdown",
   "metadata": {
    "deletable": false,
    "editable": false,
    "nbgrader": {
     "cell_type": "markdown",
     "checksum": "8101314e9f5923f52047b296d4b0011f",
     "grade": false,
     "grade_id": "cell-1011fc361fb89a68",
     "locked": true,
     "schema_version": 3,
     "solution": false,
     "task": false
    }
   },
   "source": [
    "## Part 1: Working with short reads"
   ]
  },
  {
   "cell_type": "markdown",
   "metadata": {
    "deletable": false,
    "editable": false,
    "nbgrader": {
     "cell_type": "markdown",
     "checksum": "e2a73028f92cebd1a469dd7b159213ae",
     "grade": false,
     "grade_id": "cell-f7aaadccf477cabd",
     "locked": true,
     "schema_version": 3,
     "solution": false,
     "task": false
    }
   },
   "source": [
    "### Setup"
   ]
  },
  {
   "cell_type": "code",
   "execution_count": null,
   "metadata": {
    "deletable": false,
    "editable": false,
    "nbgrader": {
     "cell_type": "code",
     "checksum": "493826d76fa6c9712e07546a0a7aeb78",
     "grade": false,
     "grade_id": "cell-f76b27ab0d81d326",
     "locked": true,
     "schema_version": 3,
     "solution": false,
     "task": false
    }
   },
   "outputs": [],
   "source": [
    "import os\n",
    "import requests\n",
    "from IPython.core.display import HTML\n",
    "\n",
    "# Function to get data. DO NOT MODIFY!\n",
    "def fetch_file(url, outpath='.'):\n",
    "    response = requests.get(url)\n",
    "    if response.status_code == 200:\n",
    "        print('File found!')\n",
    "        # Get the filename from the URL\n",
    "        filename = os.path.basename(url).split('?', 1)[0]\n",
    "        # Construct the filepath using the specified directory and filename\n",
    "        filepath = os.path.join(outpath, filename)\n",
    "        # Create the directory if it doesn't exist\n",
    "        if not os.path.exists(outpath):\n",
    "            print(f'Creating output dir: {outpath}')\n",
    "            os.makedirs(outpath)\n",
    "        # Check if the file already exists in the specified directory\n",
    "        if os.path.exists(filepath):\n",
    "            print(f'{filename} already exists in {outpath}. Skip download.')\n",
    "        else:\n",
    "            with open(filepath, 'wb') as f:\n",
    "                f.write(response.content)\n",
    "                f.close()\n",
    "            print(f'Saved to: {filepath}')\n",
    "    else:\n",
    "        print(f'File not found: Code {response.status_code}')"
   ]
  },
  {
   "cell_type": "code",
   "execution_count": null,
   "metadata": {
    "deletable": false,
    "editable": false,
    "nbgrader": {
     "cell_type": "code",
     "checksum": "8ffc45316f87a4f1d61ae50267db2e9a",
     "grade": false,
     "grade_id": "cell-26495df15e96e64c",
     "locked": true,
     "schema_version": 3,
     "solution": false,
     "task": false
    }
   },
   "outputs": [],
   "source": [
    "# Make the notebook pretty\n",
    "HTML(requests.get('https://raw.githubusercontent.com/melbournebioinformatics/COMP90016/main/data/2023/style/custom.css').text)"
   ]
  },
  {
   "cell_type": "code",
   "execution_count": null,
   "metadata": {
    "deletable": false,
    "editable": false,
    "nbgrader": {
     "cell_type": "code",
     "checksum": "f046ade1e4f3ffbd0402ab5c8e896228",
     "grade": false,
     "grade_id": "cell-57a855c50b57da4d",
     "locked": true,
     "schema_version": 3,
     "solution": false,
     "task": false
    }
   },
   "outputs": [],
   "source": [
    "# Fetch assignment data\n",
    "url = 'https://github.com/melbournebioinformatics/COMP90016/blob/main/data/2023/Assignment_01/data/comp90016_assignment_1.fastq.gz?raw=true'\n",
    "fetch_file(url)"
   ]
  },
  {
   "cell_type": "markdown",
   "metadata": {
    "deletable": false,
    "editable": false,
    "nbgrader": {
     "cell_type": "markdown",
     "checksum": "317925856ed33a4dc63f333ad3b40140",
     "grade": false,
     "grade_id": "cell-705f256556e1340f",
     "locked": true,
     "schema_version": 3,
     "solution": false,
     "task": false
    }
   },
   "source": [
    "First, we read in a read set from the `comp90016_assignment_1.fastq.gz` file. Note that converting a readset into a list of `biopython` objects makes it easier to handle."
   ]
  },
  {
   "cell_type": "code",
   "execution_count": null,
   "metadata": {
    "deletable": false,
    "editable": false,
    "nbgrader": {
     "cell_type": "code",
     "checksum": "7d2869bdec01ec45ea57bca88c632aa0",
     "grade": false,
     "grade_id": "cell-e23caa017b13db4c",
     "locked": true,
     "schema_version": 3,
     "solution": false,
     "task": false
    }
   },
   "outputs": [],
   "source": [
    "import gzip\n",
    "from Bio import SeqIO, SeqRecord, Seq"
   ]
  },
  {
   "cell_type": "code",
   "execution_count": null,
   "metadata": {
    "deletable": false,
    "editable": false,
    "nbgrader": {
     "cell_type": "code",
     "checksum": "933f4504eff38cfa511c5e8e7b57fa0e",
     "grade": false,
     "grade_id": "cell-4eae438b3d4c4cb3",
     "locked": true,
     "schema_version": 3,
     "solution": false,
     "task": false
    }
   },
   "outputs": [],
   "source": [
    "fname = 'comp90016_assignment_1.fastq.gz'\n",
    "\n",
    "# Our fastq file is compressed using gzip. \n",
    "# We must open it before SeqIO can read the contents\n",
    "with gzip.open(fname, \"rt\") as handle:\n",
    "    readset = list(SeqIO.parse(handle, \"fastq\"))\n",
    "# Check the first read in the readset to ensure file read correctly\n",
    "print(readset[0])"
   ]
  },
  {
   "cell_type": "markdown",
   "metadata": {
    "deletable": false,
    "editable": false,
    "nbgrader": {
     "cell_type": "markdown",
     "checksum": "1ced3b62d5a4ba11adc9e469ee43ea1e",
     "grade": false,
     "grade_id": "cell-097602685e91ae61",
     "locked": true,
     "schema_version": 3,
     "solution": false,
     "task": false
    }
   },
   "source": [
    "### Questions\n",
    "In the cells below, complete the following tasks:"
   ]
  },
  {
   "cell_type": "markdown",
   "metadata": {
    "deletable": false,
    "editable": false,
    "nbgrader": {
     "cell_type": "markdown",
     "checksum": "1020b43f5e5ec70067dbca5b3a6467e2",
     "grade": false,
     "grade_id": "Q-1-1-info",
     "locked": true,
     "schema_version": 3,
     "solution": false,
     "task": false
    }
   },
   "source": [
    "<div class=\"info\">\n",
    "<h3> Question 1.1 </h3>\n",
    "\n",
    "(5 marks)  \n",
    " \n",
    "<b>Challenge:</b> Write a Python function to compute the percentage of reads that are longer than n bases.\n",
    "\n",
    "- [ ] Input: a list of Bio.SeqRecord.SeqRecord objects, and a length value n.\n",
    "- [ ] Output: Return a floating-point number in the range 0 - 100, rounded to 2 decimal places.\n",
    "- [ ] Assume n is a positive integer.\n",
    "- [ ] If the input list is empty, return None.\n",
    "</div>"
   ]
  },
  {
   "cell_type": "code",
   "execution_count": null,
   "metadata": {
    "deletable": false,
    "nbgrader": {
     "cell_type": "code",
     "checksum": "943e5b97cf83176f3bd875c67af43375",
     "grade": false,
     "grade_id": "Q-1-1",
     "locked": false,
     "schema_version": 3,
     "solution": true,
     "task": false
    }
   },
   "outputs": [],
   "source": [
    "# GRADED CELL 1.1 (5 marks, max 1 min run-time)\n",
    "%time\n",
    "def percent_reads_len(reads, n):\n",
    "    \"\"\"\n",
    "    Compute the percentage of reads that are longer than n bases.  \n",
    "    Assume reads is a list of Bio.SeqRecord.SeqRecord objects containing DNA sequences. \n",
    "    Assume n is a positive integer.\n",
    "    Return a floating-point number in the range 0 - 100.\n",
    "    If the input list is empty, return None.\n",
    "    \"\"\"\n",
    "    \n",
    "    # YOUR CODE HERE\n",
    "    longer_reads = []\n",
    "\n",
    "    if len(reads) != 0:\n",
    "        for i in range(len(reads)):\n",
    "            read_length = len(reads[i])\n",
    "            if read_length > n:\n",
    "                longer_reads.append(reads[i])\n",
    "                \n",
    "        percentage = round(len(longer_reads) / len(reads) * 100, 2)\n",
    "        \n",
    "    else:\n",
    "        return None\n",
    "\n",
    "    return percentage"
   ]
  },
  {
   "cell_type": "code",
   "execution_count": null,
   "metadata": {},
   "outputs": [],
   "source": [
    "# Test your function in this cell\n",
    "# First we will create a list of dummy reads\n",
    "demo_reads_a = [SeqRecord.SeqRecord(Seq.Seq('ATATA'), 'ERR024571.2', '', ''),\n",
    "             SeqRecord.SeqRecord(Seq.Seq('GCGCGCGC'), 'ERR024571.2', '', '')]\n",
    "\n",
    "print(percent_reads_len(demo_reads_a, 5)) # should return 50.0\n",
    "\n",
    "print(percent_reads_len(readset, 72))"
   ]
  },
  {
   "cell_type": "code",
   "execution_count": null,
   "metadata": {
    "deletable": false,
    "editable": false,
    "nbgrader": {
     "cell_type": "code",
     "checksum": "98d1ca915a13843141f1b6245f61264d",
     "grade": true,
     "grade_id": "T-1-1",
     "locked": true,
     "points": 5,
     "schema_version": 3,
     "solution": false,
     "task": false
    }
   },
   "outputs": [],
   "source": [
    "# --- AUTOGRADING CELL DO NOT EDIT ----\n"
   ]
  },
  {
   "cell_type": "markdown",
   "metadata": {
    "deletable": false,
    "editable": false,
    "nbgrader": {
     "cell_type": "markdown",
     "checksum": "b41a206f0161e6357b6e2897706af847",
     "grade": false,
     "grade_id": "Q-1-2-info",
     "locked": true,
     "schema_version": 3,
     "solution": false,
     "task": false
    }
   },
   "source": [
    "<div class=\"info\">\n",
    "\n",
    "<h3> Question 1.2 </h3>\n",
    "\n",
    "(10 marks)\n",
    "\n",
    "Suppose quality control metrics indicated that the bases on the 3' end of the reads were of unacceptable base quality.\n",
    "    \n",
    "<b>Challenge:</b> Write a Python function that trims a specified number of bases from the 3' end of reads in a list of reads, removes trimmed reads below a specified length threshold, and returns the new readset as list of SeqRecord objects.\n",
    "\n",
    "- [ ] Input:  \n",
    "    - reads = a list of SeqRecord objects\n",
    "    - trim_len = number of bases to remove (int)\n",
    "    - min_length = Minimum length threshold (int)\n",
    "- [ ] Remove any read where trim is greater than or equal to the read length.\n",
    "- [ ] Remove n bases from the 3' end of each read.\n",
    "- [ ] Remove any read that is *shorter* than min_length bases long after trimming.\n",
    "- [ ] Return list of trimmed reads\n",
    "- [ ] If the input list is empty, return None.\n",
    "- [ ] If no reads remain after trimming return an empty list\n",
    "    \n",
    "Assumptions:\n",
    "- [ ] Assume reads is list of Bio.SeqRecord.SeqRecord objects, each object contains a sequence that is a Bio.Seq.Seq object.   \n",
    "- [ ] Assume trim and min_length are positive integers.\n",
    "\n",
    "\n",
    "</div>"
   ]
  },
  {
   "cell_type": "code",
   "execution_count": null,
   "metadata": {
    "deletable": false,
    "nbgrader": {
     "cell_type": "code",
     "checksum": "4eb1614e74f87c1e2a60870799c5f209",
     "grade": false,
     "grade_id": "Q-1-2",
     "locked": false,
     "schema_version": 3,
     "solution": true,
     "task": false
    }
   },
   "outputs": [],
   "source": [
    "# GRADED CELL 1.2 (10 marks, max 1 min run-time)\n",
    "%time\n",
    "def preprocess_reads(reads, trim_len, min_length):\n",
    "    \"\"\"\n",
    "    Remove any read where trim is greater than or equal to the read length.\n",
    "    Remove trim bases from the 3' end of each read.\n",
    "    Remove any read that is shorter than min_length bases long after trimming.\n",
    "    Assume trim and min_length are positive integers.\n",
    "    Assume reads is list of Bio.SeqRecord.SeqRecord objects.\n",
    "    If the input list is empty, return None.\n",
    "    Return the processed readset as a list of Bio.SeqRecord.SeqRecord objects.\n",
    "    \"\"\"\n",
    "\n",
    "    # YOUR CODE HERE\n",
    "    filtered_reads = []\n",
    "\n",
    "    if len(reads) != 0:\n",
    "        for read in range(len(reads)):\n",
    "\n",
    "            if trim_len < len(reads[read]):\n",
    "                sequence = reads[read].seq[:len(reads[read])-trim_len]\n",
    "\n",
    "                if len(sequence) >= min_length:\n",
    "                    filtered_reads.append(sequence)\n",
    "\n",
    "    else:\n",
    "        return None\n",
    "            \n",
    "    return filtered_reads"
   ]
  },
  {
   "cell_type": "code",
   "execution_count": null,
   "metadata": {},
   "outputs": [],
   "source": [
    "# Test your function in this cell\n",
    "demo_reads_b = [SeqRecord.SeqRecord(Seq.Seq('AA')), SeqRecord.SeqRecord(Seq.Seq('GAAATCGG')), SeqRecord.SeqRecord(Seq.Seq('TTATTT'))]\n",
    "\n",
    "# Should output a list with just one SeqRecord object containing the sequence GAAATC\n",
    "print(preprocess_reads(demo_reads_b, 2, 5))\n",
    "# Experiment with different settings. Does your function behave as expected?\n",
    "len(preprocess_reads(readset, 15, 50))"
   ]
  },
  {
   "cell_type": "code",
   "execution_count": null,
   "metadata": {
    "deletable": false,
    "editable": false,
    "nbgrader": {
     "cell_type": "code",
     "checksum": "af09478f00b351429b09d8e01c9a50ce",
     "grade": true,
     "grade_id": "T-1-2",
     "locked": true,
     "points": 10,
     "schema_version": 3,
     "solution": false,
     "task": false
    }
   },
   "outputs": [],
   "source": [
    "# --- AUTOGRADING CELL DO NOT EDIT ----\n",
    "\n"
   ]
  },
  {
   "cell_type": "markdown",
   "metadata": {
    "deletable": false,
    "editable": false,
    "nbgrader": {
     "cell_type": "markdown",
     "checksum": "f78dce7d34f732a56ac30b2071b8dc2b",
     "grade": false,
     "grade_id": "Q-1-3",
     "locked": true,
     "points": 5,
     "schema_version": 3,
     "solution": false,
     "task": true
    }
   },
   "source": [
    "<div class=\"question\">\n",
    "<h3>Question 1.3</h3>\n",
    "    \n",
    "(5 marks, max 50 words)\n",
    "\n",
    "Suppose these reads were to be aligned to a reference genome. Explain the potential consequences of not removing very short reads.\n",
    "\n",
    "</div>"
   ]
  },
  {
   "cell_type": "markdown",
   "metadata": {},
   "source": [
    "#### -- GRADED CELL (5 marks) - complete this cell -- \n",
    "\n",
    "Short reads are prone to error sequencing and low-quality data which introduce noise in the downstream analysis (DEG). It's not uniquely matched to the origin location in the genome therefore, it caused mapping ambiguity. It's hard to deduce the biological relevance since it can either be meaningful sequences / merely artifacts."
   ]
  },
  {
   "cell_type": "markdown",
   "metadata": {
    "deletable": false,
    "editable": false,
    "nbgrader": {
     "cell_type": "markdown",
     "checksum": "72b29805b6d2e287f0a0f5946729e008",
     "grade": false,
     "grade_id": "Q-1-4-info",
     "locked": true,
     "points": 10,
     "schema_version": 3,
     "solution": false,
     "task": true
    }
   },
   "source": [
    "<div class=\"info\">\n",
    "    \n",
    "<h3>Question 1.4</h3>\n",
    "    \n",
    "(10 marks)\n",
    "\n",
    "<b>Challenge:</b> Write Python code to produce a histogram showing the distribution of read lengths in a set of reads.\n",
    "\n",
    "- [ ] Input: The \"readset\" list of Bio.SeqRecord.SeqRecord objects\n",
    "- [ ] Trim reads with settings: reads = readset, trim_len = 15 and min_length = 50.\n",
    "- [ ] The plot should be produced inline, in the Jupyter notebook. \n",
    "- [ ] Choose an appropriate bin-width.\n",
    "- [ ] Label your axes appropriately (include units).\n",
    "- [ ] Add a vertical line marking the median read length.\n",
    "\n",
    "Your code does not need to include a function.\n",
    "\n",
    "</div>"
   ]
  },
  {
   "cell_type": "code",
   "execution_count": null,
   "metadata": {},
   "outputs": [],
   "source": [
    "# Here's some Jupyter magic to render plots in the notebook\n",
    "%matplotlib inline\n",
    "\n",
    "# You may want to import some additional packages for building and formatting your plot (non-essential)\n",
    "# Un-comment as required\n",
    "import numpy as np\n",
    "import matplotlib.pyplot as plt\n",
    "#import seaborn\n",
    "from collections import Counter\n",
    "from numpy import median"
   ]
  },
  {
   "cell_type": "code",
   "execution_count": null,
   "metadata": {
    "deletable": false,
    "nbgrader": {
     "cell_type": "code",
     "checksum": "6293f4a9c60d5c2c8eb9b195478c19ae",
     "grade": false,
     "grade_id": "Q-1-4",
     "locked": false,
     "schema_version": 3,
     "solution": true,
     "task": false
    }
   },
   "outputs": [],
   "source": [
    "# GRADED CELL 1.4 (10 marks, max 1 min run-time)\n",
    "%time\n",
    "# Use this cell to make your histogram.\n",
    "\n",
    "# YOUR CODE HERE\n",
    "trimmed_reads = preprocess_reads(readset, 15, 50)\n",
    "hist_data = [len(trimmed_reads[r]) for r in range(len(trimmed_reads))]\n",
    "a = hist_data.count(61)\n",
    "plt.hist(hist_data, width=2)\n",
    "plt.title(\"Distribution of Trimmed Read Lengths in Bio.SeqRecord.SeqRecord objects\")\n",
    "plt.xlabel(\"Trimmed Read Lengths (bases)\")\n",
    "plt.ylabel(\"Frequency\")\n",
    "plt.xlim(0, max(hist_data) + 5)\n",
    "plt.ylim(0, a * 1.1)\n",
    "plt.axvline(x=np.median(hist_data),linewidth=1, color='r')\n",
    "plt.show()"
   ]
  },
  {
   "cell_type": "markdown",
   "metadata": {
    "deletable": false,
    "editable": false,
    "nbgrader": {
     "cell_type": "markdown",
     "checksum": "e893b2eed8d05c6e5f7152b4c85cb7a9",
     "grade": false,
     "grade_id": "Q-1-5",
     "locked": true,
     "points": 5,
     "schema_version": 3,
     "solution": false,
     "task": true
    }
   },
   "source": [
    "<div class=\"question\">\n",
    "\n",
    "<h3>Question 1.5</h3>\n",
    "\n",
    "(5 marks, max 50 words)\n",
    "\n",
    "Two different strains of a disease-causing DNA virus have been isolated on a fish farm. Both strains infect the fish, but one strain appears to cause more severe symptoms. A computational genomics expert suggests sequencing the whole genome of both strains with Illumina sequencing. Then, comparing the sequences to identify single-base differences (genetic variants) between the two strains. It is important that the sequencing is accurate so that the differences are likely to be genuine and not errors.\n",
    "    \n",
    "Explain why Illumina is an appropriate sequencing platform for this case study.\n",
    "    \n",
    "</div>\n",
    "\n",
    "    "
   ]
  },
  {
   "cell_type": "markdown",
   "metadata": {},
   "source": [
    "#### -- GRADED CELL (5 marks) - complete this cell -- \n",
    "\n",
    "Illumina is highly accurate (error rates below 1%). It has a high coverage depth that increases the confidence in variant calling. The high quality of base-calling and mapping software used in Illumina allows accurate detection of genetic variants between the two strains. Cost-effective which is important for sequencing two DNA."
   ]
  },
  {
   "cell_type": "markdown",
   "metadata": {
    "deletable": false,
    "editable": false,
    "nbgrader": {
     "cell_type": "markdown",
     "checksum": "39741a08f779239260b755b44c4b9a95",
     "grade": false,
     "grade_id": "cell-17188101c3556463",
     "locked": true,
     "schema_version": 3,
     "solution": false,
     "task": false
    }
   },
   "source": [
    "## Part 2: Sequence motifs\n",
    "Sequence motifs are short, recurring patterns in nucleic-acid sequences. Many are involved in important biological functions."
   ]
  },
  {
   "cell_type": "markdown",
   "metadata": {
    "deletable": false,
    "editable": false,
    "nbgrader": {
     "cell_type": "markdown",
     "checksum": "d2eee8341ca1f84868b2e3a0e9ff5d1a",
     "grade": false,
     "grade_id": "cell-a007168309140f9b",
     "locked": true,
     "schema_version": 3,
     "solution": false,
     "task": false
    }
   },
   "source": [
    "### Setup"
   ]
  },
  {
   "cell_type": "code",
   "execution_count": null,
   "metadata": {
    "deletable": false,
    "editable": false,
    "nbgrader": {
     "cell_type": "code",
     "checksum": "8f58d7422bdef947479b1825cd49e542",
     "grade": false,
     "grade_id": "cell-6bd0cb700c0c2719",
     "locked": true,
     "schema_version": 3,
     "solution": false,
     "task": false
    }
   },
   "outputs": [],
   "source": [
    "# Set up two DNA sequences to test your code on. Do not change these sequences.\n",
    "linear_seq = Seq.Seq('TTACAGTGATTATGAAAACTTTGCGGGGCATGGCTACGACTTGTTCAGCCACGTCCGAGGGCAGAAACCTCGAGGGGTTTGTATGTTCAGCTATCTTCTACCCATCCCCGGAGGTTAAGTACGAGGGGAGATGCGGAAGAGGCTCTCGATCATCCCGTGGGACATCAACCTTTCCCTTGATAAAGCACCCCGCTCGGGTA')\n",
    "circular_seq = Seq.Seq('TGGCAGAGAGAACGCCTTCTGAATTGTGCTATCCTTCGACCTTATCAAAGCTTGCTACCAATAATTAGGATTATTGCCTTGCGACAGACCTCCTACTCACACTGCCTCACATTGAGCTAGTCAGTGAGCGATTAGCTTGACCCGCTCTCTAGGGTCGCGAGTACGTGAGCTAGGGCTCCGGACTGGGCTATATAGTCGAG')\n",
    "\n",
    "# Set up a dictionary of sequence motifs. Do not change this dictionary.\n",
    "motif_dict = {'motif_a': Seq.Seq('TACAGTG'), \n",
    "              'motif_b': Seq.Seq('AGCTTGCT'), \n",
    "              'motif_c': Seq.Seq('ATATATAC'), \n",
    "              'motif_d': Seq.Seq('CGAGGGG'), \n",
    "              'motif_e': Seq.Seq('CGAGTG')}"
   ]
  },
  {
   "cell_type": "code",
   "execution_count": 2,
   "metadata": {},
   "outputs": [
    {
     "data": {
      "text/plain": [
       "'TTAGTGACATT'"
      ]
     },
     "execution_count": 2,
     "metadata": {},
     "output_type": "execute_result"
    }
   ],
   "source": [
    "a='TTACAGTGATTATGAAAACTTTGCGGGGCATG'\n",
    "a[10::-1]"
   ]
  },
  {
   "cell_type": "markdown",
   "metadata": {
    "deletable": false,
    "editable": false,
    "nbgrader": {
     "cell_type": "markdown",
     "checksum": "e703d4870acdd746ecd663acad6efb7b",
     "grade": false,
     "grade_id": "cell-99ef11aef8b24525",
     "locked": true,
     "schema_version": 3,
     "solution": false,
     "task": false
    }
   },
   "source": [
    "### Questions"
   ]
  },
  {
   "cell_type": "markdown",
   "metadata": {
    "deletable": false,
    "editable": false,
    "nbgrader": {
     "cell_type": "markdown",
     "checksum": "b5d2615b803913455a3beafcaf0e3b17",
     "grade": false,
     "grade_id": "Q-2-1-info",
     "locked": true,
     "schema_version": 3,
     "solution": false,
     "task": false
    }
   },
   "source": [
    "<div class=\"info\">\n",
    "\n",
    "<h3>Question 2.1</h3>\n",
    "\n",
    "(10 marks)\n",
    "\n",
    "<b>Challenge:</b> Write a Python function to count the number of times sequence motifs are present in a DNA sequence. \n",
    "\n",
    "- [ ] Input:\n",
    "    - A sequence to search for the specified motifs (Bio.Seq.Seq)\n",
    "    - A dictionary of motifs with motif names (str) as keys and Bio.Seq.Seq objects as values.     \n",
    "- [ ] Assume seq is a Bio.Seq.Seq object. \n",
    "- [ ] For each motif count the number of exact matches in the sequence.\n",
    "- [ ] Overlapping motifs should be considered.\n",
    "- [ ] Return a pandas DataFrame with each motif represented as a row. \n",
    "    - The first column should contain motif names (str),\n",
    "    - The second column should contain counts of exact matches (int). \n",
    "    - The column names should be “Motif” and “Counts”, in that order.\n",
    "- [ ] If either seq or motifs are empty, return None.\n",
    "\n",
    "</div>"
   ]
  },
  {
   "cell_type": "code",
   "execution_count": null,
   "metadata": {
    "deletable": false,
    "nbgrader": {
     "cell_type": "code",
     "checksum": "f3d6c3b902fbe51696fcd26963482839",
     "grade": false,
     "grade_id": "Q-2-1",
     "locked": false,
     "schema_version": 3,
     "solution": true,
     "task": false
    }
   },
   "outputs": [],
   "source": [
    "# GRADED CELL Question 2.1 (10 marks, max 1 min run-time)\n",
    "%time\n",
    "import pandas as pd\n",
    "\n",
    "def motif_count(seq, motifs):\n",
    "    \"\"\"\n",
    "    Count the number of times sequence motifs are present in a DNA sequence. \n",
    "    Overlapping motifs should be considered.\n",
    "    Assume motifs is a dictionary with motif names as strings for keys and Bio.Seq.Seq objects for values. \n",
    "    Assume seq is an Bio.Seq.Seq object. \n",
    "    Return a pandas DataFrame with each motif represented as a row. \n",
    "    The first column should contain motif names as strings, the second column should contain integer counts of exact matches. \n",
    "    The column names should be “Motif” and “Counts”, in that order. \n",
    "    If either seq or motifs are empty, return None.\n",
    "    \"\"\"\n",
    "    \n",
    "   # YOUR CODE HERE\n",
    "    seq_matching_counts = {}\n",
    "    \n",
    "    if len(seq) != 0 and len(motifs) != 0:\n",
    "        for motif in motifs:\n",
    "            seq_matching_counts[motif] = 0\n",
    "            \n",
    "            for base in range(len(seq) - len(motifs[motif]) + 1):\n",
    "                kmer = seq[base:base+len(motifs[motif])]\n",
    "\n",
    "                if kmer == motifs[motif]:\n",
    "                    seq_matching_counts[motif] += 1\n",
    "\n",
    "        df = pd.DataFrame([key for key in seq_matching_counts.items()], columns=['Motif', 'Counts'])\n",
    "        \n",
    "        return df\n",
    "        \n",
    "    else:\n",
    "        return None"
   ]
  },
  {
   "cell_type": "code",
   "execution_count": null,
   "metadata": {},
   "outputs": [],
   "source": [
    "# ~~ Test your function in this cell ~~\n",
    "\n",
    "demo_seq = Seq.Seq('GTTGGATTCATGAAAGA')\n",
    "demo_motifs = {'motif_a': Seq.Seq('GTTG'), 'motif_b': Seq.Seq('AAAA')}\n",
    "\n",
    "# Should output a pandas dataframe with 2 rows and 2 columns. Row 1: motif_a, 1. Row 2: motif_b, 0\n",
    "# Note: The rows are NOT nammed in this output.\n",
    "'''\n",
    "     Motif  Counts\n",
    "0  motif_a       1\n",
    "1  motif_b       0\n",
    "'''\n",
    "print(motif_count(demo_seq, demo_motifs)) \n",
    "\n",
    "# Test on linear seq\n",
    "print(motif_count(linear_seq, motif_dict))\n"
   ]
  },
  {
   "cell_type": "code",
   "execution_count": null,
   "metadata": {
    "deletable": false,
    "editable": false,
    "nbgrader": {
     "cell_type": "code",
     "checksum": "c4f937e28e1ebf8da8206fe5f08a37d3",
     "grade": true,
     "grade_id": "T-2-1",
     "locked": true,
     "points": 10,
     "schema_version": 3,
     "solution": false,
     "task": false
    }
   },
   "outputs": [],
   "source": [
    "# --- AUTOGRADING CELL DO NOT EDIT ----\n",
    "\n",
    "\n"
   ]
  },
  {
   "cell_type": "markdown",
   "metadata": {
    "deletable": false,
    "editable": false,
    "nbgrader": {
     "cell_type": "markdown",
     "checksum": "9f4fd69fef4f452172a0459c8b20f906",
     "grade": false,
     "grade_id": "Q-2-2-info",
     "locked": true,
     "schema_version": 3,
     "solution": false,
     "task": false
    }
   },
   "source": [
    "<div class=\"info\">\n",
    "\n",
    "<h3>Question 2.2</h3>\n",
    "\n",
    "(15 marks)\n",
    "\n",
    "A colleague is working on sequence motifs in circular DNA molecules. Circular DNA molecules can also be stored in FASTQ files and Bio.Seq.Seq objects but care must be taken when programming so that the final base is treated as though it is adjacent to the first base. You decide to help your colleague by enhancing your function from 2.1\n",
    "\n",
    "<b>Challenge:</b> Write a Python function to count the number of times sequence motifs are present in a circular DNA sequence. \n",
    "\n",
    "The function should count the number of exact matches AND the number of near misses. A near miss is defined as a sequence that is the same length as a sequence motif but has a single base mismatch. \n",
    "    \n",
    "    \n",
    "- [ ] Input:\n",
    "    - Assume motifs is a dictionary with motif names as strings for keys and Bio.Seq.Seq objects for values.\n",
    "    - Assume seq_circular is an Bio.Seq.Seq object. \n",
    "- [ ] For each mofif count exact matches and near miss matches (where the target seq has 1 mismatch with the query motif)\n",
    "- [ ] Treat the input sequence as circular. The last base is followed by the first base.\n",
    "- [ ] Overlapping motifs should be considered separately.\n",
    "- [ ] Return a pandas DataFrame with each motif represented as a row. \n",
    "    - The first column should contain motif names as strings,\n",
    "    - The second column should contain integer counts of exact matches, \n",
    "    - The third column should contain integer counts of near misses. \n",
    "    - The column names should be “Motif”, “Match_counts” and \"Near_miss_counts\". In that order.\n",
    "- [ ] If either of seq_circular or motifs are empty, return None.\n",
    "    \n",
    "</div>"
   ]
  },
  {
   "cell_type": "code",
   "execution_count": null,
   "metadata": {
    "deletable": false,
    "editable": false,
    "nbgrader": {
     "cell_type": "code",
     "checksum": "b5ffff553605bedaa7f6bb8a798c5693",
     "grade": false,
     "grade_id": "cell-747c91482faa7c41",
     "locked": true,
     "schema_version": 3,
     "solution": false,
     "task": false
    }
   },
   "outputs": [],
   "source": [
    "# Import additional library\n",
    "from collections import Counter \n",
    "\n",
    "# Helper function\n",
    "# Use this to identify near miss instances of a reference motif i.e. containing a single base mismatch\n",
    "def hamming_dist(s1, s2):\n",
    "    \"\"\"\n",
    "    A helper function to calculate the hamming distance between two sequences.\n",
    "    Assume the input sequences are strings.\n",
    "    They should be of equal length in order to calculate hamming distance\n",
    "    \"\"\"\n",
    "    assert len(s1) == len(s2)\n",
    "    return sum(c1 != c2 for c1, c2 in zip(s1, s2))"
   ]
  },
  {
   "cell_type": "code",
   "execution_count": null,
   "metadata": {
    "deletable": false,
    "nbgrader": {
     "cell_type": "code",
     "checksum": "fcff2a60439b2fd77257a25cfd402f5c",
     "grade": false,
     "grade_id": "Q-2-2",
     "locked": false,
     "schema_version": 3,
     "solution": true,
     "task": false
    }
   },
   "outputs": [],
   "source": [
    "# GRADED CELL Question 2.2 (15 marks, max 1 min run-time)\n",
    "%time\n",
    "def motif_count_circular(seq, motifs):\n",
    "    \"\"\"\n",
    "    Count the number of times sequence motifs are present in a circular DNA sequence. \n",
    "    Counts the number of exact matches and the number of near misses. \n",
    "    A near miss is defined as a sequence that is the same length a sequence motif but has a single base mismatch. \n",
    "    Assume motifs is a dictionary with motif names as strings for keys and Bio.Seq.Seq objects for values. \n",
    "    Assume seq_circular is an Bio.Seq.Seq object. \n",
    "    Return a pandas DataFrame with each motif represented as a row. \n",
    "    The first column should contain motif names as strings, the second column should contain integer counts of exact matches, the third column should contain integer counts of near misses.\n",
    "    The column names should be “Motif”, “Match_counts” and \"Near_miss_counts\".\n",
    "    If either seq_circular or motifs are empty, return None.\n",
    "    \"\"\"\n",
    "\n",
    "    # YOUR CODE HERE\n",
    "    seq_matching_counts = {'Motif':0, 'Match_counts':0, 'Near_miss_counts':0}\n",
    "    \n",
    "    motifs_keys = [x for x in motifs.keys()]\n",
    "    seq_matching_counts['Motif'] = motifs_keys\n",
    "    \n",
    "    match = []\n",
    "    near_miss = []\n",
    "    \n",
    "    if len(seq) != 0 and len(motifs) != 0:\n",
    "        \n",
    "        for motif in motifs:\n",
    "            m_counts = 0\n",
    "            nm_counts = 0\n",
    "            \n",
    "            for base in range(len(seq)):\n",
    "                kmer = seq[base:base+len(motifs[motif])]\n",
    "                \n",
    "                if base < (len(seq) - len(motifs[motif])):\n",
    "                    if hamming_dist(kmer, motifs[motif]) == 0:\n",
    "                        m_counts += 1\n",
    "                    \n",
    "                    elif hamming_dist(kmer, motifs[motif]) == 1:\n",
    "                        nm_counts += 1\n",
    "\n",
    "                else:\n",
    "                    overlap_seq = seq[base:] + seq[:len(motifs[motif]) - len(seq[base:])]\n",
    "                    \n",
    "                    if hamming_dist(overlap_seq, motifs[motif]) == 0:\n",
    "                        m_counts += 1\n",
    "                    \n",
    "                    elif hamming_dist(overlap_seq, motifs[motif]) == 1:\n",
    "                        nm_counts += 1\n",
    "    \n",
    "            match.append(m_counts)\n",
    "            near_miss.append(nm_counts)\n",
    "    \n",
    "        seq_matching_counts['Match_counts'] = match\n",
    "        seq_matching_counts['Near_miss_counts'] = near_miss\n",
    "        \n",
    "        df = pd.DataFrame.from_dict(seq_matching_counts)\n",
    "    \n",
    "        return df\n",
    "        \n",
    "    else:\n",
    "        return None"
   ]
  },
  {
   "cell_type": "code",
   "execution_count": null,
   "metadata": {},
   "outputs": [],
   "source": [
    "# Test your function in this cell\n",
    "# Should output a pandas dataframe with 2 rows and 3 columns that looks like this:\n",
    "'''\n",
    "     Motif  Match_counts  Near_miss_counts\n",
    "0  motif_a             1                 0\n",
    "1  motif_b             0                 3\n",
    "'''\n",
    "print(motif_count_circular(demo_seq, demo_motifs)) \n",
    "\n",
    "# Consider function behaviour on a circular sequence\n",
    "print(motif_count_circular(circular_seq, motif_dict))\n"
   ]
  },
  {
   "cell_type": "code",
   "execution_count": null,
   "metadata": {
    "deletable": false,
    "editable": false,
    "nbgrader": {
     "cell_type": "code",
     "checksum": "db48e4879c4ce3449a34d649e41fe2c0",
     "grade": true,
     "grade_id": "T-2-2",
     "locked": true,
     "points": 15,
     "schema_version": 3,
     "solution": false,
     "task": false
    }
   },
   "outputs": [],
   "source": [
    "# --- AUTOGRADING CELL DO NOT EDIT ----\n"
   ]
  },
  {
   "cell_type": "markdown",
   "metadata": {
    "deletable": false,
    "editable": false,
    "nbgrader": {
     "cell_type": "markdown",
     "checksum": "8a8ab50ed6e288a1cf95b3263f0b7837",
     "grade": false,
     "grade_id": "Q-2-3",
     "locked": true,
     "points": 10,
     "schema_version": 3,
     "solution": false,
     "task": true
    }
   },
   "source": [
    "<div class=\"question\">\n",
    "\n",
    "<h3>Question 2.3</h3>\n",
    "\n",
    "(10 marks, max 100 words)\n",
    "\n",
    "Your colleague plans on running their analyses using the Spartan high-performace computing system. They ask your advice on requesting job resources. \n",
    "    \n",
    "What could be the effect of requesting insufficient memory for a job? What could be the effect of requesting much more memory than is required for a job?\n",
    "    \n",
    "</div>\n",
    "\n",
    "    "
   ]
  },
  {
   "cell_type": "markdown",
   "metadata": {},
   "source": [
    "#### -- GRADED CELL (10 marks) - complete this cell -- \n",
    "\n",
    "Insufficient memory will cause the job fail to execute or terminate prematurely due to memory exhaustion. This wasted computational resources and time. It can cause resource contention and stability issues with other jobs running on the same computer nodes, results in overall decreased system throughput or crashes and delays job execution. \n",
    "\n",
    "Excessive memory leads to resources waste as the allocated memory remains unused by the job. It wasted money and time for the following capacity to be available. It causes resource contention because other jobs can't access the excess memory, delaying job execution and potential bottlenecks in the system. "
   ]
  },
  {
   "cell_type": "markdown",
   "metadata": {
    "deletable": false,
    "editable": false,
    "nbgrader": {
     "cell_type": "markdown",
     "checksum": "510aba5333ff086a46a9736d0066d721",
     "grade": false,
     "grade_id": "cell-1543aef1d5fb074b",
     "locked": true,
     "schema_version": 3,
     "solution": false,
     "task": false
    }
   },
   "source": [
    "## Part 3: Codon bias"
   ]
  },
  {
   "cell_type": "markdown",
   "metadata": {
    "deletable": false,
    "editable": false,
    "nbgrader": {
     "cell_type": "markdown",
     "checksum": "92d44131e4398be65f9c695ac0be0bde",
     "grade": false,
     "grade_id": "cell-67c6f5bd80774f35",
     "locked": true,
     "schema_version": 3,
     "solution": false,
     "task": false
    }
   },
   "source": [
    "### Setup\n",
    "The frequency of occurrence of synonymous codons in coding DNA differs between species. Some codons that encode a particular amino acid are common, while other are rare. This is referred to as codon bias.\n",
    "\n",
    "Each codon requires a different tRNA. The efficiency of translation is influenced by the availability of specific tRNAs. tRNA availability differs from one species to another."
   ]
  },
  {
   "cell_type": "markdown",
   "metadata": {
    "deletable": false,
    "editable": false,
    "nbgrader": {
     "cell_type": "markdown",
     "checksum": "e6fed4b45d625ce44c23d59a7b4e31aa",
     "grade": false,
     "grade_id": "cell-6f6f64dde5a9d607",
     "locked": true,
     "schema_version": 3,
     "solution": false,
     "task": false
    }
   },
   "source": [
    "### Questions"
   ]
  },
  {
   "cell_type": "markdown",
   "metadata": {
    "deletable": false,
    "editable": false,
    "nbgrader": {
     "cell_type": "markdown",
     "checksum": "be2770fb479688b3bda40f3dba77acca",
     "grade": false,
     "grade_id": "Q-3-1-info",
     "locked": true,
     "schema_version": 3,
     "solution": false,
     "task": false
    }
   },
   "source": [
    "<div class=\"info\">\n",
    "     \n",
    "<h3>Question 3.1</h3>\n",
    "\n",
    "(10 marks)\n",
    "\n",
    "<b>Challenge:</b> Write a Python function to calculate the codon usage frequencies from a set of DNA coding sequences. \n",
    "\n",
    "- [ ] Input: A list of DNA coding sequences (i.e CDS) as Bio.Seq.Seq objects\n",
    "- [ ] Assume the CDS sequences begin with a start codon, end with an in-frame stop codon and do not contain any introns. \n",
    "- [ ] Use the standard genetic code.\n",
    "- [ ] Return a 2D dictionary, where the keys are one-letter amino-acid strings and the values are dictionaries containing codon frequencies. The inner dictionaries must have DNA codon strings as keys and codon usage frequencies as values (floating-point numbers between 0 and 1). \n",
    "- [ ] If coding_seqs is of length 0, return None.\n",
    "- [ ] If no instances of any codon for an amino acid are observed then omit that amino acid from the output dict.\n",
    "\n",
    "Note: The \"codon usage frequency\" for a codon is the total number of occurrences of that codon divided by the total number of codons that code for the same amino acid. \n",
    "    \n",
    "</div>"
   ]
  },
  {
   "cell_type": "code",
   "execution_count": null,
   "metadata": {
    "deletable": false,
    "nbgrader": {
     "cell_type": "code",
     "checksum": "235e4d0d0954b06343517c49c02147d3",
     "grade": false,
     "grade_id": "Q-3-1",
     "locked": false,
     "schema_version": 3,
     "solution": true,
     "task": false
    }
   },
   "outputs": [],
   "source": [
    "# GRADED CELL Question 3.1 (10 marks, max 1 min run-time)\n",
    "%time\n",
    "from collections import Counter\n",
    "from collections import defaultdict\n",
    "\n",
    "def codon_usage(coding_seqs):\n",
    "    \"\"\"\n",
    "    Calculate the codon usage frequencies from a set of DNA coding sequences. \n",
    "    Assume coding_seqs is a list of Bio.Seq.Seq objects. \n",
    "    Assume the DNA sequences begin with a start codon, end with an in-frame stop codon and do not contain any introns. \n",
    "    Use the standard genetic code.\n",
    "    Return a 2D dictionary, where the keys are one-letter amino-acid strings and the values are dictionaries containing codon frequencies. \n",
    "    The inner dictionaries must have DNA codon strings as keys and codon usage frequencies as values (floating-point numbers between 0 and 1). \n",
    "    The codon usage frequency for a codon is the total number of occurrences of that codon divided by the total number of codons that code for the same amino acid. \n",
    "    If coding_seqs is of length 0, return None.\n",
    "    \"\"\"\n",
    "    \n",
    "   # YOUR CODE HERE\n",
    "    my_dict = {}\n",
    "    inter_dict = {}\n",
    "    \n",
    "    for seq in range(len(coding_seqs)):\n",
    "        \n",
    "        for codon in range(0, len(coding_seqs[seq]), 3):\n",
    "            codons = coding_seqs[seq][codon:codon+3]\n",
    "            protein = codons.translate()\n",
    "            \n",
    "            if protein not in inter_dict:\n",
    "                inter_dict[str(protein)] = [str(codons)]\n",
    "            else:\n",
    "                inter_dict[str(protein)].append(str(codons))\n",
    "\n",
    "    for key in inter_dict:\n",
    "        my_dict[key] = dict(Counter(inter_dict[key]))\n",
    "\n",
    "        for key_codon in my_dict[key]:\n",
    "            my_dict[key][key_codon] = my_dict[key][key_codon]/len(inter_dict[key])\n",
    "\n",
    "    return my_dict"
   ]
  },
  {
   "cell_type": "code",
   "execution_count": null,
   "metadata": {},
   "outputs": [],
   "source": [
    "# ~~ Test your function in this cell ~~\n",
    "demo_seqs = [Seq.Seq('ATGTCGTAA'), Seq.Seq('ATGTCCAAATAG')]\n",
    "\n",
    "sequence_a = Seq.Seq('ATGGCTGAAGCCGCATCCCCAGCTTTTATAGAGTATCTCCCACGATCTGACCCGTTGCTCTGTATTATACACAAGGTTGGAGTCGGATGTGAGTCTTCTCACCGGAGACCCAAGACATAG')\n",
    "sequence_b = Seq.Seq('ATGGTTCTCCTTTGGATCTTATTCGGCAAAAGCATCGCGGCGTCACTAGCTAGTTACGTTTTGAGGACGCTCGCAGATTCTGCCAACCAATCTTATACGAAAATACGGAGGCACGCGTAA')\n",
    "sequence_c = Seq.Seq('ATGCTAGTGATCCCGTCGTGGGCTAGAGAGCGGCGAGAGTGGGGTTTGGAAATTCGCGACATTGAGCCAACTATGGCTAATGCCATGGGCGGATTATGGGGGTCACTCAGAACTGTATAA')\n",
    "sequence_d = Seq.Seq('ATGCTACTTACCAAGAGATATCTTCTTAATACACTGATCCATAACGTCATTTCGCGGCTGAGATGGTGGGTGCATGAGCAAGTAATTGTGACTCCGCGGGTTTCGCCAAAGCAAACCTAA')\n",
    "seqs = [sequence_a, sequence_b, sequence_c, sequence_d]\n",
    "\n",
    "# Should return {'M':{'ATG':1.0}, 'S':{'TCG':0.5, 'TCC':0.5}, 'K':{'AAA':1.0}, '*':{'TAA':0.5, 'TAG':0.5}}\n",
    "print(codon_usage(demo_seqs)) \n",
    "\n",
    "print(codon_usage(seqs))\n"
   ]
  },
  {
   "cell_type": "code",
   "execution_count": null,
   "metadata": {
    "deletable": false,
    "editable": false,
    "nbgrader": {
     "cell_type": "code",
     "checksum": "f87da65cabfead305af4b6ef79a99269",
     "grade": true,
     "grade_id": "T-3-1",
     "locked": true,
     "points": 10,
     "schema_version": 3,
     "solution": false,
     "task": false
    }
   },
   "outputs": [],
   "source": [
    "# --- AUTOGRADING CELL DO NOT EDIT ----\n"
   ]
  },
  {
   "cell_type": "markdown",
   "metadata": {
    "deletable": false,
    "editable": false,
    "nbgrader": {
     "cell_type": "markdown",
     "checksum": "18e4ff911f8c87abce79001924b47227",
     "grade": false,
     "grade_id": "Q-3-2",
     "locked": true,
     "points": 10,
     "schema_version": 3,
     "solution": false,
     "task": true
    }
   },
   "source": [
    "<div class=\"question\">\n",
    "    \n",
    "<h3>Question 3.2</h3>\n",
    "\n",
    "(10 marks, max 100 words)\n",
    "    \n",
    "RNA viruses infect cells and utilise the molecular machinery of their host cell for transcription and translation. This allows the virus to make more copies of themselves.\n",
    "    \n",
    "Explain why codon bias is an important factor in the potential transmission of RNA viruses between different species.\n",
    "\n",
    "</div>\n"
   ]
  },
  {
   "cell_type": "markdown",
   "metadata": {},
   "source": [
    "#### -- GRADED CELL (10 marks) - complete this cell -- \n",
    "\n",
    "Because RNA viruses need to adapt to the host's cellular machinery for efficient replication and translation. However, in organisms with limited tRNA (molecule that carries amino acid duing translation) diversity or abundance, codon bias may be more pronounced as the translation machinery tends to use the most abundant tRNA isoacceptors efficiently. This can lead to biased codon usage patterns, where certain codons are favoured over other. Thus, viruses need to adapt their codon usage to match the host's preferences to produce their own proteins to have successful transmissions to new host species."
   ]
  },
  {
   "cell_type": "markdown",
   "metadata": {
    "deletable": false,
    "editable": false,
    "nbgrader": {
     "cell_type": "markdown",
     "checksum": "eec95e7504ddd3adef688bb1b6e06e36",
     "grade": false,
     "grade_id": "Q-3-3-info",
     "locked": true,
     "points": 10,
     "schema_version": 3,
     "solution": false,
     "task": true
    }
   },
   "source": [
    "<div class=\"info\">\n",
    "    \n",
    "<h3>Question 3.3</h3>\n",
    "    \n",
    "(10 marks)\n",
    "\n",
    "<b>Challenge:</b> Write a Python function which takes as input a list of coding sequences and a single letter amino-acid identifier. The function should calculate a codon usage frequency dict (as per Q3.1) and then output a bar plot of the codon usage frequencies for the specified amino acid. Each bar represents a codon.\n",
    "\n",
    "- [ ] Input:\n",
    "    - Assume coding_seqs is a list of Bio.Seq.Seq objects. \n",
    "    - Assume the DNA sequences begin with a start codon, end with an in-frame stop codon and do not contain any introns. \n",
    "    - Single letter amino acid identifier (str)\n",
    "- [ ] Use the standard genetic code\n",
    "- [ ] The codon usage frequency for a codon is the total number of occurrences of that codon divided by the total number of codons that code for the same amino acid. \n",
    "- [ ] If no codons for the specified AA are found in the CDS list, return None.\n",
    "- [ ] If coding_seqs is of length 0, return None.\n",
    "- [ ] Output: Generate a bar plot of codon usage frequency for the specified amino acid.\n",
    "    \n",
    "\n",
    "You may use your function from question 3.1 in your solution. \n",
    "    \n",
    "Your function should produce a bar plot inline with appropriate labels, including the codon sequences and the amino acid encoded.\n",
    "    \n",
    "</div>"
   ]
  },
  {
   "cell_type": "code",
   "execution_count": null,
   "metadata": {},
   "outputs": [],
   "source": [
    "# Here's some Jupyter magic to render plots in the notebook\n",
    "%matplotlib inline\n",
    "\n",
    "# You may want to import some additional packages for building and formatting your plot (non-essential)\n",
    "# Un-comment as required\n",
    "import numpy as np\n",
    "import matplotlib.pyplot as plt\n",
    "#import seaborn\n",
    "from collections import Counter"
   ]
  },
  {
   "cell_type": "code",
   "execution_count": null,
   "metadata": {
    "deletable": false,
    "nbgrader": {
     "cell_type": "code",
     "checksum": "e54c7ffabba70d5d87398633db103884",
     "grade": false,
     "grade_id": "Q-3-3",
     "locked": false,
     "schema_version": 3,
     "solution": true,
     "task": false
    }
   },
   "outputs": [],
   "source": [
    "# GRADED CELL 3.3 (10 marks, max 1 min run-time)\n",
    "%time\n",
    "def codon_usage_plot(coding_seqs, aa):\n",
    "    \"\"\"\n",
    "    Create a bar plot of the codon usage frequencies for a specific amino acid from a set of DNA coding sequences.  \n",
    "    Assume coding_seqs is a list of Bio.Seq.Seq objects. \n",
    "    Assume the DNA sequences begin with a start codon, end with an in-frame stop codon and do not contain any introns.  \n",
    "    Assume aa is a one-letter amino acid code.\n",
    "    Use the standard genetic code.\n",
    "    The codon usage frequency for a codon is the total number of occurrences of that codon divided by the total number of codons that code for the same amino acid. \n",
    "    If coding_seqs is of length 0, return None.\n",
    "    If there are no codons encoding aa in coding_seqs, return None.\n",
    "    \"\"\"\n",
    "    \n",
    "    # YOUR CODE HERE\n",
    "    freq_dict = codon_usage(coding_seqs)\n",
    "\n",
    "    if len(coding_seqs) != 0 and len(aa) != 0 and aa in freq_dict:\n",
    "        codons = freq_dict[aa].keys()\n",
    "        freq = freq_dict[aa].values()\n",
    "    \n",
    "        plt.bar(codons, freq, width = 0.5, align = 'center')\n",
    "        for x, y in zip(codons, freq):\n",
    "            plt.text(x, y, f'{y:.2f}\\n', ha='center', va='center')\n",
    "        plt.xlim(-0.9, len(codons) - 1 + 0.9)\n",
    "        plt.ylim(0, max(freq) * 1.1)\n",
    "        plt.xlabel(\"Codons\")\n",
    "        plt.ylabel(\"Frequencies\")\n",
    "        plt.title(\"Codon Usage Frequencies for Protein \" + aa)\n",
    "        \n",
    "    else:\n",
    "        return None\n",
    "\n",
    "    plt.show()"
   ]
  },
  {
   "cell_type": "code",
   "execution_count": null,
   "metadata": {},
   "outputs": [],
   "source": [
    "# Test your function in this cell\n",
    "\n",
    "# Should return a bar plot with two equal bars for 'TCG' and 'TCC'\n",
    "print(codon_usage_plot(demo_seqs, 'S')) \n",
    "\n",
    "# Should return None\n",
    "#print(codon_usage_plot(demo_seqs, 'P')) \n",
    "\n",
    "print(codon_usage_plot(seqs, 'L'))"
   ]
  },
  {
   "cell_type": "markdown",
   "metadata": {},
   "source": [
    "# END OF ASSIGNMENT"
   ]
  },
  {
   "cell_type": "markdown",
   "metadata": {},
   "source": [
    "## Submitting\n",
    "\n",
    "Before you turn this assignment in, make sure everything runs as expected. First, **restart the kernel** (in the menubar, select Kernel$\\rightarrow$Restart) and then **run all cells** (in the menubar, select Cell$\\rightarrow$Run All).\n",
    "\n",
    "Make sure you have filled in any place that says `YOUR CODE HERE` or \"YOUR ANSWER HERE\"\n",
    "\n",
    "\n",
    "Your completed notebook file containing all your answers must be turned in via LMS in `.ipynb` format.\n",
    "You must also submit a copy of this notebook in `html` format with the output cleared.\n",
    "You can do this by using the `clear all output` option in the menu.\n",
    "\n",
    "Your submission should include **only two** files with names formatted as: **Assignment_1.ipynb** and **Assignment_1.html**\n"
   ]
  }
 ],
 "metadata": {
  "kernelspec": {
   "display_name": "Python 3 (ipykernel)",
   "language": "python",
   "name": "python3"
  },
  "language_info": {
   "codemirror_mode": {
    "name": "ipython",
    "version": 3
   },
   "file_extension": ".py",
   "mimetype": "text/x-python",
   "name": "python",
   "nbconvert_exporter": "python",
   "pygments_lexer": "ipython3",
   "version": "3.9.6"
  }
 },
 "nbformat": 4,
 "nbformat_minor": 4
}
